{
  "cells": [
    {
      "cell_type": "markdown",
      "metadata": {
        "id": "view-in-github",
        "colab_type": "text"
      },
      "source": [
        "<a href=\"https://colab.research.google.com/github/Stanfording/small_GAN_testing/blob/main/64_cele_small_try.ipynb\" target=\"_parent\"><img src=\"https://colab.research.google.com/assets/colab-badge.svg\" alt=\"Open In Colab\"/></a>"
      ]
    },
    {
      "cell_type": "markdown",
      "source": [
        "\n",
        "\n",
        "# Goal:   Just get a small GAN running\n",
        "\n"
      ],
      "metadata": {
        "id": "7gaYl2YwkRiu"
      },
      "id": "7gaYl2YwkRiu"
    },
    {
      "cell_type": "markdown",
      "source": [
        "Get the preprocessed celebHD data from google drive"
      ],
      "metadata": {
        "id": "wwbluY6JOvnI"
      },
      "id": "wwbluY6JOvnI"
    },
    {
      "cell_type": "code",
      "source": [
        "# #Download the dataset\n",
        "# !wget --load-cookies /tmp/cookies.txt \"https://docs.google.com/uc?export=download&confirm=$(wget --quiet --save-cookies /tmp/cookies.txt --keep-session-cookies --no-check-certificate 'https://docs.google.com/uc?export=download&id=1KqBRLsB0CJuQGycvaPINwaPgcGDUsAxN' -O- | sed -rn 's/.*confirm=([0-9A-Za-z_]+).*/\\1\\n/p')&id=1KqBRLsB0CJuQGycvaPINwaPgcGDUsAxN\" -O \"proCeleba.zip\" && rm -rf /tmp/cookies.txt\n",
        "\n",
        "# #unzip the dataset\n",
        "# !unzip \"/content/proCeleba.zip\"\n",
        "\n",
        "# #remove unnecessary files\n",
        "# !rm -rf /content/__MACOSX"
      ],
      "metadata": {
        "id": "_ENY7QR3Y2ja"
      },
      "id": "_ENY7QR3Y2ja",
      "execution_count": 114,
      "outputs": []
    },
    {
      "cell_type": "markdown",
      "source": [
        "## Import libraries"
      ],
      "metadata": {
        "id": "K9N_s9aEj9Z6"
      },
      "id": "K9N_s9aEj9Z6"
    },
    {
      "cell_type": "markdown",
      "source": [
        "### Install oneflow framework"
      ],
      "metadata": {
        "id": "yPo56lU-pF49"
      },
      "id": "yPo56lU-pF49"
    },
    {
      "cell_type": "code",
      "source": [
        "#!python3 -m pip install -f https://release.oneflow.info oneflow==0.7.0+cu102"
      ],
      "metadata": {
        "id": "d3nJqSVSpI-W"
      },
      "id": "d3nJqSVSpI-W",
      "execution_count": 115,
      "outputs": []
    },
    {
      "cell_type": "code",
      "source": [
        "#import oneflow as t"
      ],
      "metadata": {
        "id": "sgDILgD5puGs"
      },
      "id": "sgDILgD5puGs",
      "execution_count": 116,
      "outputs": []
    },
    {
      "cell_type": "code",
      "source": [
        "from tqdm import tqdm\n",
        "\n",
        "from torch.autograd import Variable, grad\n",
        "import matplotlib.pyplot as plt\n",
        "import matplotlib.image as mpimg\n",
        "import numpy as np\n",
        "from PIL import Image\n",
        "import os\n",
        "import torch as t\n",
        "import torch.nn as nn\n",
        "from torchvision import datasets, transforms, utils\n",
        "from torch.utils.data import Dataset, DataLoader\n",
        "from skimage import io\n",
        "import copy"
      ],
      "metadata": {
        "id": "bqG8XadZj6x9"
      },
      "id": "bqG8XadZj6x9",
      "execution_count": 117,
      "outputs": []
    },
    {
      "cell_type": "markdown",
      "source": [
        "### Set initial hyperparameters"
      ],
      "metadata": {
        "id": "KXdK6tiOkGSK"
      },
      "id": "KXdK6tiOkGSK"
    },
    {
      "cell_type": "code",
      "source": [
        "\n",
        "batch_size = 64\n",
        "\n",
        "resolution = 16\n",
        "\n",
        "img_fold_dir_64_reso = f\"/content/proCeleba/{resolution}\"\n",
        "\n",
        "iteration = 200\n",
        "\n",
        "critic = 5          #Train generator 5 times per epoch\n",
        "\n",
        "eval_size = 25\n",
        "\n",
        "laten_space = 100\n",
        "\n",
        "updatD_step = critic - 4\n",
        "\n",
        "device = t.device('cuda' if t.cuda.is_available() else 'cpu')\n",
        "\n",
        "log_folder = \"log\"\n",
        "!mkdir \"log\"\n",
        "!mkdir \"log/checkpoint\"\n",
        "!mkdir \"log/sample\""
      ],
      "metadata": {
        "colab": {
          "base_uri": "https://localhost:8080/"
        },
        "id": "dAnYprRokGzv",
        "outputId": "99308a42-a4bf-4b9c-dec8-4703eb0dc393"
      },
      "id": "dAnYprRokGzv",
      "execution_count": 118,
      "outputs": [
        {
          "output_type": "stream",
          "name": "stdout",
          "text": [
            "mkdir: cannot create directory ‘log’: File exists\n",
            "mkdir: cannot create directory ‘log/checkpoint’: File exists\n",
            "mkdir: cannot create directory ‘log/sample’: File exists\n"
          ]
        }
      ]
    },
    {
      "cell_type": "markdown",
      "source": [
        "### Show me which gpu I am using."
      ],
      "metadata": {
        "id": "D1ief47pweis"
      },
      "id": "D1ief47pweis"
    },
    {
      "cell_type": "code",
      "source": [
        "!nvidia-smi -L"
      ],
      "metadata": {
        "colab": {
          "base_uri": "https://localhost:8080/"
        },
        "id": "Ix7mhx4twcAN",
        "outputId": "bcb60fb0-12ec-4a33-930d-6f4e09700229"
      },
      "id": "Ix7mhx4twcAN",
      "execution_count": 119,
      "outputs": [
        {
          "output_type": "stream",
          "name": "stdout",
          "text": [
            "GPU 0: Tesla P100-PCIE-16GB (UUID: GPU-fbc9b77a-d009-7001-6a9e-b01b0c01b631)\n"
          ]
        }
      ]
    },
    {
      "cell_type": "markdown",
      "source": [
        "### Pre loading the data"
      ],
      "metadata": {
        "id": "EyOdcipBkmFl"
      },
      "id": "EyOdcipBkmFl"
    },
    {
      "cell_type": "code",
      "source": [
        "# Define a data class for load unclassfied data.\n",
        "class Get_No_Classes_Img_Dataset(Dataset):\n",
        "    \n",
        "    def __init__(self, folder_dir, transform = None):\n",
        "        self.folder_dir = os.path.join(folder_dir)\n",
        "        self.transform = transform\n",
        "        self.image_list = os.listdir(self.folder_dir)\n",
        "        \n",
        "    def __len__(self):\n",
        "        return len(os.listdir(self.folder_dir))\n",
        "    \n",
        "    def __getitem__(self, index):\n",
        "        \n",
        "        image_name = self.image_list[index]\n",
        "        \n",
        "        image_dir = os.path.join(self.folder_dir, image_name)\n",
        "        \n",
        "        image = io.imread(image_dir)\n",
        "        \n",
        "        if (self.transform != None):\n",
        "            image = self.transform(image)\n",
        "        \n",
        "        return image\n",
        "    \n",
        "\n",
        "transform = transforms.ToTensor() #From Batch * Highth * Width * Channel to Batch * Channel * Highth * Width\n",
        "                                  #Which is what pytorch CNN can work with.\n",
        "\n",
        "dataset = Get_No_Classes_Img_Dataset(img_fold_dir_64_reso, transform = transform) \n",
        "                                                            # datasets[0].shape = (16,16,3)\n",
        "                                                            # len(datasets) = 28000\n",
        "total_data_len = len(dataset)\n",
        "                                                                                            \n",
        "#datasets_batched = DataLoader(datasets, batch_size = batch_size) #loader is renewed every epoch\n"
      ],
      "metadata": {
        "id": "_z16ZYcck-RJ"
      },
      "id": "_z16ZYcck-RJ",
      "execution_count": 120,
      "outputs": []
    },
    {
      "cell_type": "markdown",
      "source": [
        "\n",
        "\n",
        "```\n",
        "loader = iter(loader)\n",
        "print(next(loader).shape) \n",
        "```\n",
        "will output\n",
        "\n",
        "\n",
        "```\n",
        "torch.Size([batch_size, 3, resolution, resolution])\n",
        "```\n",
        "\n",
        "So data loading is ready.\n",
        "\n",
        "What's left is keep using \n",
        "\n",
        "```\n",
        "next(loader)\n",
        "```\n",
        "to access each batch of data\n"
      ],
      "metadata": {
        "id": "J8EFVPstlDHD"
      },
      "id": "J8EFVPstlDHD"
    },
    {
      "cell_type": "markdown",
      "source": [
        "### Visualize a picture"
      ],
      "metadata": {
        "id": "wHfRekRs3-iJ"
      },
      "id": "wHfRekRs3-iJ"
    },
    {
      "cell_type": "code",
      "source": [
        "from IPython.display import Image, display\n",
        "\n",
        "\n",
        "\n",
        "\n",
        "# Viewing one data sample function:\n",
        "def showOneImge(img, i, shouldSave):\n",
        "    \n",
        "    img = img.squeeze()\n",
        "    \n",
        "    img = transforms.ToPILImage()(img)\n",
        "    \n",
        "    plt.figure(figsize = (10,10), dpi = 10)\n",
        "    plt.axis('off')\n",
        "    \n",
        "    if shouldSave:\n",
        "      saveDir = f'{log_folder}/sample/{str(i).zfill(6)}.png'\n",
        "      plt.imshow(img)\n",
        "      plt.savefig(saveDir, bbox_inches='tight', pad_inches = 0)\n",
        "      img = Image(saveDir)\n",
        "      display(img)\n",
        "    else:\n",
        "      deleteDir = f\"{log_folder}/sample/Delete.png\"\n",
        "      plt.imshow(img)\n",
        "      plt.savefig(deleteDir, bbox_inches='tight', pad_inches = 0)\n",
        "      img = Image(deleteDir)\n",
        "      display(img)\n",
        "      !rm \"/content/log/sample/Delete.png\"\n",
        "    return \n",
        "\n",
        "''' Testing showOneImage'''\n",
        "# loader = DataLoader(datasets, batch_size = batch_size)\n",
        "\n",
        "# data = iter(loader)\n",
        "\n",
        "# oneSample = next(data)[0]\n",
        "\n",
        "# showOneImge(oneSample, 9999, True)\n",
        "\n",
        "\n",
        "def showMoreImages(img, num):\n",
        "\n",
        "  subplot_x = int(num ** (1/2))\n",
        "  subplot_y = num // subplot_x\n",
        "  plt.figure(figsize = (2,2))\n",
        "  for i in range(len(img)):\n",
        "      aimg = transforms.ToPILImage()(img[i])\n",
        "      plt.subplot(subplot_x, subplot_y, i+1)\n",
        "      plt.imshow(aimg)\n",
        "      plt.axis('off')\n"
      ],
      "metadata": {
        "id": "Mob2aJ6CSLGr"
      },
      "id": "Mob2aJ6CSLGr",
      "execution_count": 121,
      "outputs": []
    },
    {
      "cell_type": "markdown",
      "source": [
        "-------------------------------------------------\n",
        "\n",
        "### Now Designing the simple GAN network"
      ],
      "metadata": {
        "id": "xf_Ocw2onofc"
      },
      "id": "xf_Ocw2onofc"
    },
    {
      "cell_type": "code",
      "source": [
        "\"\"\"\n",
        "Define the generator\n",
        "\"\"\"\n",
        "\n",
        "class G(nn.Module):\n",
        "    \n",
        "    def __init__(self):\n",
        "        super().__init__()\n",
        "\n",
        "        self.laten = nn.Sequential(\n",
        "            nn.Linear(laten_space, 100),\n",
        "            nn.Linear(100, 500),\n",
        "            nn.Linear(500, 128 * resolution * resolution))\n",
        "\n",
        "        self.model = nn.Sequential(\n",
        "            nn.Conv2d(128, 64, (3, 3), padding = \"same\"),\n",
        "            nn.LeakyReLU(0.2),\n",
        "            nn.BatchNorm2d(64),\n",
        "            nn.Conv2d(64, 32, (3, 3), padding = \"same\"),\n",
        "            nn.LeakyReLU(0.2),\n",
        "            nn.Dropout2d(),\n",
        "            nn.BatchNorm2d(32),\n",
        "            nn.Conv2d(32, 3, (3, 3), padding = \"same\"),\n",
        "            nn.Sigmoid()\n",
        "        )\n",
        "        \n",
        "        \n",
        "        \n",
        "    def forward(self, theInput, batch_size):\n",
        "        \n",
        "        x = self.laten(theInput)\n",
        "        \n",
        "        x = t.reshape(x, (batch_size, 128, resolution, resolution))\n",
        "         \n",
        "        x = self.model(x)\n",
        "            \n",
        "            \n",
        "        return x\n",
        "    \n",
        "class D(nn.Module):\n",
        "    \n",
        "    def __init__(self):\n",
        "        super().__init__()\n",
        "        self.netWork = nn.Sequential(\n",
        "            nn.Conv2d(3, 64, (3, 3), padding = \"same\"),\n",
        "            nn.LeakyReLU(),\n",
        "            nn.Dropout2d(0.3),\n",
        "            nn.Conv2d(64, 128, (3, 3), stride = (3, 3)),\n",
        "            nn.BatchNorm2d(128),\n",
        "            nn.LeakyReLU(),\n",
        "            nn.Conv2d(128, 1, (3, 3), stride = (3, 3)),\n",
        "            nn.Flatten())\n",
        "        \n",
        "    def forward(self, theInput):\n",
        "        \n",
        "        return self.netWork(theInput)"
      ],
      "metadata": {
        "id": "e7L9uvqjnt8C"
      },
      "id": "e7L9uvqjnt8C",
      "execution_count": 122,
      "outputs": []
    },
    {
      "cell_type": "markdown",
      "source": [
        "### Testing the network"
      ],
      "metadata": {
        "id": "rtBpnwV7n7dA"
      },
      "id": "rtBpnwV7n7dA"
    },
    {
      "cell_type": "code",
      "source": [
        "\"\"\"\n",
        "\n",
        "Testing the net work:\n",
        "\n",
        "\"\"\"\n",
        "\n",
        "# oneImg = next(iter(datasets))[0]\n",
        "\n",
        "# showOneImge(oneImg, 0)\n",
        "\n",
        "# oneImg = oneImg.expand(1,3,64,64)\n",
        "\n",
        "# print(oneImg.shape)\n",
        "\n",
        "# print(oneImg)\n",
        "\n",
        "# #img into G to test shape\n",
        "\n",
        "# input_noise_example = t.randn((batch_size, 1, 1, 5))\n",
        "\n",
        "# a = G()(input_noise_example, batch_size)\n",
        "# print(a[0])\n",
        "# showOneImge(a[0], 0)\n",
        "\n",
        "# b = D()(next(loader))\n",
        "\n",
        "# print(b.shape)"
      ],
      "metadata": {
        "colab": {
          "base_uri": "https://localhost:8080/",
          "height": 35
        },
        "id": "KcozfIv-n-Bu",
        "outputId": "6e9b3a2c-909b-430c-e453-a373c42ee73f"
      },
      "id": "KcozfIv-n-Bu",
      "execution_count": 123,
      "outputs": [
        {
          "output_type": "execute_result",
          "data": {
            "text/plain": [
              "'\\n\\nTesting the net work:\\n\\n'"
            ],
            "application/vnd.google.colaboratory.intrinsic+json": {
              "type": "string"
            }
          },
          "metadata": {},
          "execution_count": 123
        }
      ]
    },
    {
      "cell_type": "markdown",
      "source": [
        "### Gradient Penalty from wGAN, will test later."
      ],
      "metadata": {
        "id": "YsQ952nloLHH"
      },
      "id": "YsQ952nloLHH"
    },
    {
      "cell_type": "code",
      "source": [
        "def compute_gradient_penalty(D, real_samples, fake_samples, current_batch_size):\n",
        "    \"\"\"Calculates the gradient penalty loss for WGAN GP\"\"\"\n",
        "    # Random weight term for interpolation between real and fake samples\n",
        "    alpha = t.randn((current_batch_size, 1, 1, 1)).to(device)\n",
        "    # Get random interpolation between real and fake samples\n",
        "    interpolates = (alpha * real_samples + ((1 - alpha) * fake_samples)).requires_grad_(True)\n",
        "    \n",
        "    \n",
        "    d_interpolates = D(interpolates)\n",
        "    \n",
        "    \n",
        "    grad_x_hat = grad(\n",
        "            outputs=d_interpolates.sum(), inputs=interpolates, create_graph=True)[0]\n",
        "    grad_penalty = ((grad_x_hat.view(grad_x_hat.size(0), -1)\n",
        "                      .norm(2, dim=1) - 1)**2).mean()\n",
        "    grad_penalty = 10 * grad_penalty\n",
        "    \n",
        "    return grad_penalty"
      ],
      "metadata": {
        "id": "C4L3KtQpoV7N"
      },
      "id": "C4L3KtQpoV7N",
      "execution_count": 124,
      "outputs": []
    },
    {
      "cell_type": "markdown",
      "source": [
        "### Initializing the generator, discriminator, optimizer, labels, and loss."
      ],
      "metadata": {
        "id": "uau2WOFLtdHE"
      },
      "id": "uau2WOFLtdHE"
    },
    {
      "cell_type": "code",
      "source": [
        "generator = G().to(device)\n",
        "discriminator = D().to(device)\n",
        "discriminatorReal = D().to(device)\n",
        "\n",
        "G_optimizer = t.optim.Adam(generator.parameters(), lr = 0.00001)\n",
        "D_optimizer = t.optim.Adam(discriminator.parameters(), lr = 0.00001)\n",
        "\n",
        "label_real = t.ones((batch_size, 1)).to(device)\n",
        "label_fake = t.zeros((batch_size, 1)).to(device)\n",
        "\n",
        "bceLoss = nn.BCEWithLogitsLoss()\n",
        "\n",
        "should_train_G = True #True = train d, False = train g"
      ],
      "metadata": {
        "id": "tYHwz-Jmtp0D"
      },
      "id": "tYHwz-Jmtp0D",
      "execution_count": 125,
      "outputs": []
    },
    {
      "cell_type": "markdown",
      "source": [
        "### Train decider"
      ],
      "metadata": {
        "id": "YwZyQHRGrjEd"
      },
      "id": "YwZyQHRGrjEd"
    },
    {
      "cell_type": "code",
      "source": [
        "def what_to_train(fake_score, real_score, should_train_G):\n",
        "  last_should_train_G = should_train_G\n",
        "\n",
        "\n",
        "  if (fake_score < real_score * score_dif):\n",
        "    return True\n",
        "\n",
        "  if last_should_train_G:\n",
        "    if (fake_score > real_score * (1 - score_dif)):\n",
        "      return False\n",
        "    else:\n",
        "      return True\n",
        "\n",
        "  return False\n",
        "\n",
        "\n",
        "  \n",
        "  \n",
        "\n"
      ],
      "metadata": {
        "id": "kmvyM-njrmG_"
      },
      "id": "kmvyM-njrmG_",
      "execution_count": 126,
      "outputs": []
    },
    {
      "cell_type": "markdown",
      "source": [
        "### Start training"
      ],
      "metadata": {
        "id": "iwMi3phCuk79"
      },
      "id": "iwMi3phCuk79"
    },
    {
      "cell_type": "code",
      "execution_count": null,
      "id": "19c068f5",
      "metadata": {
        "id": "19c068f5",
        "colab": {
          "base_uri": "https://localhost:8080/",
          "height": 1000
        },
        "outputId": "53c4f9ca-7384-4919-b9e0-fa277b608a1c"
      },
      "outputs": [
        {
          "metadata": {
            "tags": null
          },
          "name": "stderr",
          "output_type": "stream",
          "text": [
            "Epoch: 1: 100%|██████████| 438/438 [00:19<00:00, 22.72it/s, D_total_loss=-1.3, G_loss=0.742, fake_score=-.608, real_score=0.79]\n"
          ]
        },
        {
          "data": {
            "image/png": "[encoded data removed]",
            "text/plain": [
              "<IPython.core.display.Image object>"
            ]
          },
          "metadata": {},
          "output_type": "display_data"
        },
        {
          "data": {
            "image/png": "[encoded data removed]",
            "text/plain": [
              "<IPython.core.display.Image object>"
            ]
          },
          "metadata": {},
          "output_type": "display_data"
        },
        {
          "data": {
            "image/png": "[encoded data removed]",
            "text/plain": [
              "<IPython.core.display.Image object>"
            ]
          },
          "metadata": {},
          "output_type": "display_data"
        },
        {
          "metadata": {
            "tags": null
          },
          "name": "stdout",
          "output_type": "stream",
          "text": [
            "epoch =  1\n",
            "Epoch [0/200], Step [438/438], d_loss: -1.3044, g_loss: 0.7418, D(x): 0.79, D(G(z)): -0.61\n"
          ]
        },
        {
          "metadata": {
            "tags": null
          },
          "name": "stderr",
          "output_type": "stream",
          "text": [
            "Epoch: 2: 100%|██████████| 438/438 [00:19<00:00, 22.92it/s, D_total_loss=-1.31, G_loss=1.22, fake_score=-1.17, real_score=0.42]\n",
            "Epoch: 3: 100%|██████████| 438/438 [00:19<00:00, 22.97it/s, D_total_loss=-1.79, G_loss=2.86, fake_score=-2.89, real_score=-.927]\n"
          ]
        },
        {
          "data": {
            "image/png": "[encoded data removed]",
            "text/plain": [
              "<IPython.core.display.Image object>"
            ]
          },
          "metadata": {},
          "output_type": "display_data"
        },
        {
          "data": {
            "image/png": "[encoded data removed]",
            "text/plain": [
              "<IPython.core.display.Image object>"
            ]
          },
          "metadata": {},
          "output_type": "display_data"
        },
        {
          "metadata": {
            "tags": null
          },
          "name": "stdout",
          "output_type": "stream",
          "text": [
            "epoch =  3\n",
            "Epoch [2/200], Step [438/438], d_loss: -1.7871, g_loss: 2.8594, D(x): -0.93, D(G(z)): -2.89\n"
          ]
        },
        {
          "metadata": {
            "tags": null
          },
          "name": "stderr",
          "output_type": "stream",
          "text": [
            "Epoch: 4: 100%|██████████| 438/438 [00:19<00:00, 22.36it/s, D_total_loss=-2.46, G_loss=3.91, fake_score=-3.97, real_score=-1.1]\n",
            "Epoch: 5: 100%|██████████| 438/438 [00:19<00:00, 22.02it/s, D_total_loss=-2.44, G_loss=3.28, fake_score=-3.36, real_score=-.644]\n"
          ]
        },
        {
          "data": {
            "image/png": "[encoded data removed]",
            "text/plain": [
              "<IPython.core.display.Image object>"
            ]
          },
          "metadata": {},
          "output_type": "display_data"
        },
        {
          "data": {
            "image/png": "[encoded data removed]",
            "text/plain": [
              "<IPython.core.display.Image object>"
            ]
          },
          "metadata": {},
          "output_type": "display_data"
        },
        {
          "metadata": {
            "tags": null
          },
          "name": "stdout",
          "output_type": "stream",
          "text": [
            "epoch =  5\n",
            "Epoch [4/200], Step [438/438], d_loss: -2.4362, g_loss: 3.2753, D(x): -0.64, D(G(z)): -3.36\n"
          ]
        },
        {
          "output_type": "stream",
          "name": "stderr",
          "text": [
            "Epoch: 6: 100%|██████████| 438/438 [00:20<00:00, 20.93it/s, D_total_loss=-2.37, G_loss=3.17, fake_score=-3.11, real_score=-.652]\n",
            "Epoch: 7: 100%|██████████| 438/438 [00:20<00:00, 21.13it/s, D_total_loss=-2.52, G_loss=1.94, fake_score=-1.99, real_score=0.65]\n"
          ]
        },
        {
          "output_type": "display_data",
          "data": {
            "text/plain": [
              "<IPython.core.display.Image object>"
            ],
            "image/png": "[encoded data removed]"
          },
          "metadata": {}
        },
        {
          "output_type": "display_data",
          "data": {
            "text/plain": [
              "<IPython.core.display.Image object>"
            ],
            "image/png": "[encoded data removed]"
          },
          "metadata": {}
        },
        {
          "output_type": "stream",
          "name": "stdout",
          "text": [
            "epoch =  7\n",
            "Epoch [6/200], Step [438/438], d_loss: -2.5157, g_loss: 1.9418, D(x): 0.65, D(G(z)): -1.99\n"
          ]
        },
        {
          "output_type": "stream",
          "name": "stderr",
          "text": [
            "Epoch: 8: 100%|██████████| 438/438 [00:20<00:00, 21.12it/s, D_total_loss=-1.78, G_loss=1.74, fake_score=-1.79, real_score=0.068]\n",
            "Epoch: 9: 100%|██████████| 438/438 [00:20<00:00, 21.70it/s, D_total_loss=-1.39, G_loss=1.91, fake_score=-1.61, real_score=-.0341]\n"
          ]
        },
        {
          "output_type": "display_data",
          "data": {
            "text/plain": [
              "<IPython.core.display.Image object>"
            ],
            "image/png": "[encoded data removed]"
          },
          "metadata": {}
        },
        {
          "output_type": "display_data",
          "data": {
            "text/plain": [
              "<IPython.core.display.Image object>"
            ],
            "image/png": "[encoded data removed]"
          },
          "metadata": {}
        },
        {
          "output_type": "stream",
          "name": "stdout",
          "text": [
            "epoch =  9\n",
            "Epoch [8/200], Step [438/438], d_loss: -1.3877, g_loss: 1.9068, D(x): -0.03, D(G(z)): -1.61\n"
          ]
        },
        {
          "output_type": "stream",
          "name": "stderr",
          "text": [
            "Epoch: 10: 100%|██████████| 438/438 [00:19<00:00, 22.15it/s, D_total_loss=-1.47, G_loss=1.37, fake_score=-1.34, real_score=0.775]\n",
            "Epoch: 11: 100%|██████████| 438/438 [00:19<00:00, 22.46it/s, D_total_loss=-1.34, G_loss=1.1, fake_score=-.879, real_score=0.915]\n"
          ]
        },
        {
          "output_type": "display_data",
          "data": {
            "text/plain": [
              "<IPython.core.display.Image object>"
            ],
            "image/png": "[encoded data removed]"
          },
          "metadata": {}
        },
        {
          "output_type": "display_data",
          "data": {
            "text/plain": [
              "<IPython.core.display.Image object>"
            ],
            "image/png": "[encoded data removed]"
          },
          "metadata": {}
        },
        {
          "output_type": "stream",
          "name": "stdout",
          "text": [
            "epoch =  11\n",
            "Epoch [10/200], Step [438/438], d_loss: -1.3449, g_loss: 1.0993, D(x): 0.91, D(G(z)): -0.88\n"
          ]
        },
        {
          "output_type": "stream",
          "name": "stderr",
          "text": [
            "Epoch: 12: 100%|██████████| 438/438 [00:19<00:00, 22.30it/s, D_total_loss=-1.58, G_loss=0.514, fake_score=-.948, real_score=1.04]\n",
            "Epoch: 13: 100%|██████████| 438/438 [00:19<00:00, 22.17it/s, D_total_loss=-1.38, G_loss=0.81, fake_score=-.97, real_score=0.535]\n"
          ]
        },
        {
          "output_type": "display_data",
          "data": {
            "text/plain": [
              "<IPython.core.display.Image object>"
            ],
            "image/png": "[encoded data removed]"
          },
          "metadata": {}
        },
        {
          "output_type": "display_data",
          "data": {
            "text/plain": [
              "<IPython.core.display.Image object>"
            ],
            "image/png": "[encoded data removed]"
          },
          "metadata": {}
        },
        {
          "output_type": "stream",
          "name": "stdout",
          "text": [
            "epoch =  13\n",
            "Epoch [12/200], Step [438/438], d_loss: -1.3806, g_loss: 0.8100, D(x): 0.54, D(G(z)): -0.97\n"
          ]
        },
        {
          "output_type": "stream",
          "name": "stderr",
          "text": [
            "Epoch: 14: 100%|██████████| 438/438 [00:19<00:00, 22.27it/s, D_total_loss=0.361, G_loss=0.863, fake_score=-.293, real_score=0.678]\n",
            "Epoch: 15: 100%|██████████| 438/438 [00:19<00:00, 22.36it/s, D_total_loss=-.102, G_loss=0.552, fake_score=-.424, real_score=0.91]\n"
          ]
        },
        {
          "output_type": "display_data",
          "data": {
            "text/plain": [
              "<IPython.core.display.Image object>"
            ],
            "image/png": "[encoded data removed]"
          },
          "metadata": {}
        },
        {
          "output_type": "display_data",
          "data": {
            "text/plain": [
              "<IPython.core.display.Image object>"
            ],
            "image/png": "[encoded data removed]"
          },
          "metadata": {}
        },
        {
          "output_type": "stream",
          "name": "stdout",
          "text": [
            "epoch =  15\n",
            "Epoch [14/200], Step [438/438], d_loss: -0.1015, g_loss: 0.5520, D(x): 0.91, D(G(z)): -0.42\n"
          ]
        },
        {
          "output_type": "stream",
          "name": "stderr",
          "text": [
            "Epoch: 16: 100%|██████████| 438/438 [00:19<00:00, 22.27it/s, D_total_loss=-.889, G_loss=0.526, fake_score=-.482, real_score=0.819]\n",
            "Epoch: 17: 100%|██████████| 438/438 [00:19<00:00, 22.22it/s, D_total_loss=-.942, G_loss=0.364, fake_score=-.0932, real_score=1.02]\n"
          ]
        },
        {
          "output_type": "display_data",
          "data": {
            "text/plain": [
              "<IPython.core.display.Image object>"
            ],
            "image/png": "[encoded data removed]"
          },
          "metadata": {}
        },
        {
          "output_type": "display_data",
          "data": {
            "text/plain": [
              "<IPython.core.display.Image object>"
            ],
            "image/png": "[encoded data removed]"
          },
          "metadata": {}
        },
        {
          "output_type": "stream",
          "name": "stdout",
          "text": [
            "epoch =  17\n",
            "Epoch [16/200], Step [438/438], d_loss: -0.9420, g_loss: 0.3640, D(x): 1.02, D(G(z)): -0.09\n"
          ]
        },
        {
          "output_type": "stream",
          "name": "stderr",
          "text": [
            "Epoch: 18: 100%|██████████| 438/438 [00:19<00:00, 22.23it/s, D_total_loss=0.125, G_loss=0.192, fake_score=-.336, real_score=1.02]\n",
            "Epoch: 19: 100%|██████████| 438/438 [00:19<00:00, 22.18it/s, D_total_loss=-.469, G_loss=0.191, fake_score=-.358, real_score=0.387]\n"
          ]
        },
        {
          "output_type": "display_data",
          "data": {
            "text/plain": [
              "<IPython.core.display.Image object>"
            ],
            "image/png": "[encoded data removed]"
          },
          "metadata": {}
        },
        {
          "output_type": "stream",
          "name": "stderr",
          "text": [
            "/usr/local/lib/python3.7/dist-packages/ipykernel_launcher.py:13: RuntimeWarning: More than 20 figures have been opened. Figures created through the pyplot interface (`matplotlib.pyplot.figure`) are retained until explicitly closed and may consume too much memory. (To control this warning, see the rcParam `figure.max_open_warning`).\n",
            "  del sys.path[0]\n"
          ]
        },
        {
          "output_type": "display_data",
          "data": {
            "text/plain": [
              "<IPython.core.display.Image object>"
            ],
            "image/png": "[encoded data removed]"
          },
          "metadata": {}
        },
        {
          "output_type": "stream",
          "name": "stdout",
          "text": [
            "epoch =  19\n",
            "Epoch [18/200], Step [438/438], d_loss: -0.4687, g_loss: 0.1912, D(x): 0.39, D(G(z)): -0.36\n"
          ]
        },
        {
          "output_type": "stream",
          "name": "stderr",
          "text": [
            "Epoch: 20: 100%|██████████| 438/438 [00:19<00:00, 22.19it/s, D_total_loss=0.24, G_loss=0.501, fake_score=-.564, real_score=0.0782]\n",
            "Epoch: 21: 100%|██████████| 438/438 [00:19<00:00, 22.18it/s, D_total_loss=-.493, G_loss=0.362, fake_score=0.174, real_score=0.736]\n"
          ]
        },
        {
          "output_type": "display_data",
          "data": {
            "text/plain": [
              "<IPython.core.display.Image object>"
            ],
            "image/png": "[encoded data removed]"
          },
          "metadata": {}
        },
        {
          "output_type": "display_data",
          "data": {
            "text/plain": [
              "<IPython.core.display.Image object>"
            ],
            "image/png": "[encoded data removed]"
          },
          "metadata": {}
        },
        {
          "output_type": "stream",
          "name": "stdout",
          "text": [
            "epoch =  21\n",
            "Epoch [20/200], Step [438/438], d_loss: -0.4928, g_loss: 0.3620, D(x): 0.74, D(G(z)): 0.17\n"
          ]
        },
        {
          "output_type": "stream",
          "name": "stderr",
          "text": [
            "Epoch: 22: 100%|██████████| 438/438 [00:19<00:00, 22.04it/s, D_total_loss=-.569, G_loss=0.268, fake_score=-.173, real_score=0.765]\n",
            "Epoch: 23: 100%|██████████| 438/438 [00:19<00:00, 22.03it/s, D_total_loss=-.74, G_loss=0.245, fake_score=-.116, real_score=0.697]\n"
          ]
        },
        {
          "output_type": "display_data",
          "data": {
            "text/plain": [
              "<IPython.core.display.Image object>"
            ],
            "image/png": "[encoded data removed]"
          },
          "metadata": {}
        },
        {
          "output_type": "display_data",
          "data": {
            "text/plain": [
              "<IPython.core.display.Image object>"
            ],
            "image/png": "[encoded data removed]"
          },
          "metadata": {}
        },
        {
          "output_type": "stream",
          "name": "stdout",
          "text": [
            "epoch =  23\n",
            "Epoch [22/200], Step [438/438], d_loss: -0.7403, g_loss: 0.2453, D(x): 0.70, D(G(z)): -0.12\n"
          ]
        },
        {
          "output_type": "stream",
          "name": "stderr",
          "text": [
            "Epoch: 24: 100%|██████████| 438/438 [00:19<00:00, 22.09it/s, D_total_loss=-.283, G_loss=0.109, fake_score=-.222, real_score=0.693]\n",
            "Epoch: 25: 100%|██████████| 438/438 [00:19<00:00, 22.07it/s, D_total_loss=-.391, G_loss=-.376, fake_score=0.367, real_score=0.836]\n"
          ]
        },
        {
          "output_type": "display_data",
          "data": {
            "text/plain": [
              "<IPython.core.display.Image object>"
            ],
            "image/png": "[encoded data removed]"
          },
          "metadata": {}
        },
        {
          "output_type": "display_data",
          "data": {
            "text/plain": [
              "<IPython.core.display.Image object>"
            ],
            "image/png": "[encoded data removed]"
          },
          "metadata": {}
        },
        {
          "output_type": "stream",
          "name": "stdout",
          "text": [
            "epoch =  25\n",
            "Epoch [24/200], Step [438/438], d_loss: -0.3913, g_loss: -0.3756, D(x): 0.84, D(G(z)): 0.37\n"
          ]
        },
        {
          "output_type": "stream",
          "name": "stderr",
          "text": [
            "Epoch: 26: 100%|██████████| 438/438 [00:19<00:00, 21.98it/s, D_total_loss=-.506, G_loss=0.00199, fake_score=-.128, real_score=0.424]\n",
            "Epoch: 27: 100%|██████████| 438/438 [00:19<00:00, 22.12it/s, D_total_loss=-.0945, G_loss=-.231, fake_score=0.579, real_score=0.75]\n"
          ]
        },
        {
          "output_type": "display_data",
          "data": {
            "text/plain": [
              "<IPython.core.display.Image object>"
            ],
            "image/png": "[encoded data removed]"
          },
          "metadata": {}
        },
        {
          "output_type": "display_data",
          "data": {
            "text/plain": [
              "<IPython.core.display.Image object>"
            ],
            "image/png": "[encoded data removed]"
          },
          "metadata": {}
        },
        {
          "output_type": "stream",
          "name": "stdout",
          "text": [
            "epoch =  27\n",
            "Epoch [26/200], Step [438/438], d_loss: -0.0945, g_loss: -0.2306, D(x): 0.75, D(G(z)): 0.58\n"
          ]
        },
        {
          "output_type": "stream",
          "name": "stderr",
          "text": [
            "Epoch: 28: 100%|██████████| 438/438 [00:19<00:00, 22.04it/s, D_total_loss=-.293, G_loss=-.147, fake_score=0.321, real_score=0.835]\n",
            "Epoch: 29: 100%|██████████| 438/438 [00:20<00:00, 21.83it/s, D_total_loss=-.351, G_loss=-.49, fake_score=0.565, real_score=1.06]\n"
          ]
        },
        {
          "output_type": "display_data",
          "data": {
            "text/plain": [
              "<IPython.core.display.Image object>"
            ],
            "image/png": "[encoded data removed]"
          },
          "metadata": {}
        },
        {
          "output_type": "display_data",
          "data": {
            "text/plain": [
              "<IPython.core.display.Image object>"
            ],
            "image/png": "[encoded data removed]"
          },
          "metadata": {}
        },
        {
          "output_type": "stream",
          "name": "stdout",
          "text": [
            "epoch =  29\n",
            "Epoch [28/200], Step [438/438], d_loss: -0.3515, g_loss: -0.4904, D(x): 1.06, D(G(z)): 0.57\n"
          ]
        },
        {
          "output_type": "stream",
          "name": "stderr",
          "text": [
            "Epoch: 30: 100%|██████████| 438/438 [00:19<00:00, 22.08it/s, D_total_loss=-.288, G_loss=-.425, fake_score=0.333, real_score=0.713]\n",
            "Epoch: 31: 100%|██████████| 438/438 [00:19<00:00, 21.93it/s, D_total_loss=0.505, G_loss=-.409, fake_score=0.0765, real_score=0.944]\n"
          ]
        },
        {
          "output_type": "display_data",
          "data": {
            "text/plain": [
              "<IPython.core.display.Image object>"
            ],
            "image/png": "[encoded data removed]"
          },
          "metadata": {}
        },
        {
          "output_type": "display_data",
          "data": {
            "text/plain": [
              "<IPython.core.display.Image object>"
            ],
            "image/png": "[encoded data removed]"
          },
          "metadata": {}
        },
        {
          "output_type": "stream",
          "name": "stdout",
          "text": [
            "epoch =  31\n",
            "Epoch [30/200], Step [438/438], d_loss: 0.5054, g_loss: -0.4093, D(x): 0.94, D(G(z)): 0.08\n"
          ]
        },
        {
          "output_type": "stream",
          "name": "stderr",
          "text": [
            "Epoch: 32: 100%|██████████| 438/438 [00:19<00:00, 21.97it/s, D_total_loss=-.253, G_loss=-.387, fake_score=0.711, real_score=1.01]\n",
            "Epoch: 33: 100%|██████████| 438/438 [00:20<00:00, 21.41it/s, D_total_loss=-.35, G_loss=-.318, fake_score=0.265, real_score=1.03]\n"
          ]
        },
        {
          "output_type": "display_data",
          "data": {
            "text/plain": [
              "<IPython.core.display.Image object>"
            ],
            "image/png": "[encoded data removed]"
          },
          "metadata": {}
        },
        {
          "output_type": "display_data",
          "data": {
            "text/plain": [
              "<IPython.core.display.Image object>"
            ],
            "image/png": "[encoded data removed]"
          },
          "metadata": {}
        },
        {
          "output_type": "stream",
          "name": "stdout",
          "text": [
            "epoch =  33\n",
            "Epoch [32/200], Step [438/438], d_loss: -0.3502, g_loss: -0.3183, D(x): 1.03, D(G(z)): 0.26\n"
          ]
        },
        {
          "output_type": "stream",
          "name": "stderr",
          "text": [
            "Epoch: 34: 100%|██████████| 438/438 [00:20<00:00, 21.71it/s, D_total_loss=-.595, G_loss=-.757, fake_score=0.777, real_score=1.41]\n",
            "Epoch: 35: 100%|██████████| 438/438 [00:20<00:00, 21.68it/s, D_total_loss=-.369, G_loss=-.147, fake_score=0.115, real_score=0.791]\n"
          ]
        },
        {
          "output_type": "display_data",
          "data": {
            "text/plain": [
              "<IPython.core.display.Image object>"
            ],
            "image/png": "[encoded data removed]"
          },
          "metadata": {}
        },
        {
          "output_type": "display_data",
          "data": {
            "text/plain": [
              "<IPython.core.display.Image object>"
            ],
            "image/png": "[encoded data removed]"
          },
          "metadata": {}
        },
        {
          "output_type": "stream",
          "name": "stdout",
          "text": [
            "epoch =  35\n",
            "Epoch [34/200], Step [438/438], d_loss: -0.3689, g_loss: -0.1470, D(x): 0.79, D(G(z)): 0.11\n"
          ]
        },
        {
          "output_type": "stream",
          "name": "stderr",
          "text": [
            "Epoch: 36: 100%|██████████| 438/438 [00:19<00:00, 21.91it/s, D_total_loss=-.796, G_loss=-.567, fake_score=0.711, real_score=1.55]\n",
            "Epoch: 37: 100%|██████████| 438/438 [00:20<00:00, 21.75it/s, D_total_loss=-.498, G_loss=-.254, fake_score=0.439, real_score=1.15]\n"
          ]
        },
        {
          "output_type": "display_data",
          "data": {
            "text/plain": [
              "<IPython.core.display.Image object>"
            ],
            "image/png": "[encoded data removed]"
          },
          "metadata": {}
        },
        {
          "output_type": "display_data",
          "data": {
            "text/plain": [
              "<IPython.core.display.Image object>"
            ],
            "image/png": "[encoded data removed]"
          },
          "metadata": {}
        },
        {
          "output_type": "stream",
          "name": "stdout",
          "text": [
            "epoch =  37\n",
            "Epoch [36/200], Step [438/438], d_loss: -0.4985, g_loss: -0.2540, D(x): 1.15, D(G(z)): 0.44\n"
          ]
        },
        {
          "output_type": "stream",
          "name": "stderr",
          "text": [
            "Epoch: 38: 100%|██████████| 438/438 [00:20<00:00, 21.78it/s, D_total_loss=1.56, G_loss=-.597, fake_score=0.623, real_score=1.57]\n",
            "Epoch: 39: 100%|██████████| 438/438 [00:20<00:00, 21.82it/s, D_total_loss=0.0669, G_loss=-.585, fake_score=0.921, real_score=1.09]\n"
          ]
        },
        {
          "output_type": "display_data",
          "data": {
            "text/plain": [
              "<IPython.core.display.Image object>"
            ],
            "image/png": "[encoded data removed]"
          },
          "metadata": {}
        },
        {
          "output_type": "display_data",
          "data": {
            "text/plain": [
              "<IPython.core.display.Image object>"
            ],
            "image/png": "[encoded data removed]"
          },
          "metadata": {}
        },
        {
          "output_type": "stream",
          "name": "stdout",
          "text": [
            "epoch =  39\n",
            "Epoch [38/200], Step [438/438], d_loss: 0.0669, g_loss: -0.5852, D(x): 1.09, D(G(z)): 0.92\n"
          ]
        },
        {
          "output_type": "stream",
          "name": "stderr",
          "text": [
            "Epoch: 40: 100%|██████████| 438/438 [00:20<00:00, 21.78it/s, D_total_loss=-.697, G_loss=0.0724, fake_score=0.328, real_score=1.09]\n",
            "Epoch: 41: 100%|██████████| 438/438 [00:20<00:00, 21.50it/s, D_total_loss=-.748, G_loss=-.821, fake_score=0.731, real_score=1.6]\n"
          ]
        },
        {
          "output_type": "display_data",
          "data": {
            "text/plain": [
              "<IPython.core.display.Image object>"
            ],
            "image/png": "[encoded data removed]"
          },
          "metadata": {}
        },
        {
          "output_type": "display_data",
          "data": {
            "text/plain": [
              "<IPython.core.display.Image object>"
            ],
            "image/png": "[encoded data removed]"
          },
          "metadata": {}
        },
        {
          "output_type": "stream",
          "name": "stdout",
          "text": [
            "epoch =  41\n",
            "Epoch [40/200], Step [438/438], d_loss: -0.7485, g_loss: -0.8209, D(x): 1.60, D(G(z)): 0.73\n"
          ]
        },
        {
          "output_type": "stream",
          "name": "stderr",
          "text": [
            "Epoch: 42: 100%|██████████| 438/438 [00:20<00:00, 21.68it/s, D_total_loss=-.564, G_loss=-.535, fake_score=0.36, real_score=1.11]\n",
            "Epoch: 43: 100%|██████████| 438/438 [00:20<00:00, 21.75it/s, D_total_loss=-.639, G_loss=-.539, fake_score=0.51, real_score=1.22]\n"
          ]
        },
        {
          "output_type": "display_data",
          "data": {
            "text/plain": [
              "<IPython.core.display.Image object>"
            ],
            "image/png": "[encoded data removed]"
          },
          "metadata": {}
        },
        {
          "output_type": "display_data",
          "data": {
            "text/plain": [
              "<IPython.core.display.Image object>"
            ],
            "image/png": "[encoded data removed]"
          },
          "metadata": {}
        },
        {
          "output_type": "stream",
          "name": "stderr",
          "text": [
            "Epoch: 44: 100%|██████████| 438/438 [00:20<00:00, 21.57it/s, D_total_loss=-.599, G_loss=-.218, fake_score=0.036, real_score=1.14]\n",
            "Epoch: 45: 100%|██████████| 438/438 [00:20<00:00, 21.60it/s, D_total_loss=-.835, G_loss=-.593, fake_score=0.412, real_score=1.37]\n"
          ]
        },
        {
          "output_type": "display_data",
          "data": {
            "text/plain": [
              "<IPython.core.display.Image object>"
            ],
            "image/png": "[encoded data removed]"
          },
          "metadata": {}
        },
        {
          "output_type": "display_data",
          "data": {
            "text/plain": [
              "<IPython.core.display.Image object>"
            ],
            "image/png": "[encoded data removed]"
          },
          "metadata": {}
        },
        {
          "output_type": "stream",
          "name": "stdout",
          "text": [
            "epoch =  45\n",
            "Epoch [44/200], Step [438/438], d_loss: -0.8351, g_loss: -0.5930, D(x): 1.37, D(G(z)): 0.41\n"
          ]
        },
        {
          "output_type": "stream",
          "name": "stderr",
          "text": [
            "Epoch: 46: 100%|██████████| 438/438 [00:20<00:00, 21.62it/s, D_total_loss=-.618, G_loss=-.338, fake_score=0.481, real_score=1.35]\n",
            "Epoch: 47:  91%|█████████ | 398/438 [00:18<00:01, 21.95it/s, D_total_loss=-.541, G_loss=0.0199, fake_score=-.0437, real_score=1.04]"
          ]
        }
      ],
      "source": [
        "for i in range(iteration):\n",
        "\n",
        "    p = tqdm(range(total_data_len // batch_size + 1)) # This is a progress bar run on each epoch\n",
        "    \n",
        "    datasets_batched = DataLoader(dataset, batch_size = batch_size)\n",
        "    \n",
        "    loader = iter(datasets_batched)\n",
        "\n",
        "    # real_score = t.Tensor(2)\n",
        "\n",
        "    # fake_score = t.Tensor(2)\n",
        "\n",
        "    # g_fake_loss = t.Tensor([2])\n",
        "\n",
        "    # g_total_loss = 0\n",
        "\n",
        "    d_step = 0\n",
        "\n",
        "    for j in p:\n",
        "        \n",
        "\n",
        "        batchNum = str(i+1)\n",
        "        \n",
        "        #Training the D\n",
        "        #real data\n",
        "        real = next(loader).to(device)\n",
        "\n",
        "        #current_batch size (the last batch is different than others)\n",
        "        current_batch_size, c, h, w = real.shape\n",
        "        #labels\n",
        "        label_real = 0.1 * t.randint(7,10,(current_batch_size,1)).type(t.half)\n",
        "        label_fake = 0.1 * t.randint(0,3,(current_batch_size,1)).type(t.half)\n",
        "\n",
        "        real_score = discriminator(real)\n",
        "        d_real_loss = -t.mean(real_score)\n",
        "        \n",
        "        input_noise = t.normal(0, 1, size = (current_batch_size, 1, 1, laten_space)).to(device)\n",
        "        fake = generator(input_noise, current_batch_size)\n",
        "        fake_score = discriminator(fake)\n",
        "\n",
        "        d_fake_loss = t.mean(fake_score)\n",
        "\n",
        "        gradient_penalty = compute_gradient_penalty(discriminator, real, fake, current_batch_size)\n",
        "        \n",
        "        total_loss = d_fake_loss + d_real_loss + gradient_penalty\n",
        "\n",
        "        generator.zero_grad()\n",
        "        discriminator.zero_grad()\n",
        "        total_loss.backward()\n",
        "        D_optimizer.step()\n",
        "\n",
        "        d_step += 1\n",
        "\n",
        "        if d_step == updatD_step:\n",
        "\n",
        "          discriminatorReal.load_state_dict(discriminator.state_dict().copy())\n",
        "\n",
        "\n",
        "\n",
        "\n",
        "        if j % critic == 0:\n",
        "          input_noise = t.normal(0, 1, size = (current_batch_size, 1, 1, laten_space)).to(device)\n",
        "          fake = generator(input_noise, current_batch_size)\n",
        "          fake_score = discriminator(fake)\n",
        "          g_fake_loss = -t.mean(fake_score)\n",
        "          discriminator.zero_grad()\n",
        "          generator.zero_grad()\n",
        "          g_fake_loss.backward()\n",
        "          G_optimizer.step()\n",
        "          discriminator.load_state_dict(discriminatorReal.state_dict().copy())\n",
        "          D_optimizer = t.optim.Adam(discriminator.parameters(), lr = 0.00001)\n",
        "          d_step = 0\n",
        "          \n",
        "\n",
        "        \n",
        "        mse = \"Epoch: \" + batchNum\n",
        "        \n",
        "        p.set_description(mse)\n",
        "            \n",
        "        p.set_postfix(G_loss = g_fake_loss.item(), D_total_loss = total_loss.item(), real_score = real_score.mean().item(), fake_score = fake_score.mean().item())\n",
        "        \n",
        "    if i == 0:\n",
        "        showOneImge(real[0], 99999, True)   \n",
        "    \n",
        "    if i % 2 == 0:\n",
        "      \n",
        "      showOneImge(real[0], 99999, False)\n",
        "      showOneImge(fake[0], i, False)\n",
        "      print(\"epoch = \", i + 1)  \n",
        "      print('Epoch [{}/{}], Step [{}/{}], d_loss: {:.4f}, g_loss: {:.4f}, D(x): {:.2f}, D(G(z)): {:.2f}'.format(i, iteration, j+1, total_data_len // batch_size + 1, total_loss.item(), g_fake_loss.item(), real_score.mean().item(), fake_score.mean().item()))      \n",
        "      \n",
        "\n",
        "    if i % 50 == 0:\n",
        "      t.save(generator.state_dict(), f'{log_folder}/checkpoint/{str(i + 1).zfill(6)}_g.model')\n",
        "      t.save(discriminator.state_dict(), f'{log_folder}/checkpoint/{str(i + 1).zfill(6)}_d.model')\n"
      ]
    },
    {
      "cell_type": "markdown",
      "source": [
        "### Show Result"
      ],
      "metadata": {
        "id": "G899nUbq5miN"
      },
      "id": "G899nUbq5miN"
    },
    {
      "cell_type": "code",
      "source": [
        "\n",
        "\n",
        "#Generated\n",
        "generator.eval()\n",
        "\n",
        "with t.no_grad():\n",
        "  input_noise = t.normal(0, 1, size = (eval_size, 1, 1, laten_space)).to(device)\n",
        "  generated = generator(input_noise, eval_size)\n",
        "  showMoreImages(generated, eval_size)\n",
        "\n",
        "#Real\n",
        "datasets_batched = DataLoader(dataset, batch_size = eval_size)\n",
        "loader = iter(datasets_batched)\n",
        "real = next(loader)\n",
        "showMoreImages(real, eval_size)"
      ],
      "metadata": {
        "id": "xaJSe0r55qSF"
      },
      "id": "xaJSe0r55qSF",
      "execution_count": null,
      "outputs": []
    },
    {
      "cell_type": "markdown",
      "source": [
        "### remove log file when necessarry"
      ],
      "metadata": {
        "id": "QFhYIcFKF76d"
      },
      "id": "QFhYIcFKF76d"
    },
    {
      "cell_type": "code",
      "source": [
        "# !rm -rf /content/log/checkpoint\n",
        "\n",
        "# !mkdir /content/log/checkpoint\n",
        "\n",
        "# !rm -rf /content/log/sample\n",
        "# !mkdir /content/log/sample\n",
        "\n",
        "# from google.colab import files\n",
        "# files.download('/content/log') "
      ],
      "metadata": {
        "id": "ERTMUfeIFrp3"
      },
      "id": "ERTMUfeIFrp3",
      "execution_count": null,
      "outputs": []
    },
    {
      "cell_type": "code",
      "source": [
        ""
      ],
      "metadata": {
        "id": "exU4K1fh3qBG"
      },
      "id": "exU4K1fh3qBG",
      "execution_count": null,
      "outputs": []
    }
  ],
  "metadata": {
    "kernelspec": {
      "display_name": "Python 3 (ipykernel)",
      "language": "python",
      "name": "python3"
    },
    "language_info": {
      "codemirror_mode": {
        "name": "ipython",
        "version": 3
      },
      "file_extension": ".py",
      "mimetype": "text/x-python",
      "name": "python",
      "nbconvert_exporter": "python",
      "pygments_lexer": "ipython3",
      "version": "3.9.10"
    },
    "colab": {
      "name": "64_cele_small_try.ipynb",
      "provenance": [],
      "collapsed_sections": [],
      "include_colab_link": true
    },
    "accelerator": "GPU"
  },
  "nbformat": 4,
  "nbformat_minor": 5
}