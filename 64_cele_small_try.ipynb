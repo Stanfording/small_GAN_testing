{
  "cells": [
    {
      "cell_type": "markdown",
      "metadata": {
        "id": "view-in-github",
        "colab_type": "text"
      },
      "source": [
        "<a href=\"https://colab.research.google.com/github/Stanfording/small_GAN_testing/blob/main/64_cele_small_try.ipynb\" target=\"_parent\"><img src=\"https://colab.research.google.com/assets/colab-badge.svg\" alt=\"Open In Colab\"/></a>"
      ]
    },
    {
      "cell_type": "markdown",
      "source": [
        "\n",
        "\n",
        "# Goal:   Just get a small GAN running\n",
        "\n"
      ],
      "metadata": {
        "id": "7gaYl2YwkRiu"
      },
      "id": "7gaYl2YwkRiu"
    },
    {
      "cell_type": "markdown",
      "source": [
        "Get the preprocessed celebHD data from google drive"
      ],
      "metadata": {
        "id": "wwbluY6JOvnI"
      },
      "id": "wwbluY6JOvnI"
    },
    {
      "cell_type": "code",
      "source": [
        "# #Download the dataset\n",
        "# !wget --load-cookies /tmp/cookies.txt \"https://docs.google.com/uc?export=download&confirm=$(wget --quiet --save-cookies /tmp/cookies.txt --keep-session-cookies --no-check-certificate 'https://docs.google.com/uc?export=download&id=1KqBRLsB0CJuQGycvaPINwaPgcGDUsAxN' -O- | sed -rn 's/.*confirm=([0-9A-Za-z_]+).*/\\1\\n/p')&id=1KqBRLsB0CJuQGycvaPINwaPgcGDUsAxN\" -O \"proCeleba.zip\" && rm -rf /tmp/cookies.txt\n",
        "\n",
        "# #unzip the dataset\n",
        "# !unzip \"/content/proCeleba.zip\"\n",
        "\n",
        "# #remove unnecessary files\n",
        "# !rm -rf /content/__MACOSX"
      ],
      "metadata": {
        "id": "_ENY7QR3Y2ja"
      },
      "id": "_ENY7QR3Y2ja",
      "execution_count": null,
      "outputs": []
    },
    {
      "cell_type": "markdown",
      "source": [
        "Import libraries"
      ],
      "metadata": {
        "id": "K9N_s9aEj9Z6"
      },
      "id": "K9N_s9aEj9Z6"
    },
    {
      "cell_type": "code",
      "source": [
        "from tqdm import tqdm\n",
        "\n",
        "from torch.autograd import Variable, grad\n",
        "import matplotlib.pyplot as plt\n",
        "import matplotlib.image as mpimg\n",
        "import numpy as np\n",
        "import tensorflow as tf\n",
        "import os\n",
        "import torch as t\n",
        "import torch.nn as nn\n",
        "from torchvision import datasets, transforms, utils\n",
        "from torch.utils.data import Dataset, DataLoader\n",
        "from skimage import io"
      ],
      "metadata": {
        "id": "bqG8XadZj6x9"
      },
      "id": "bqG8XadZj6x9",
      "execution_count": null,
      "outputs": []
    },
    {
      "cell_type": "markdown",
      "source": [
        "Set initial hyperparameters"
      ],
      "metadata": {
        "id": "KXdK6tiOkGSK"
      },
      "id": "KXdK6tiOkGSK"
    },
    {
      "cell_type": "code",
      "source": [
        "\n",
        "img_fold_dir_64_reso = \"/content/proCeleba/64\"\n",
        "\n",
        "batch_size = 64\n",
        "\n",
        "resolution = 64\n",
        "\n",
        "iteration = 10\n",
        "\n",
        "device = t.device('cuda' if t.cuda.is_available() else 'cpu')\n",
        "\n",
        "log_folder = \"log\"\n",
        "!mkdir \"log\""
      ],
      "metadata": {
        "id": "dAnYprRokGzv"
      },
      "id": "dAnYprRokGzv",
      "execution_count": null,
      "outputs": []
    },
    {
      "cell_type": "markdown",
      "source": [
        "Show me which gpu I am using."
      ],
      "metadata": {
        "id": "D1ief47pweis"
      },
      "id": "D1ief47pweis"
    },
    {
      "cell_type": "code",
      "source": [
        "!nvidia-smi -L"
      ],
      "metadata": {
        "id": "Ix7mhx4twcAN"
      },
      "id": "Ix7mhx4twcAN",
      "execution_count": null,
      "outputs": []
    },
    {
      "cell_type": "markdown",
      "source": [
        "Pre loading the data"
      ],
      "metadata": {
        "id": "EyOdcipBkmFl"
      },
      "id": "EyOdcipBkmFl"
    },
    {
      "cell_type": "code",
      "source": [
        "# Define a data class for load unclassfied data.\n",
        "class Get_No_Classes_Img_Dataset(Dataset):\n",
        "    \n",
        "    def __init__(self, folder_dir, transform = None):\n",
        "        self.folder_dir = os.path.join(folder_dir)\n",
        "        self.transform = transform\n",
        "        self.image_list = os.listdir(self.folder_dir)\n",
        "        \n",
        "    def __len__(self):\n",
        "        return len(os.listdir(self.folder_dir))\n",
        "    \n",
        "    def __getitem__(self, index):\n",
        "        \n",
        "        image_name = self.image_list[index]\n",
        "        \n",
        "        image_dir = os.path.join(self.folder_dir, image_name)\n",
        "        \n",
        "        image = io.imread(image_dir)\n",
        "        \n",
        "        if (self.transform != None):\n",
        "            image = self.transform(image)\n",
        "        \n",
        "        return image\n",
        "    \n",
        "\n",
        "transform = transforms.ToTensor() #From Batch * Highth * Width * Channel to Batch * Channel * Highth * Width\n",
        "                                  #Which is what pytorch CNN can work with.\n",
        "\n",
        "datasets = Get_No_Classes_Img_Dataset(img_fold_dir_64_reso, transform = transform) \n",
        "                                                            # datasets[0].shape = (16,16,3)\n",
        "                                                            # len(datasets) = 28000\n",
        "total_data_len = len(datasets)\n",
        "                                \n",
        "# Viewing one data sample function:\n",
        "def showOneImge(img, name = \"\", blur = False):\n",
        "    \n",
        "    img = img.squeeze()\n",
        "    \n",
        "    img = transforms.ToPILImage()(img)\n",
        "    \n",
        "    if blur:\n",
        "        img = transforms.GaussianBlur(31, (100, 100))(img)\n",
        "    plt.figure(figsize = (10,10), dpi = 10)\n",
        "    plt.imshow(img)\n",
        "    plt.axis('off')\n",
        "    plt.savefig(f\"/content/log{name}.png\", bbox_inches='tight', pad_inches = 0)\n",
        "    return\n",
        "\n",
        "\n",
        "                                                            \n",
        "loader = DataLoader(datasets, batch_size = batch_size)\n",
        "\n",
        "loader = iter(loader)\n",
        "\n",
        "\n"
      ],
      "metadata": {
        "id": "_z16ZYcck-RJ"
      },
      "id": "_z16ZYcck-RJ",
      "execution_count": null,
      "outputs": []
    },
    {
      "cell_type": "markdown",
      "source": [
        "\n",
        "\n",
        "```\n",
        "print(next(loader).shape) \n",
        "```\n",
        "will output\n",
        "\n",
        "\n",
        "```\n",
        "torch.Size([batch_size, 3, 64, 64])\n",
        "```\n",
        "\n",
        "So data loading is ready.\n",
        "\n",
        "What's left is keep using \n",
        "\n",
        "```\n",
        "next(loader)\n",
        "```\n",
        "to access each batch of data\n"
      ],
      "metadata": {
        "id": "J8EFVPstlDHD"
      },
      "id": "J8EFVPstlDHD"
    },
    {
      "cell_type": "markdown",
      "source": [
        "-------------------------------------------------\n",
        "\n",
        "Now Designing the simple GAN network"
      ],
      "metadata": {
        "id": "xf_Ocw2onofc"
      },
      "id": "xf_Ocw2onofc"
    },
    {
      "cell_type": "code",
      "source": [
        "\"\"\"\n",
        "Define the generator\n",
        "\"\"\"\n",
        "\n",
        "class G(nn.Module):\n",
        "    \n",
        "    def __init__(self):\n",
        "        super().__init__()\n",
        "\n",
        "        self.laten = nn.Sequential(\n",
        "            nn.Linear(5, 10),\n",
        "            nn.Linear(10, 128),\n",
        "            nn.Linear(128, 512),\n",
        "            nn.Linear(512, 1024),\n",
        "            nn.Linear(1024, 4096),\n",
        "            nn.Linear(4096, 12288))\n",
        "        self.net1 = nn.Conv2d(3, 16, (3, 3), padding = \"same\")\n",
        "        self.net2 = nn.Conv2d(16, 64, (3, 3), padding = \"same\")\n",
        "        self.net3 = nn.Conv2d(64, 64, (3, 3), padding = \"same\")\n",
        "        self.net4 = nn.Conv2d(64, 16, (3, 3), padding = \"same\")\n",
        "        self.net5 = nn.Conv2d(16, 3, (3, 3), padding = \"same\")\n",
        "        \n",
        "        \n",
        "    def forward(self, theInput, batch_size):\n",
        "        \n",
        "        x = self.laten(theInput)\n",
        "        \n",
        "        x = t.reshape(x, (batch_size, 3, 64, 64))\n",
        "         \n",
        "        x = self.net1(x)\n",
        "        x = self.net2(x)\n",
        "        x = self.net3(x)\n",
        "        x = self.net4(x)\n",
        "        x = self.net5(x)\n",
        "            \n",
        "            \n",
        "        return x\n",
        "    \n",
        "class D(nn.Module):\n",
        "    \n",
        "    def __init__(self):\n",
        "        super().__init__()\n",
        "        self.netWork = nn.Sequential(\n",
        "            nn.Conv2d(3, 16, (3, 3), padding = \"same\"),\n",
        "            nn.Conv2d(16, 64, (3, 3), padding = \"same\"),\n",
        "            nn.MaxPool2d((3,3)),\n",
        "            nn.Conv2d(64, 64, (3, 3), padding = \"same\"),\n",
        "            nn.MaxPool2d((3,3)),\n",
        "            nn.Conv2d(64, 16, (3, 3), padding = \"same\"),\n",
        "            nn.MaxPool2d((3,3)),\n",
        "            nn.Flatten(),\n",
        "            nn.Linear(64, 3),\n",
        "            nn.LeakyReLU(),\n",
        "            nn.Linear(3, 1),\n",
        "            nn.Sigmoid())\n",
        "        \n",
        "    def forward(self, theInput):\n",
        "        \n",
        "        return self.netWork(theInput)"
      ],
      "metadata": {
        "id": "e7L9uvqjnt8C"
      },
      "id": "e7L9uvqjnt8C",
      "execution_count": null,
      "outputs": []
    },
    {
      "cell_type": "markdown",
      "source": [
        "Testing the network"
      ],
      "metadata": {
        "id": "rtBpnwV7n7dA"
      },
      "id": "rtBpnwV7n7dA"
    },
    {
      "cell_type": "code",
      "source": [
        "\"\"\"\n",
        "\n",
        "Testing the net work:\n",
        "\n",
        "\"\"\"\n",
        "\n",
        "# oneImg = datasets[0]\n",
        "\n",
        "# showOneImge(oneImg)\n",
        "\n",
        "# oneImg = oneImg.expand(1,3,64,64)\n",
        "\n",
        "# print(oneImg.shape)\n",
        "\n",
        "# #img into G to test shape\n",
        "\n",
        "# input_noise_example = t.randn((batch_size, 1, 1, 5))\n",
        "\n",
        "# a = G()(input_noise_example, batch_size)\n",
        "\n",
        "# showOneImge(a[0])\n",
        "\n",
        "# b = D()(next(loader))\n",
        "\n",
        "# print(b.shape)"
      ],
      "metadata": {
        "id": "KcozfIv-n-Bu"
      },
      "id": "KcozfIv-n-Bu",
      "execution_count": null,
      "outputs": []
    },
    {
      "cell_type": "markdown",
      "source": [
        "Gradient Penalty from wGAN, will test later."
      ],
      "metadata": {
        "id": "YsQ952nloLHH"
      },
      "id": "YsQ952nloLHH"
    },
    {
      "cell_type": "code",
      "source": [
        "def compute_gradient_penalty(D, real_samples, fake_samples):\n",
        "    \"\"\"Calculates the gradient penalty loss for WGAN GP\"\"\"\n",
        "    # Random weight term for interpolation between real and fake samples\n",
        "    alpha = t.randn((batch_size, 1, 1, 1))\n",
        "    # Get random interpolation between real and fake samples\n",
        "    interpolates = (alpha * real_samples + ((1 - alpha) * fake_samples)).requires_grad_(True)\n",
        "    \n",
        "    \n",
        "    d_interpolates = D()(interpolates)\n",
        "    \n",
        "    \n",
        "    grad_x_hat = grad(\n",
        "            outputs=d_interpolates.sum(), inputs=interpolates, create_graph=True)[0]\n",
        "    grad_penalty = ((grad_x_hat.view(grad_x_hat.size(0), -1)\n",
        "                      .norm(2, dim=1) - 1)**2).mean()\n",
        "    grad_penalty = 10 * grad_penalty\n",
        "    \n",
        "    return grad_penalty"
      ],
      "metadata": {
        "id": "C4L3KtQpoV7N"
      },
      "id": "C4L3KtQpoV7N",
      "execution_count": null,
      "outputs": []
    },
    {
      "cell_type": "markdown",
      "source": [
        "Initializing the generator, discriminator, optimizer, labels, and loss."
      ],
      "metadata": {
        "id": "uau2WOFLtdHE"
      },
      "id": "uau2WOFLtdHE"
    },
    {
      "cell_type": "code",
      "source": [
        "generator = G().to(device)\n",
        "discriminator = D().to(device)\n",
        "\n",
        "\n",
        "G_optimizer = t.optim.Adam(generator.parameters(), lr = 0.001, betas=(0.0, 0.99))\n",
        "D_optimizer = t.optim.Adam(discriminator.parameters(), lr = 0.001, betas=(0.0, 0.99))\n",
        "\n",
        "label_real = t.ones((batch_size, 1)).to(device)\n",
        "label_fake = t.zeros((batch_size, 1)).to(device)\n",
        "\n",
        "bceLoss = nn.BCELoss()"
      ],
      "metadata": {
        "id": "tYHwz-Jmtp0D"
      },
      "id": "tYHwz-Jmtp0D",
      "execution_count": 24,
      "outputs": []
    },
    {
      "cell_type": "markdown",
      "source": [
        "Start training"
      ],
      "metadata": {
        "id": "iwMi3phCuk79"
      },
      "id": "iwMi3phCuk79"
    },
    {
      "cell_type": "code",
      "execution_count": null,
      "id": "19c068f5",
      "metadata": {
        "id": "19c068f5",
        "colab": {
          "base_uri": "https://localhost:8080/"
        },
        "outputId": "514efce2-b37e-4482-e203-23ccb2e1ce45"
      },
      "outputs": [
        {
          "output_type": "stream",
          "name": "stderr",
          "text": [
            "Epoch: 0:  13%|█▎        | 57/438 [00:23<02:32,  2.49it/s, D_total_loss=0.00016, G_loss=0, fake_score=2.77e-12, real_score=1]"
          ]
        }
      ],
      "source": [
        "for i in range(iteration):\n",
        "\n",
        "    p = tqdm(range(total_data_len // batch_size + 1)) # This is a progress bar run on each epoch\n",
        "    \n",
        "    for j in p:\n",
        "        \n",
        "    \n",
        "        batchNum = str(i)\n",
        "        \n",
        "        #Training the D\n",
        "        \n",
        "        real = next(loader).to(device)\n",
        "        \n",
        "        input_noise = t.randn((batch_size, 1, 1, 5)).to(device)\n",
        "        fake = generator(input_noise, batch_size)\n",
        "        \n",
        "        real_score = discriminator(real)\n",
        "\n",
        "        if (label_real.shape != real_score.shape):\n",
        "          label_real = t.ones((real_score.shape)).to(device)\n",
        "          \n",
        "\n",
        "\n",
        "        d_real_loss = bceLoss(real_score, label_real)\n",
        "        fake_score = discriminator(fake)\n",
        "\n",
        "        if fake_score.shape != label_fake.shape:\n",
        "          label_fake = t.zeros((real_score.shape)).to(device)\n",
        "\n",
        "        d_fake_loss = bceLoss(fake_score, label_fake)\n",
        "        \n",
        "        total_loss = d_real_loss + d_fake_loss\n",
        "        \n",
        "        \n",
        "        total_loss.backward()\n",
        "        D_optimizer.step()\n",
        "        \n",
        "        discriminator.zero_grad()\n",
        "        generator.zero_grad()\n",
        "        \n",
        "        #Training the G\n",
        "        \n",
        "        \n",
        "        input_noise = t.randn((batch_size, 1, 1, 5)).to(device)\n",
        "        fake = generator(input_noise, batch_size)\n",
        "        fake_score = discriminator(fake)\n",
        "        g_fake_loss = bceLoss(fake_score, label_fake)\n",
        "        \n",
        "        g_fake_loss.backward()\n",
        "        G_optimizer.step()\n",
        "        \n",
        "        discriminator.zero_grad()\n",
        "        generator.zero_grad()\n",
        "        \n",
        "        mse = \"Epoch: \" + batchNum\n",
        "        \n",
        "        p.set_description(mse)\n",
        "            \n",
        "        p.set_postfix(G_loss = g_fake_loss.item(), D_total_loss = total_loss.item(), real_score = real_score.mean().item(), fake_score = fake_score.mean().item())\n",
        "        \n",
        "        \n",
        "    \n",
        "    if i % 5 == 0:\n",
        "        input_noise = t.randn((batch_size, 1, 1, 5)).to(device)\n",
        "        fake = generator(input_noise, batch_size)\n",
        "        \n",
        "        \n",
        "        showOneImge(fake[0], name = \"generator_epoch_\" + str(i+1), blur = False)\n",
        "        print(\"epoch = \", i + 1)\n",
        "        \n",
        "        t.save(generator.state_dict(), f'{log_folder}/checkpoint/{str(i + 1).zfill(6)}_g.model')\n",
        "        t.save(discriminator.state_dict(), f'{log_folder}/checkpoint/{str(i + 1).zfill(6)}_d.model')\n"
      ]
    }
  ],
  "metadata": {
    "kernelspec": {
      "display_name": "Python 3 (ipykernel)",
      "language": "python",
      "name": "python3"
    },
    "language_info": {
      "codemirror_mode": {
        "name": "ipython",
        "version": 3
      },
      "file_extension": ".py",
      "mimetype": "text/x-python",
      "name": "python",
      "nbconvert_exporter": "python",
      "pygments_lexer": "ipython3",
      "version": "3.9.10"
    },
    "colab": {
      "name": "64_cele_small_try.ipynb",
      "provenance": [],
      "collapsed_sections": [],
      "include_colab_link": true
    },
    "accelerator": "GPU"
  },
  "nbformat": 4,
  "nbformat_minor": 5
}