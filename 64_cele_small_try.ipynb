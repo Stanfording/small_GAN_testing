{
  "cells": [
    {
      "cell_type": "markdown",
      "metadata": {
        "id": "view-in-github",
        "colab_type": "text"
      },
      "source": [
        "<a href=\"https://colab.research.google.com/github/Stanfording/small_GAN_testing/blob/main/64_cele_small_try.ipynb\" target=\"_parent\"><img src=\"https://colab.research.google.com/assets/colab-badge.svg\" alt=\"Open In Colab\"/></a>"
      ]
    },
    {
      "cell_type": "markdown",
      "source": [
        "\n",
        "\n",
        "# Goal:   Just get a small GAN running\n",
        "\n"
      ],
      "metadata": {
        "id": "7gaYl2YwkRiu"
      },
      "id": "7gaYl2YwkRiu"
    },
    {
      "cell_type": "markdown",
      "source": [
        "Get the preprocessed celebHD data from google drive"
      ],
      "metadata": {
        "id": "wwbluY6JOvnI"
      },
      "id": "wwbluY6JOvnI"
    },
    {
      "cell_type": "code",
      "source": [
        "# #Download the dataset\n",
        "# !wget --load-cookies /tmp/cookies.txt \"https://docs.google.com/uc?export=download&confirm=$(wget --quiet --save-cookies /tmp/cookies.txt --keep-session-cookies --no-check-certificate 'https://docs.google.com/uc?export=download&id=1KqBRLsB0CJuQGycvaPINwaPgcGDUsAxN' -O- | sed -rn 's/.*confirm=([0-9A-Za-z_]+).*/\\1\\n/p')&id=1KqBRLsB0CJuQGycvaPINwaPgcGDUsAxN\" -O \"proCeleba.zip\" && rm -rf /tmp/cookies.txt\n",
        "\n",
        "# #unzip the dataset\n",
        "# !unzip \"/content/proCeleba.zip\"\n",
        "\n",
        "# #remove unnecessary files\n",
        "# !rm -rf /content/__MACOSX"
      ],
      "metadata": {
        "id": "_ENY7QR3Y2ja"
      },
      "id": "_ENY7QR3Y2ja",
      "execution_count": 26,
      "outputs": []
    },
    {
      "cell_type": "markdown",
      "source": [
        "Import libraries"
      ],
      "metadata": {
        "id": "K9N_s9aEj9Z6"
      },
      "id": "K9N_s9aEj9Z6"
    },
    {
      "cell_type": "code",
      "source": [
        "from tqdm import tqdm\n",
        "\n",
        "from torch.autograd import Variable, grad\n",
        "import matplotlib.pyplot as plt\n",
        "import matplotlib.image as mpimg\n",
        "import numpy as np\n",
        "\n",
        "import os\n",
        "import torch as t\n",
        "import torch.nn as nn\n",
        "from torchvision import datasets, transforms, utils\n",
        "from torch.utils.data import Dataset, DataLoader\n",
        "from skimage import io\n"
      ],
      "metadata": {
        "id": "bqG8XadZj6x9"
      },
      "id": "bqG8XadZj6x9",
      "execution_count": 27,
      "outputs": []
    },
    {
      "cell_type": "markdown",
      "source": [
        "Set initial hyperparameters"
      ],
      "metadata": {
        "id": "KXdK6tiOkGSK"
      },
      "id": "KXdK6tiOkGSK"
    },
    {
      "cell_type": "code",
      "source": [
        "\n",
        "img_fold_dir_64_reso = \"/content/proCeleba/32\"\n",
        "\n",
        "batch_size = 64\n",
        "\n",
        "resolution = 32\n",
        "\n",
        "iteration = 10\n",
        "\n",
        "critic = 1\n",
        "\n",
        "device = t.device('cuda' if t.cuda.is_available() else 'cpu')\n",
        "\n",
        "log_folder = \"log\"\n",
        "!mkdir \"log\"\n",
        "!mkdir \"log/checkpoint\"\n",
        "!mkdir \"log/sample\""
      ],
      "metadata": {
        "colab": {
          "base_uri": "https://localhost:8080/"
        },
        "id": "dAnYprRokGzv",
        "outputId": "8c9425f0-9734-4047-ded4-8a6118abaf60"
      },
      "id": "dAnYprRokGzv",
      "execution_count": 28,
      "outputs": [
        {
          "output_type": "stream",
          "name": "stdout",
          "text": [
            "mkdir: cannot create directory ‘log’: File exists\n",
            "mkdir: cannot create directory ‘log/checkpoint’: File exists\n",
            "mkdir: cannot create directory ‘log/sample’: File exists\n"
          ]
        }
      ]
    },
    {
      "cell_type": "markdown",
      "source": [
        "Show me which gpu I am using."
      ],
      "metadata": {
        "id": "D1ief47pweis"
      },
      "id": "D1ief47pweis"
    },
    {
      "cell_type": "code",
      "source": [
        "!nvidia-smi -L"
      ],
      "metadata": {
        "colab": {
          "base_uri": "https://localhost:8080/"
        },
        "id": "Ix7mhx4twcAN",
        "outputId": "7507903c-3b3a-456e-c045-20f79c594a1e"
      },
      "id": "Ix7mhx4twcAN",
      "execution_count": 29,
      "outputs": [
        {
          "output_type": "stream",
          "name": "stdout",
          "text": [
            "GPU 0: Tesla P100-PCIE-16GB (UUID: GPU-9ee24c37-d247-4990-f5a0-a202d4ac4fc4)\n"
          ]
        }
      ]
    },
    {
      "cell_type": "markdown",
      "source": [
        "Pre loading the data"
      ],
      "metadata": {
        "id": "EyOdcipBkmFl"
      },
      "id": "EyOdcipBkmFl"
    },
    {
      "cell_type": "code",
      "source": [
        "# Define a data class for load unclassfied data.\n",
        "class Get_No_Classes_Img_Dataset(Dataset):\n",
        "    \n",
        "    def __init__(self, folder_dir, transform = None):\n",
        "        self.folder_dir = os.path.join(folder_dir)\n",
        "        self.transform = transform\n",
        "        self.image_list = os.listdir(self.folder_dir)\n",
        "        \n",
        "    def __len__(self):\n",
        "        return len(os.listdir(self.folder_dir))\n",
        "    \n",
        "    def __getitem__(self, index):\n",
        "        \n",
        "        image_name = self.image_list[index]\n",
        "        \n",
        "        image_dir = os.path.join(self.folder_dir, image_name)\n",
        "        \n",
        "        image = io.imread(image_dir)\n",
        "        \n",
        "        if (self.transform != None):\n",
        "            image = self.transform(image)\n",
        "        \n",
        "        return image\n",
        "    \n",
        "\n",
        "transform = transforms.ToTensor() #From Batch * Highth * Width * Channel to Batch * Channel * Highth * Width\n",
        "                                  #Which is what pytorch CNN can work with.\n",
        "\n",
        "datasets = Get_No_Classes_Img_Dataset(img_fold_dir_64_reso, transform = transform) \n",
        "                                                            # datasets[0].shape = (16,16,3)\n",
        "                                                            # len(datasets) = 28000\n",
        "total_data_len = len(datasets)\n",
        "                                \n",
        "# Viewing one data sample function:\n",
        "def showOneImge(img, i):\n",
        "    \n",
        "    img = img.squeeze()\n",
        "    \n",
        "    img = transforms.ToPILImage()(img)\n",
        "    plt.figure(figsize = (10,10), dpi = 10)\n",
        "    plt.imshow(img)\n",
        "    plt.axis('off')\n",
        "    plt.savefig(f'{log_folder}/sample/{str(i + 1).zfill(6)}.png', bbox_inches='tight', pad_inches = 0)\n",
        "    return\n",
        "\n",
        "\n",
        "                                                            \n",
        "datasets = DataLoader(datasets, batch_size = batch_size)\n"
      ],
      "metadata": {
        "id": "_z16ZYcck-RJ"
      },
      "id": "_z16ZYcck-RJ",
      "execution_count": 30,
      "outputs": []
    },
    {
      "cell_type": "markdown",
      "source": [
        "\n",
        "\n",
        "```\n",
        "loader = iter(loader)\n",
        "print(next(loader).shape) \n",
        "```\n",
        "will output\n",
        "\n",
        "\n",
        "```\n",
        "torch.Size([batch_size, 3, resolution, resolution])\n",
        "```\n",
        "\n",
        "So data loading is ready.\n",
        "\n",
        "What's left is keep using \n",
        "\n",
        "```\n",
        "next(loader)\n",
        "```\n",
        "to access each batch of data\n"
      ],
      "metadata": {
        "id": "J8EFVPstlDHD"
      },
      "id": "J8EFVPstlDHD"
    },
    {
      "cell_type": "markdown",
      "source": [
        "-------------------------------------------------\n",
        "\n",
        "Now Designing the simple GAN network"
      ],
      "metadata": {
        "id": "xf_Ocw2onofc"
      },
      "id": "xf_Ocw2onofc"
    },
    {
      "cell_type": "code",
      "source": [
        "\"\"\"\n",
        "Define the generator\n",
        "\"\"\"\n",
        "\n",
        "class G(nn.Module):\n",
        "    \n",
        "    def __init__(self):\n",
        "        super().__init__()\n",
        "\n",
        "        self.laten = nn.Linear(5, 3072)\n",
        "\n",
        "        self.model = nn.Sequential(\n",
        "            nn.Conv2d(3, 16, (3, 3), padding = \"same\"),\n",
        "            nn.LeakyReLU(0.2),\n",
        "            nn.BatchNorm2d(16),\n",
        "            nn.Conv2d(16, 16, (3, 3), padding = \"same\"),\n",
        "            nn.LeakyReLU(0.2),\n",
        "            nn.BatchNorm2d(16),\n",
        "            nn.Conv2d(16, 16, (3, 3), padding = \"same\"),\n",
        "            nn.LeakyReLU(0.2),\n",
        "            nn.BatchNorm2d(16),\n",
        "            nn.Conv2d(16, 16, (3, 3), padding = \"same\"),\n",
        "            nn.LeakyReLU(0.2),\n",
        "            nn.Conv2d(16, 3, (3, 3), padding = \"same\"),\n",
        "            nn.Sigmoid()\n",
        "        )\n",
        "        \n",
        "        \n",
        "        \n",
        "    def forward(self, theInput, batch_size):\n",
        "        \n",
        "        x = self.laten(theInput)\n",
        "        \n",
        "        x = t.reshape(x, (batch_size, 3, resolution, resolution))\n",
        "         \n",
        "        x = self.model(x)\n",
        "            \n",
        "            \n",
        "        return x\n",
        "    \n",
        "class D(nn.Module):\n",
        "    \n",
        "    def __init__(self):\n",
        "        super().__init__()\n",
        "        self.netWork = nn.Sequential(\n",
        "            nn.Conv2d(3, 16, (3, 3), padding = \"same\"),\n",
        "            nn.BatchNorm2d(16),\n",
        "            nn.LeakyReLU(),\n",
        "            nn.MaxPool2d((3,3)),\n",
        "            nn.Conv2d(16, 16, (3, 3), padding = \"same\"),\n",
        "            nn.BatchNorm2d(16),\n",
        "            nn.LeakyReLU(),\n",
        "            nn.MaxPool2d((3,3)),\n",
        "            nn.Flatten(),\n",
        "            nn.Linear(144, 3),\n",
        "            nn.LeakyReLU(),\n",
        "            nn.Linear(3, 1))\n",
        "        \n",
        "    def forward(self, theInput):\n",
        "        \n",
        "        return self.netWork(theInput)"
      ],
      "metadata": {
        "id": "e7L9uvqjnt8C"
      },
      "id": "e7L9uvqjnt8C",
      "execution_count": 31,
      "outputs": []
    },
    {
      "cell_type": "markdown",
      "source": [
        "Testing the network"
      ],
      "metadata": {
        "id": "rtBpnwV7n7dA"
      },
      "id": "rtBpnwV7n7dA"
    },
    {
      "cell_type": "code",
      "source": [
        "\"\"\"\n",
        "\n",
        "Testing the net work:\n",
        "\n",
        "\"\"\"\n",
        "\n",
        "# oneImg = next(iter(datasets))[0]\n",
        "\n",
        "# showOneImge(oneImg, 0)\n",
        "\n",
        "# oneImg = oneImg.expand(1,3,64,64)\n",
        "\n",
        "# print(oneImg.shape)\n",
        "\n",
        "# print(oneImg)\n",
        "\n",
        "# #img into G to test shape\n",
        "\n",
        "# input_noise_example = t.randn((batch_size, 1, 1, 5))\n",
        "\n",
        "# a = G()(input_noise_example, batch_size)\n",
        "# print(a[0])\n",
        "# showOneImge(a[0], 0)\n",
        "\n",
        "# b = D()(next(loader))\n",
        "\n",
        "# print(b.shape)"
      ],
      "metadata": {
        "colab": {
          "base_uri": "https://localhost:8080/",
          "height": 35
        },
        "id": "KcozfIv-n-Bu",
        "outputId": "89f9d1c9-9524-4aff-92e7-c6a2a667ba31"
      },
      "id": "KcozfIv-n-Bu",
      "execution_count": 32,
      "outputs": [
        {
          "output_type": "execute_result",
          "data": {
            "text/plain": [
              "'\\n\\nTesting the net work:\\n\\n'"
            ],
            "application/vnd.google.colaboratory.intrinsic+json": {
              "type": "string"
            }
          },
          "metadata": {},
          "execution_count": 32
        }
      ]
    },
    {
      "cell_type": "markdown",
      "source": [
        "Gradient Penalty from wGAN, will test later."
      ],
      "metadata": {
        "id": "YsQ952nloLHH"
      },
      "id": "YsQ952nloLHH"
    },
    {
      "cell_type": "code",
      "source": [
        "def compute_gradient_penalty(D, real_samples, fake_samples):\n",
        "    \"\"\"Calculates the gradient penalty loss for WGAN GP\"\"\"\n",
        "    # Random weight term for interpolation between real and fake samples\n",
        "    alpha = t.randn((batch_size, 1, 1, 1))\n",
        "    # Get random interpolation between real and fake samples\n",
        "    interpolates = (alpha * real_samples + ((1 - alpha) * fake_samples)).requires_grad_(True)\n",
        "    \n",
        "    \n",
        "    d_interpolates = D()(interpolates)\n",
        "    \n",
        "    \n",
        "    grad_x_hat = grad(\n",
        "            outputs=d_interpolates.sum(), inputs=interpolates, create_graph=True)[0]\n",
        "    grad_penalty = ((grad_x_hat.view(grad_x_hat.size(0), -1)\n",
        "                      .norm(2, dim=1) - 1)**2).mean()\n",
        "    grad_penalty = 10 * grad_penalty\n",
        "    \n",
        "    return grad_penalty"
      ],
      "metadata": {
        "id": "C4L3KtQpoV7N"
      },
      "id": "C4L3KtQpoV7N",
      "execution_count": 33,
      "outputs": []
    },
    {
      "cell_type": "markdown",
      "source": [
        "Initializing the generator, discriminator, optimizer, labels, and loss."
      ],
      "metadata": {
        "id": "uau2WOFLtdHE"
      },
      "id": "uau2WOFLtdHE"
    },
    {
      "cell_type": "code",
      "source": [
        "generator = G().to(device)\n",
        "discriminator = D().to(device)\n",
        "\n",
        "\n",
        "G_optimizer = t.optim.Adam(generator.parameters(), lr = 0.001)\n",
        "D_optimizer = t.optim.Adam(discriminator.parameters(), lr = 0.001)\n",
        "\n",
        "label_real = t.ones((batch_size, 1)).to(device)\n",
        "label_fake = t.zeros((batch_size, 1)).to(device)\n",
        "\n",
        "bceLoss = nn.BCEWithLogitsLoss()"
      ],
      "metadata": {
        "id": "tYHwz-Jmtp0D"
      },
      "id": "tYHwz-Jmtp0D",
      "execution_count": 34,
      "outputs": []
    },
    {
      "cell_type": "markdown",
      "source": [
        "Start training"
      ],
      "metadata": {
        "id": "iwMi3phCuk79"
      },
      "id": "iwMi3phCuk79"
    },
    {
      "cell_type": "code",
      "execution_count": 35,
      "id": "19c068f5",
      "metadata": {
        "id": "19c068f5",
        "colab": {
          "base_uri": "https://localhost:8080/",
          "height": 779
        },
        "outputId": "9da7c737-2be4-422f-e421-78773ba1757f"
      },
      "outputs": [
        {
          "output_type": "stream",
          "name": "stderr",
          "text": [
            "Epoch: 0: 100%|██████████| 438/438 [00:52<00:00,  8.31it/s, D_total_loss=0.000455, G_loss=0.00011, fake_score=-9.15, real_score=8.51]\n"
          ]
        },
        {
          "output_type": "stream",
          "name": "stdout",
          "text": [
            "epoch =  438\n",
            "Epoch [0/10], Step [438/438], d_loss: 0.0005, g_loss: 0.0001, D(x): 8.51, D(G(z)): -9.15\n"
          ]
        },
        {
          "output_type": "stream",
          "name": "stderr",
          "text": [
            "Epoch: 1: 100%|██████████| 438/438 [00:29<00:00, 14.69it/s, D_total_loss=0.000125, G_loss=2.73e-5, fake_score=-10.6, real_score=9.94]\n",
            "Epoch: 2: 100%|██████████| 438/438 [00:34<00:00, 12.66it/s, D_total_loss=5.63e-5, G_loss=1.28e-5, fake_score=-11.3, real_score=10.8]\n"
          ]
        },
        {
          "output_type": "stream",
          "name": "stdout",
          "text": [
            "epoch =  438\n",
            "Epoch [2/10], Step [438/438], d_loss: 0.0001, g_loss: 0.0000, D(x): 10.84, D(G(z)): -11.32\n"
          ]
        },
        {
          "output_type": "stream",
          "name": "stderr",
          "text": [
            "Epoch: 3: 100%|██████████| 438/438 [00:30<00:00, 14.47it/s, D_total_loss=3.08e-5, G_loss=6.83e-6, fake_score=-12, real_score=11.5]\n",
            "Epoch: 4: 100%|██████████| 438/438 [00:29<00:00, 14.78it/s, D_total_loss=1.93e-5, G_loss=3.83e-6, fake_score=-12.5, real_score=12]\n"
          ]
        },
        {
          "output_type": "stream",
          "name": "stdout",
          "text": [
            "epoch =  438\n",
            "Epoch [4/10], Step [438/438], d_loss: 0.0000, g_loss: 0.0000, D(x): 12.04, D(G(z)): -12.55\n"
          ]
        },
        {
          "output_type": "stream",
          "name": "stderr",
          "text": [
            "Epoch: 5: 100%|██████████| 438/438 [00:29<00:00, 14.71it/s, D_total_loss=1.26e-5, G_loss=2.55e-6, fake_score=-13, real_score=12.5]\n",
            "Epoch: 6: 100%|██████████| 438/438 [00:29<00:00, 14.76it/s, D_total_loss=8.67e-6, G_loss=1.89e-6, fake_score=-13.3, real_score=12.9]\n"
          ]
        },
        {
          "output_type": "stream",
          "name": "stdout",
          "text": [
            "epoch =  438\n",
            "Epoch [6/10], Step [438/438], d_loss: 0.0000, g_loss: 0.0000, D(x): 12.91, D(G(z)): -13.29\n"
          ]
        },
        {
          "output_type": "stream",
          "name": "stderr",
          "text": [
            "Epoch: 7: 100%|██████████| 438/438 [00:29<00:00, 14.94it/s, D_total_loss=6.06e-6, G_loss=1.42e-6, fake_score=-13.6, real_score=13.3]\n",
            "Epoch: 8: 100%|██████████| 438/438 [00:29<00:00, 15.01it/s, D_total_loss=4.33e-6, G_loss=1.04e-6, fake_score=-13.9, real_score=13.7]\n"
          ]
        },
        {
          "output_type": "stream",
          "name": "stdout",
          "text": [
            "epoch =  438\n",
            "Epoch [8/10], Step [438/438], d_loss: 0.0000, g_loss: 0.0000, D(x): 13.65, D(G(z)): -13.85\n"
          ]
        },
        {
          "output_type": "stream",
          "name": "stderr",
          "text": [
            "Epoch: 9: 100%|██████████| 438/438 [00:29<00:00, 14.92it/s, D_total_loss=3.27e-6, G_loss=6.93e-7, fake_score=-14.3, real_score=14]\n"
          ]
        },
        {
          "output_type": "display_data",
          "data": {
            "text/plain": [
              "<Figure size 100x100 with 1 Axes>"
            ],
            "image/png": "[encoded data removed]"
          },
          "metadata": {
            "needs_background": "light"
          }
        },
        {
          "output_type": "display_data",
          "data": {
            "text/plain": [
              "<Figure size 100x100 with 1 Axes>"
            ],
            "image/png": "[encoded data removed]"
          },
          "metadata": {
            "needs_background": "light"
          }
        },
        {
          "output_type": "display_data",
          "data": {
            "text/plain": [
              "<Figure size 100x100 with 1 Axes>"
            ],
            "image/png": "[encoded data removed]"
          },
          "metadata": {
            "needs_background": "light"
          }
        },
        {
          "output_type": "display_data",
          "data": {
            "text/plain": [
              "<Figure size 100x100 with 1 Axes>"
            ],
            "image/png": "[encoded data removed]"
          },
          "metadata": {
            "needs_background": "light"
          }
        },
        {
          "output_type": "display_data",
          "data": {
            "text/plain": [
              "<Figure size 100x100 with 1 Axes>"
            ],
            "image/png": "[encoded data removed]"
          },
          "metadata": {
            "needs_background": "light"
          }
        }
      ],
      "source": [
        "for i in range(iteration):\n",
        "\n",
        "    p = tqdm(range(total_data_len // batch_size + 1)) # This is a progress bar run on each epoch\n",
        "    \n",
        "    loader = iter(datasets)\n",
        "\n",
        "    for j in p:\n",
        "        \n",
        "    \n",
        "        batchNum = str(i)\n",
        "        \n",
        "        #Training the D\n",
        "        \n",
        "        real = next(loader).to(device)\n",
        "        current_batch_size, c, h, w = real.shape\n",
        "        label_real = t.ones((current_batch_size, 1)).to(device)\n",
        "        label_fake = t.zeros((current_batch_size, 1)).to(device)\n",
        "\n",
        "        real_score = discriminator(real)\n",
        "        d_real_loss = bceLoss(real_score, label_real)\n",
        "        \n",
        "        input_noise = t.randn((current_batch_size, 1, 1, 5)).to(device)\n",
        "        fake = generator(input_noise, current_batch_size)\n",
        "        fake_score = discriminator(fake)\n",
        "\n",
        "        d_fake_loss = bceLoss(fake_score, label_fake)\n",
        "        \n",
        "        total_loss = d_real_loss + d_fake_loss\n",
        "\n",
        "        discriminator.zero_grad()\n",
        "        generator.zero_grad()\n",
        "        total_loss.backward()\n",
        "        D_optimizer.step()\n",
        "        \n",
        "\n",
        "        \n",
        "        #Training the G\n",
        "        \n",
        "        if j % critic == 0:\n",
        "          input_noise = t.randn((current_batch_size, 1, 1, 5)).to(device)\n",
        "          fake = generator(input_noise, current_batch_size)\n",
        "          fake_score = discriminator(fake)\n",
        "\n",
        "          g_fake_loss = bceLoss(fake_score, label_fake)\n",
        "\n",
        "          discriminator.zero_grad()\n",
        "          generator.zero_grad()\n",
        "          g_fake_loss.backward()\n",
        "          G_optimizer.step()\n",
        "        \n",
        "\n",
        "        \n",
        "        mse = \"Epoch: \" + batchNum\n",
        "        \n",
        "        p.set_description(mse)\n",
        "            \n",
        "        p.set_postfix(G_loss = g_fake_loss.item(), D_total_loss = total_loss.item(), real_score = real_score.mean().item(), fake_score = fake_score.mean().item())\n",
        "        \n",
        "        \n",
        "    \n",
        "    if i % 2 == 0:\n",
        "        input_noise = t.randn((batch_size, 1, 1, 5)).to(device)\n",
        "        images = generator(input_noise, batch_size)[0]\n",
        "        \n",
        "        showOneImge(images, i)\n",
        "        print(\"epoch = \", j + 1)  \n",
        "        print('Epoch [{}/{}], Step [{}/{}], d_loss: {:.4f}, g_loss: {:.4f}, D(x): {:.2f}, D(G(z)): {:.2f}'.format(i, iteration, j+1, total_data_len // batch_size + 1, total_loss.item(), g_fake_loss.item(), real_score.mean().item(), fake_score.mean().item()))      \n",
        "    \n",
        "\n",
        "    if i % 10 == 0:\n",
        "      t.save(generator.state_dict(), f'{log_folder}/checkpoint/{str(i + 1).zfill(6)}_g.model')\n",
        "      t.save(discriminator.state_dict(), f'{log_folder}/checkpoint/{str(i + 1).zfill(6)}_d.model')\n"
      ]
    },
    {
      "cell_type": "markdown",
      "source": [
        "remove log file when necessarry"
      ],
      "metadata": {
        "id": "QFhYIcFKF76d"
      },
      "id": "QFhYIcFKF76d"
    },
    {
      "cell_type": "code",
      "source": [
        "# !rm -rf /content/log/checkpoint\n",
        "\n",
        "# !mkdir /content/log/checkpoint\n",
        "\n",
        "# !rm -rf /content/log/sample\n",
        "# !mkdir /content/log/sample"
      ],
      "metadata": {
        "id": "ERTMUfeIFrp3"
      },
      "id": "ERTMUfeIFrp3",
      "execution_count": 36,
      "outputs": []
    }
  ],
  "metadata": {
    "kernelspec": {
      "display_name": "Python 3 (ipykernel)",
      "language": "python",
      "name": "python3"
    },
    "language_info": {
      "codemirror_mode": {
        "name": "ipython",
        "version": 3
      },
      "file_extension": ".py",
      "mimetype": "text/x-python",
      "name": "python",
      "nbconvert_exporter": "python",
      "pygments_lexer": "ipython3",
      "version": "3.9.10"
    },
    "colab": {
      "name": "64_cele_small_try.ipynb",
      "provenance": [],
      "collapsed_sections": [],
      "include_colab_link": true
    },
    "accelerator": "GPU"
  },
  "nbformat": 4,
  "nbformat_minor": 5
}