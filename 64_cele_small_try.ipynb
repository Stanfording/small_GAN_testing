{
  "cells": [
    {
      "cell_type": "markdown",
      "metadata": {
        "id": "view-in-github",
        "colab_type": "text"
      },
      "source": [
        "<a href=\"https://colab.research.google.com/github/Stanfording/small_GAN_testing/blob/main/64_cele_small_try.ipynb\" target=\"_parent\"><img src=\"https://colab.research.google.com/assets/colab-badge.svg\" alt=\"Open In Colab\"/></a>"
      ]
    },
    {
      "cell_type": "markdown",
      "source": [
        "\n",
        "\n",
        "# Goal:   Just get a small GAN running\n",
        "\n"
      ],
      "metadata": {
        "id": "7gaYl2YwkRiu"
      },
      "id": "7gaYl2YwkRiu"
    },
    {
      "cell_type": "markdown",
      "source": [
        "Get the preprocessed celebHD data from google drive"
      ],
      "metadata": {
        "id": "wwbluY6JOvnI"
      },
      "id": "wwbluY6JOvnI"
    },
    {
      "cell_type": "code",
      "source": [
        "# #Download the dataset\n",
        "# !wget --load-cookies /tmp/cookies.txt \"https://docs.google.com/uc?export=download&confirm=$(wget --quiet --save-cookies /tmp/cookies.txt --keep-session-cookies --no-check-certificate 'https://docs.google.com/uc?export=download&id=1KqBRLsB0CJuQGycvaPINwaPgcGDUsAxN' -O- | sed -rn 's/.*confirm=([0-9A-Za-z_]+).*/\\1\\n/p')&id=1KqBRLsB0CJuQGycvaPINwaPgcGDUsAxN\" -O \"proCeleba.zip\" && rm -rf /tmp/cookies.txt\n",
        "\n",
        "# #unzip the dataset\n",
        "# !unzip \"/content/proCeleba.zip\"\n",
        "\n",
        "# #remove unnecessary files\n",
        "# !rm -rf /content/__MACOSX"
      ],
      "metadata": {
        "id": "_ENY7QR3Y2ja"
      },
      "id": "_ENY7QR3Y2ja",
      "execution_count": 208,
      "outputs": []
    },
    {
      "cell_type": "markdown",
      "source": [
        "## Import libraries"
      ],
      "metadata": {
        "id": "K9N_s9aEj9Z6"
      },
      "id": "K9N_s9aEj9Z6"
    },
    {
      "cell_type": "markdown",
      "source": [
        "### Install oneflow framework"
      ],
      "metadata": {
        "id": "yPo56lU-pF49"
      },
      "id": "yPo56lU-pF49"
    },
    {
      "cell_type": "code",
      "source": [
        "#!python3 -m pip install -f https://release.oneflow.info oneflow==0.7.0+cu102"
      ],
      "metadata": {
        "id": "d3nJqSVSpI-W"
      },
      "id": "d3nJqSVSpI-W",
      "execution_count": 209,
      "outputs": []
    },
    {
      "cell_type": "code",
      "source": [
        "#import oneflow as t"
      ],
      "metadata": {
        "id": "sgDILgD5puGs"
      },
      "id": "sgDILgD5puGs",
      "execution_count": 210,
      "outputs": []
    },
    {
      "cell_type": "code",
      "source": [
        "from tqdm import tqdm\n",
        "\n",
        "from torch.autograd import Variable, grad\n",
        "import matplotlib.pyplot as plt\n",
        "import matplotlib.image as mpimg\n",
        "import numpy as np\n",
        "\n",
        "import os\n",
        "import torch as t\n",
        "import torch.nn as nn\n",
        "from torchvision import datasets, transforms, utils\n",
        "from torch.utils.data import Dataset, DataLoader\n",
        "from skimage import io\n"
      ],
      "metadata": {
        "id": "bqG8XadZj6x9"
      },
      "id": "bqG8XadZj6x9",
      "execution_count": 211,
      "outputs": []
    },
    {
      "cell_type": "markdown",
      "source": [
        "### Set initial hyperparameters"
      ],
      "metadata": {
        "id": "KXdK6tiOkGSK"
      },
      "id": "KXdK6tiOkGSK"
    },
    {
      "cell_type": "code",
      "source": [
        "\n",
        "img_fold_dir_64_reso = \"/content/proCeleba/16\"\n",
        "\n",
        "batch_size = 1024\n",
        "\n",
        "resolution = 16\n",
        "\n",
        "iteration = 40\n",
        "\n",
        "critic = 5\n",
        "\n",
        "device = t.device('cuda' if t.cuda.is_available() else 'cpu')\n",
        "\n",
        "log_folder = \"log\"\n",
        "!mkdir \"log\"\n",
        "!mkdir \"log/checkpoint\"\n",
        "!mkdir \"log/sample\""
      ],
      "metadata": {
        "colab": {
          "base_uri": "https://localhost:8080/"
        },
        "id": "dAnYprRokGzv",
        "outputId": "273534d4-e003-4eae-a3be-5439da7a7c18"
      },
      "id": "dAnYprRokGzv",
      "execution_count": 212,
      "outputs": [
        {
          "output_type": "stream",
          "name": "stdout",
          "text": [
            "mkdir: cannot create directory ‘log’: File exists\n",
            "mkdir: cannot create directory ‘log/checkpoint’: File exists\n",
            "mkdir: cannot create directory ‘log/sample’: File exists\n"
          ]
        }
      ]
    },
    {
      "cell_type": "markdown",
      "source": [
        "### Show me which gpu I am using."
      ],
      "metadata": {
        "id": "D1ief47pweis"
      },
      "id": "D1ief47pweis"
    },
    {
      "cell_type": "code",
      "source": [
        "!nvidia-smi -L"
      ],
      "metadata": {
        "colab": {
          "base_uri": "https://localhost:8080/"
        },
        "id": "Ix7mhx4twcAN",
        "outputId": "5923e5a6-dea0-4a3c-87cf-e2a7bcb52d63"
      },
      "id": "Ix7mhx4twcAN",
      "execution_count": 213,
      "outputs": [
        {
          "output_type": "stream",
          "name": "stdout",
          "text": [
            "GPU 0: Tesla P100-PCIE-16GB (UUID: GPU-9ee24c37-d247-4990-f5a0-a202d4ac4fc4)\n"
          ]
        }
      ]
    },
    {
      "cell_type": "markdown",
      "source": [
        "### Pre loading the data"
      ],
      "metadata": {
        "id": "EyOdcipBkmFl"
      },
      "id": "EyOdcipBkmFl"
    },
    {
      "cell_type": "code",
      "source": [
        "# Define a data class for load unclassfied data.\n",
        "class Get_No_Classes_Img_Dataset(Dataset):\n",
        "    \n",
        "    def __init__(self, folder_dir, transform = None):\n",
        "        self.folder_dir = os.path.join(folder_dir)\n",
        "        self.transform = transform\n",
        "        self.image_list = os.listdir(self.folder_dir)\n",
        "        \n",
        "    def __len__(self):\n",
        "        return len(os.listdir(self.folder_dir))\n",
        "    \n",
        "    def __getitem__(self, index):\n",
        "        \n",
        "        image_name = self.image_list[index]\n",
        "        \n",
        "        image_dir = os.path.join(self.folder_dir, image_name)\n",
        "        \n",
        "        image = io.imread(image_dir)\n",
        "        \n",
        "        if (self.transform != None):\n",
        "            image = self.transform(image)\n",
        "        \n",
        "        return image\n",
        "    \n",
        "\n",
        "transform = transforms.ToTensor() #From Batch * Highth * Width * Channel to Batch * Channel * Highth * Width\n",
        "                                  #Which is what pytorch CNN can work with.\n",
        "\n",
        "datasets = Get_No_Classes_Img_Dataset(img_fold_dir_64_reso, transform = transform) \n",
        "                                                            # datasets[0].shape = (16,16,3)\n",
        "                                                            # len(datasets) = 28000\n",
        "total_data_len = len(datasets)\n",
        "                                \n",
        "# Viewing one data sample function:\n",
        "def showOneImge(img, i):\n",
        "    \n",
        "    img = img.squeeze()\n",
        "    \n",
        "    img = transforms.ToPILImage()(img)\n",
        "    plt.figure(figsize = (10,10), dpi = 10)\n",
        "    plt.imshow(img)\n",
        "    plt.axis('off')\n",
        "    plt.savefig(f'{log_folder}/sample/{str(i + 1).zfill(6)}.png', bbox_inches='tight', pad_inches = 0)\n",
        "    return\n",
        "\n",
        "\n",
        "                                                            \n",
        "datasets = DataLoader(datasets, batch_size = batch_size)\n"
      ],
      "metadata": {
        "id": "_z16ZYcck-RJ"
      },
      "id": "_z16ZYcck-RJ",
      "execution_count": 214,
      "outputs": []
    },
    {
      "cell_type": "markdown",
      "source": [
        "\n",
        "\n",
        "```\n",
        "loader = iter(loader)\n",
        "print(next(loader).shape) \n",
        "```\n",
        "will output\n",
        "\n",
        "\n",
        "```\n",
        "torch.Size([batch_size, 3, resolution, resolution])\n",
        "```\n",
        "\n",
        "So data loading is ready.\n",
        "\n",
        "What's left is keep using \n",
        "\n",
        "```\n",
        "next(loader)\n",
        "```\n",
        "to access each batch of data\n"
      ],
      "metadata": {
        "id": "J8EFVPstlDHD"
      },
      "id": "J8EFVPstlDHD"
    },
    {
      "cell_type": "markdown",
      "source": [
        "-------------------------------------------------\n",
        "\n",
        "### Now Designing the simple GAN network"
      ],
      "metadata": {
        "id": "xf_Ocw2onofc"
      },
      "id": "xf_Ocw2onofc"
    },
    {
      "cell_type": "code",
      "source": [
        "\"\"\"\n",
        "Define the generator\n",
        "\"\"\"\n",
        "\n",
        "class G(nn.Module):\n",
        "    \n",
        "    def __init__(self):\n",
        "        super().__init__()\n",
        "\n",
        "        self.laten = nn.Linear(5, 768)\n",
        "\n",
        "        self.model = nn.Sequential(\n",
        "            nn.Conv2d(3, 16, (3, 3), padding = \"same\"),\n",
        "            nn.LeakyReLU(0.2),\n",
        "            nn.BatchNorm2d(16),\n",
        "            nn.Conv2d(16, 16, (3, 3), padding = \"same\"),\n",
        "            nn.LeakyReLU(0.2),\n",
        "            nn.BatchNorm2d(16),\n",
        "            nn.Conv2d(16, 16, (3, 3), padding = \"same\"),\n",
        "            nn.LeakyReLU(0.2),\n",
        "            nn.BatchNorm2d(16),\n",
        "            nn.Conv2d(16, 16, (3, 3), padding = \"same\"),\n",
        "            nn.LeakyReLU(0.2),\n",
        "            nn.Conv2d(16, 3, (3, 3), padding = \"same\"),\n",
        "            nn.Sigmoid()\n",
        "        )\n",
        "        \n",
        "        \n",
        "        \n",
        "    def forward(self, theInput, batch_size):\n",
        "        \n",
        "        x = self.laten(theInput)\n",
        "        \n",
        "        x = t.reshape(x, (batch_size, 3, resolution, resolution))\n",
        "         \n",
        "        x = self.model(x)\n",
        "            \n",
        "            \n",
        "        return x\n",
        "    \n",
        "class D(nn.Module):\n",
        "    \n",
        "    def __init__(self):\n",
        "        super().__init__()\n",
        "        self.netWork = nn.Sequential(\n",
        "            nn.Conv2d(3, 16, (3, 3), padding = \"same\"),\n",
        "            nn.BatchNorm2d(16),\n",
        "            nn.Conv2d(3, 16, (3, 3), padding = \"same\"),\n",
        "            nn.LeakyReLU(),\n",
        "            nn.MaxPool2d((3,3)),\n",
        "            nn.Conv2d(16, 16, (3, 3), padding = \"same\"),\n",
        "            nn.LeakyReLU(),\n",
        "            nn.Conv2d(3, 16, (3, 3), padding = \"same\"),\n",
        "            nn.MaxPool2d((3,3)),\n",
        "            nn.Flatten(),\n",
        "            nn.Linear(16, 3),\n",
        "            nn.LeakyReLU(),\n",
        "            nn.Linear(3, 1))\n",
        "        \n",
        "    def forward(self, theInput):\n",
        "        \n",
        "        return self.netWork(theInput)"
      ],
      "metadata": {
        "id": "e7L9uvqjnt8C"
      },
      "id": "e7L9uvqjnt8C",
      "execution_count": 215,
      "outputs": []
    },
    {
      "cell_type": "markdown",
      "source": [
        "### Testing the network"
      ],
      "metadata": {
        "id": "rtBpnwV7n7dA"
      },
      "id": "rtBpnwV7n7dA"
    },
    {
      "cell_type": "code",
      "source": [
        "\"\"\"\n",
        "\n",
        "Testing the net work:\n",
        "\n",
        "\"\"\"\n",
        "\n",
        "# oneImg = next(iter(datasets))[0]\n",
        "\n",
        "# showOneImge(oneImg, 0)\n",
        "\n",
        "# oneImg = oneImg.expand(1,3,64,64)\n",
        "\n",
        "# print(oneImg.shape)\n",
        "\n",
        "# print(oneImg)\n",
        "\n",
        "# #img into G to test shape\n",
        "\n",
        "# input_noise_example = t.randn((batch_size, 1, 1, 5))\n",
        "\n",
        "# a = G()(input_noise_example, batch_size)\n",
        "# print(a[0])\n",
        "# showOneImge(a[0], 0)\n",
        "\n",
        "# b = D()(next(loader))\n",
        "\n",
        "# print(b.shape)"
      ],
      "metadata": {
        "colab": {
          "base_uri": "https://localhost:8080/",
          "height": 35
        },
        "id": "KcozfIv-n-Bu",
        "outputId": "163b842f-7c88-41fe-e87b-3f677b4d4065"
      },
      "id": "KcozfIv-n-Bu",
      "execution_count": 216,
      "outputs": [
        {
          "output_type": "execute_result",
          "data": {
            "text/plain": [
              "'\\n\\nTesting the net work:\\n\\n'"
            ],
            "application/vnd.google.colaboratory.intrinsic+json": {
              "type": "string"
            }
          },
          "metadata": {},
          "execution_count": 216
        }
      ]
    },
    {
      "cell_type": "markdown",
      "source": [
        "### Gradient Penalty from wGAN, will test later."
      ],
      "metadata": {
        "id": "YsQ952nloLHH"
      },
      "id": "YsQ952nloLHH"
    },
    {
      "cell_type": "code",
      "source": [
        "def compute_gradient_penalty(D, real_samples, fake_samples):\n",
        "    \"\"\"Calculates the gradient penalty loss for WGAN GP\"\"\"\n",
        "    # Random weight term for interpolation between real and fake samples\n",
        "    alpha = t.randn((batch_size, 1, 1, 1))\n",
        "    # Get random interpolation between real and fake samples\n",
        "    interpolates = (alpha * real_samples + ((1 - alpha) * fake_samples)).requires_grad_(True)\n",
        "    \n",
        "    \n",
        "    d_interpolates = D(interpolates)\n",
        "    \n",
        "    \n",
        "    grad_x_hat = grad(\n",
        "            outputs=d_interpolates.sum(), inputs=interpolates, create_graph=True)[0]\n",
        "    grad_penalty = ((grad_x_hat.view(grad_x_hat.size(0), -1)\n",
        "                      .norm(2, dim=1) - 1)**2).mean()\n",
        "    grad_penalty = 10 * grad_penalty\n",
        "    \n",
        "    return grad_penalty"
      ],
      "metadata": {
        "id": "C4L3KtQpoV7N"
      },
      "id": "C4L3KtQpoV7N",
      "execution_count": 217,
      "outputs": []
    },
    {
      "cell_type": "markdown",
      "source": [
        "### Initializing the generator, discriminator, optimizer, labels, and loss."
      ],
      "metadata": {
        "id": "uau2WOFLtdHE"
      },
      "id": "uau2WOFLtdHE"
    },
    {
      "cell_type": "code",
      "source": [
        "generator = G().to(device)\n",
        "discriminator = D().to(device)\n",
        "\n",
        "\n",
        "G_optimizer = t.optim.Adam(generator.parameters(), lr = 0.001)\n",
        "D_optimizer = t.optim.Adam(discriminator.parameters(), lr = 0.001)\n",
        "\n",
        "label_real = t.ones((batch_size, 1)).to(device)\n",
        "label_fake = t.zeros((batch_size, 1)).to(device)\n",
        "\n",
        "bceLoss = nn.BCEWithLogitsLoss()"
      ],
      "metadata": {
        "id": "tYHwz-Jmtp0D"
      },
      "id": "tYHwz-Jmtp0D",
      "execution_count": 218,
      "outputs": []
    },
    {
      "cell_type": "markdown",
      "source": [
        "### Start training"
      ],
      "metadata": {
        "id": "iwMi3phCuk79"
      },
      "id": "iwMi3phCuk79"
    },
    {
      "cell_type": "code",
      "execution_count": 219,
      "id": "19c068f5",
      "metadata": {
        "id": "19c068f5",
        "colab": {
          "base_uri": "https://localhost:8080/",
          "height": 1000
        },
        "outputId": "acefb816-92ae-4a70-bf89-236a096c7d8b"
      },
      "outputs": [
        {
          "metadata": {
            "tags": null
          },
          "name": "stderr",
          "output_type": "stream",
          "text": [
            "Epoch: 0: 100%|██████████| 55/55 [00:15<00:00,  3.44it/s, D_total_loss=0.511, G_loss=0.459, fake_score=-.549, real_score=3.19]\n"
          ]
        },
        {
          "metadata": {
            "tags": null
          },
          "name": "stdout",
          "output_type": "stream",
          "text": [
            "epoch =  55\n",
            "Epoch [0/40], Step [55/55], d_loss: 0.5110, g_loss: 0.4589, D(x): 3.19, D(G(z)): -0.55\n"
          ]
        },
        {
          "metadata": {
            "tags": null
          },
          "name": "stderr",
          "output_type": "stream",
          "text": [
            "Epoch: 1: 100%|██████████| 55/55 [00:17<00:00,  3.17it/s, D_total_loss=0.433, G_loss=0.428, fake_score=-.631, real_score=5.56]\n",
            "Epoch: 2: 100%|██████████| 55/55 [00:17<00:00,  3.17it/s, D_total_loss=0.0354, G_loss=0.0305, fake_score=-3.7, real_score=4.99]\n"
          ]
        },
        {
          "metadata": {
            "tags": null
          },
          "name": "stdout",
          "output_type": "stream",
          "text": [
            "epoch =  55\n",
            "Epoch [2/40], Step [55/55], d_loss: 0.0354, g_loss: 0.0305, D(x): 4.99, D(G(z)): -3.70\n"
          ]
        },
        {
          "metadata": {
            "tags": null
          },
          "name": "stderr",
          "output_type": "stream",
          "text": [
            "Epoch: 3: 100%|██████████| 55/55 [00:16<00:00,  3.42it/s, D_total_loss=0.00572, G_loss=0.00398, fake_score=-5.6, real_score=6.97]\n",
            "Epoch: 4: 100%|██████████| 55/55 [00:17<00:00,  3.11it/s, D_total_loss=0.00271, G_loss=0.00185, fake_score=-6.34, real_score=7.85]\n"
          ]
        },
        {
          "metadata": {
            "tags": null
          },
          "name": "stdout",
          "output_type": "stream",
          "text": [
            "epoch =  55\n",
            "Epoch [4/40], Step [55/55], d_loss: 0.0027, g_loss: 0.0018, D(x): 7.85, D(G(z)): -6.34\n"
          ]
        },
        {
          "metadata": {
            "tags": null
          },
          "name": "stderr",
          "output_type": "stream",
          "text": [
            "Epoch: 5: 100%|██████████| 55/55 [00:16<00:00,  3.35it/s, D_total_loss=0.00163, G_loss=0.00108, fake_score=-6.86, real_score=8.43]\n",
            "Epoch: 6: 100%|██████████| 55/55 [00:17<00:00,  3.23it/s, D_total_loss=0.0011, G_loss=0.000732, fake_score=-7.25, real_score=8.88]\n"
          ]
        },
        {
          "metadata": {
            "tags": null
          },
          "name": "stdout",
          "output_type": "stream",
          "text": [
            "epoch =  55\n",
            "Epoch [6/40], Step [55/55], d_loss: 0.0011, g_loss: 0.0007, D(x): 8.88, D(G(z)): -7.25\n"
          ]
        },
        {
          "metadata": {
            "tags": null
          },
          "name": "stderr",
          "output_type": "stream",
          "text": [
            "Epoch: 7: 100%|██████████| 55/55 [00:16<00:00,  3.37it/s, D_total_loss=0.000802, G_loss=0.000532, fake_score=-7.57, real_score=9.25]\n",
            "Epoch: 8: 100%|██████████| 55/55 [00:18<00:00,  3.04it/s, D_total_loss=0.000605, G_loss=0.000399, fake_score=-7.85, real_score=9.56]\n"
          ]
        },
        {
          "metadata": {
            "tags": null
          },
          "name": "stdout",
          "output_type": "stream",
          "text": [
            "epoch =  55\n",
            "Epoch [8/40], Step [55/55], d_loss: 0.0006, g_loss: 0.0004, D(x): 9.56, D(G(z)): -7.85\n"
          ]
        },
        {
          "metadata": {
            "tags": null
          },
          "name": "stderr",
          "output_type": "stream",
          "text": [
            "Epoch: 9: 100%|██████████| 55/55 [00:17<00:00,  3.18it/s, D_total_loss=0.000482, G_loss=0.000321, fake_score=-8.08, real_score=9.84]\n",
            "Epoch: 10: 100%|██████████| 55/55 [00:15<00:00,  3.50it/s, D_total_loss=0.000388, G_loss=0.000256, fake_score=-8.29, real_score=10.1]\n"
          ]
        },
        {
          "metadata": {
            "tags": null
          },
          "name": "stdout",
          "output_type": "stream",
          "text": [
            "epoch =  55\n",
            "Epoch [10/40], Step [55/55], d_loss: 0.0004, g_loss: 0.0003, D(x): 10.09, D(G(z)): -8.29\n"
          ]
        },
        {
          "metadata": {
            "tags": null
          },
          "name": "stderr",
          "output_type": "stream",
          "text": [
            "Epoch: 11: 100%|██████████| 55/55 [00:19<00:00,  2.84it/s, D_total_loss=0.000321, G_loss=0.000218, fake_score=-8.48, real_score=10.3]\n",
            "Epoch: 12: 100%|██████████| 55/55 [00:15<00:00,  3.48it/s, D_total_loss=0.000271, G_loss=0.000181, fake_score=-8.65, real_score=10.5]\n"
          ]
        },
        {
          "metadata": {
            "tags": null
          },
          "name": "stdout",
          "output_type": "stream",
          "text": [
            "epoch =  55\n",
            "Epoch [12/40], Step [55/55], d_loss: 0.0003, g_loss: 0.0002, D(x): 10.52, D(G(z)): -8.65\n"
          ]
        },
        {
          "metadata": {
            "tags": null
          },
          "name": "stderr",
          "output_type": "stream",
          "text": [
            "Epoch: 13: 100%|██████████| 55/55 [00:16<00:00,  3.41it/s, D_total_loss=0.000231, G_loss=0.000155, fake_score=-8.81, real_score=10.7]\n",
            "Epoch: 14: 100%|██████████| 55/55 [00:15<00:00,  3.49it/s, D_total_loss=0.0002, G_loss=0.000132, fake_score=-8.95, real_score=10.9]\n"
          ]
        },
        {
          "metadata": {
            "tags": null
          },
          "name": "stdout",
          "output_type": "stream",
          "text": [
            "epoch =  55\n",
            "Epoch [14/40], Step [55/55], d_loss: 0.0002, g_loss: 0.0001, D(x): 10.89, D(G(z)): -8.95\n"
          ]
        },
        {
          "metadata": {
            "tags": null
          },
          "name": "stderr",
          "output_type": "stream",
          "text": [
            "Epoch: 15: 100%|██████████| 55/55 [00:15<00:00,  3.52it/s, D_total_loss=0.000174, G_loss=0.000117, fake_score=-9.09, real_score=11.1]\n",
            "Epoch: 16: 100%|██████████| 55/55 [00:15<00:00,  3.52it/s, D_total_loss=0.000154, G_loss=0.000101, fake_score=-9.21, real_score=11.2]\n"
          ]
        },
        {
          "metadata": {
            "tags": null
          },
          "name": "stdout",
          "output_type": "stream",
          "text": [
            "epoch =  55\n",
            "Epoch [16/40], Step [55/55], d_loss: 0.0002, g_loss: 0.0001, D(x): 11.21, D(G(z)): -9.21\n"
          ]
        },
        {
          "metadata": {
            "tags": null
          },
          "name": "stderr",
          "output_type": "stream",
          "text": [
            "Epoch: 17: 100%|██████████| 55/55 [00:15<00:00,  3.45it/s, D_total_loss=0.000135, G_loss=9e-5, fake_score=-9.34, real_score=11.4]\n",
            "Epoch: 18: 100%|██████████| 55/55 [00:15<00:00,  3.48it/s, D_total_loss=0.00012, G_loss=7.97e-5, fake_score=-9.46, real_score=11.5]\n"
          ]
        },
        {
          "metadata": {
            "tags": null
          },
          "name": "stdout",
          "output_type": "stream",
          "text": [
            "epoch =  55\n",
            "Epoch [18/40], Step [55/55], d_loss: 0.0001, g_loss: 0.0001, D(x): 11.50, D(G(z)): -9.46\n"
          ]
        },
        {
          "metadata": {
            "tags": null
          },
          "name": "stderr",
          "output_type": "stream",
          "text": [
            "Epoch: 19: 100%|██████████| 55/55 [00:15<00:00,  3.48it/s, D_total_loss=0.000107, G_loss=7.25e-5, fake_score=-9.57, real_score=11.6]\n",
            "Epoch: 20: 100%|██████████| 55/55 [00:15<00:00,  3.51it/s, D_total_loss=9.74e-5, G_loss=6.51e-5, fake_score=-9.66, real_score=11.8]\n"
          ]
        },
        {
          "metadata": {
            "tags": null
          },
          "name": "stdout",
          "output_type": "stream",
          "text": [
            "epoch =  55\n",
            "Epoch [20/40], Step [55/55], d_loss: 0.0001, g_loss: 0.0001, D(x): 11.76, D(G(z)): -9.66\n"
          ]
        },
        {
          "metadata": {
            "tags": null
          },
          "name": "stderr",
          "output_type": "stream",
          "text": [
            "Epoch: 21: 100%|██████████| 55/55 [00:15<00:00,  3.49it/s, D_total_loss=8.68e-5, G_loss=5.87e-5, fake_score=-9.78, real_score=11.9]\n",
            "Epoch: 22: 100%|██████████| 55/55 [00:15<00:00,  3.48it/s, D_total_loss=7.96e-5, G_loss=5.38e-5, fake_score=-9.86, real_score=12]\n"
          ]
        },
        {
          "metadata": {
            "tags": null
          },
          "name": "stdout",
          "output_type": "stream",
          "text": [
            "epoch =  55\n",
            "Epoch [22/40], Step [55/55], d_loss: 0.0001, g_loss: 0.0001, D(x): 12.00, D(G(z)): -9.86\n"
          ]
        },
        {
          "metadata": {
            "tags": null
          },
          "name": "stderr",
          "output_type": "stream",
          "text": [
            "Epoch: 23: 100%|██████████| 55/55 [00:15<00:00,  3.49it/s, D_total_loss=7.24e-5, G_loss=4.88e-5, fake_score=-9.95, real_score=12.1]\n",
            "Epoch: 24: 100%|██████████| 55/55 [00:15<00:00,  3.46it/s, D_total_loss=6.65e-5, G_loss=4.48e-5, fake_score=-10, real_score=12.2]\n"
          ]
        },
        {
          "metadata": {
            "tags": null
          },
          "name": "stdout",
          "output_type": "stream",
          "text": [
            "epoch =  55\n",
            "Epoch [24/40], Step [55/55], d_loss: 0.0001, g_loss: 0.0000, D(x): 12.22, D(G(z)): -10.04\n"
          ]
        },
        {
          "metadata": {
            "tags": null
          },
          "name": "stderr",
          "output_type": "stream",
          "text": [
            "Epoch: 25: 100%|██████████| 55/55 [00:15<00:00,  3.48it/s, D_total_loss=6.08e-5, G_loss=4.07e-5, fake_score=-10.1, real_score=12.3]\n",
            "Epoch: 26: 100%|██████████| 55/55 [00:15<00:00,  3.49it/s, D_total_loss=5.6e-5, G_loss=3.82e-5, fake_score=-10.2, real_score=12.4]\n"
          ]
        },
        {
          "metadata": {
            "tags": null
          },
          "name": "stdout",
          "output_type": "stream",
          "text": [
            "epoch =  55\n",
            "Epoch [26/40], Step [55/55], d_loss: 0.0001, g_loss: 0.0000, D(x): 12.43, D(G(z)): -10.21\n"
          ]
        },
        {
          "metadata": {
            "tags": null
          },
          "name": "stderr",
          "output_type": "stream",
          "text": [
            "Epoch: 27: 100%|██████████| 55/55 [00:15<00:00,  3.48it/s, D_total_loss=5.12e-5, G_loss=3.48e-5, fake_score=-10.3, real_score=12.5]\n",
            "Epoch: 28: 100%|██████████| 55/55 [00:15<00:00,  3.49it/s, D_total_loss=4.84e-5, G_loss=3.21e-5, fake_score=-10.3, real_score=12.6]\n"
          ]
        },
        {
          "metadata": {
            "tags": null
          },
          "name": "stdout",
          "output_type": "stream",
          "text": [
            "epoch =  55\n",
            "Epoch [28/40], Step [55/55], d_loss: 0.0000, g_loss: 0.0000, D(x): 12.62, D(G(z)): -10.35\n"
          ]
        },
        {
          "metadata": {
            "tags": null
          },
          "name": "stderr",
          "output_type": "stream",
          "text": [
            "Epoch: 29: 100%|██████████| 55/55 [00:15<00:00,  3.49it/s, D_total_loss=4.41e-5, G_loss=3.07e-5, fake_score=-10.4, real_score=12.7]\n",
            "Epoch: 30: 100%|██████████| 55/55 [00:15<00:00,  3.47it/s, D_total_loss=4.08e-5, G_loss=2.78e-5, fake_score=-10.5, real_score=12.8]\n"
          ]
        },
        {
          "metadata": {
            "tags": null
          },
          "name": "stdout",
          "output_type": "stream",
          "text": [
            "epoch =  55\n",
            "Epoch [30/40], Step [55/55], d_loss: 0.0000, g_loss: 0.0000, D(x): 12.80, D(G(z)): -10.52\n"
          ]
        },
        {
          "metadata": {
            "tags": null
          },
          "name": "stderr",
          "output_type": "stream",
          "text": [
            "Epoch: 31: 100%|██████████| 55/55 [00:15<00:00,  3.48it/s, D_total_loss=3.86e-5, G_loss=2.64e-5, fake_score=-10.6, real_score=12.9]\n",
            "Epoch: 32: 100%|██████████| 55/55 [00:15<00:00,  3.48it/s, D_total_loss=3.55e-5, G_loss=2.42e-5, fake_score=-10.7, real_score=13]\n"
          ]
        },
        {
          "metadata": {
            "tags": null
          },
          "name": "stdout",
          "output_type": "stream",
          "text": [
            "epoch =  55\n",
            "Epoch [32/40], Step [55/55], d_loss: 0.0000, g_loss: 0.0000, D(x): 12.98, D(G(z)): -10.66\n"
          ]
        },
        {
          "output_type": "stream",
          "name": "stderr",
          "text": [
            "Epoch: 33: 100%|██████████| 55/55 [00:15<00:00,  3.53it/s, D_total_loss=3.37e-5, G_loss=2.27e-5, fake_score=-10.7, real_score=13.1]\n",
            "Epoch: 34: 100%|██████████| 55/55 [00:15<00:00,  3.52it/s, D_total_loss=3.12e-5, G_loss=2.15e-5, fake_score=-10.8, real_score=13.1]\n"
          ]
        },
        {
          "output_type": "stream",
          "name": "stdout",
          "text": [
            "epoch =  55\n",
            "Epoch [34/40], Step [55/55], d_loss: 0.0000, g_loss: 0.0000, D(x): 13.14, D(G(z)): -10.78\n"
          ]
        },
        {
          "output_type": "stream",
          "name": "stderr",
          "text": [
            "Epoch: 35: 100%|██████████| 55/55 [00:15<00:00,  3.50it/s, D_total_loss=2.96e-5, G_loss=2.02e-5, fake_score=-10.8, real_score=13.2]\n",
            "Epoch: 36: 100%|██████████| 55/55 [00:15<00:00,  3.54it/s, D_total_loss=2.74e-5, G_loss=1.87e-5, fake_score=-10.9, real_score=13.3]\n"
          ]
        },
        {
          "output_type": "stream",
          "name": "stdout",
          "text": [
            "epoch =  55\n",
            "Epoch [36/40], Step [55/55], d_loss: 0.0000, g_loss: 0.0000, D(x): 13.30, D(G(z)): -10.91\n"
          ]
        },
        {
          "output_type": "stream",
          "name": "stderr",
          "text": [
            "Epoch: 37: 100%|██████████| 55/55 [00:15<00:00,  3.48it/s, D_total_loss=2.58e-5, G_loss=1.79e-5, fake_score=-11, real_score=13.4]\n",
            "Epoch: 38: 100%|██████████| 55/55 [00:15<00:00,  3.49it/s, D_total_loss=2.43e-5, G_loss=1.68e-5, fake_score=-11, real_score=13.5]\n"
          ]
        },
        {
          "output_type": "stream",
          "name": "stdout",
          "text": [
            "epoch =  55\n",
            "Epoch [38/40], Step [55/55], d_loss: 0.0000, g_loss: 0.0000, D(x): 13.45, D(G(z)): -11.03\n"
          ]
        },
        {
          "output_type": "stream",
          "name": "stderr",
          "text": [
            "Epoch: 39: 100%|██████████| 55/55 [00:15<00:00,  3.50it/s, D_total_loss=2.29e-5, G_loss=1.58e-5, fake_score=-11.1, real_score=13.5]\n"
          ]
        },
        {
          "output_type": "display_data",
          "data": {
            "text/plain": [
              "<Figure size 100x100 with 1 Axes>"
            ],
            "image/png": "[encoded data removed]"
          },
          "metadata": {
            "needs_background": "light"
          }
        },
        {
          "output_type": "display_data",
          "data": {
            "text/plain": [
              "<Figure size 100x100 with 1 Axes>"
            ],
            "image/png": "[encoded data removed]"
          },
          "metadata": {
            "needs_background": "light"
          }
        },
        {
          "output_type": "display_data",
          "data": {
            "text/plain": [
              "<Figure size 100x100 with 1 Axes>"
            ],
            "image/png": "[encoded data removed]"
          },
          "metadata": {
            "needs_background": "light"
          }
        },
        {
          "output_type": "display_data",
          "data": {
            "text/plain": [
              "<Figure size 100x100 with 1 Axes>"
            ],
            "image/png": "[encoded data removed]"
          },
          "metadata": {
            "needs_background": "light"
          }
        },
        {
          "output_type": "display_data",
          "data": {
            "text/plain": [
              "<Figure size 100x100 with 1 Axes>"
            ],
            "image/png": "[encoded data removed]"
          },
          "metadata": {
            "needs_background": "light"
          }
        },
        {
          "output_type": "display_data",
          "data": {
            "text/plain": [
              "<Figure size 100x100 with 1 Axes>"
            ],
            "image/png": "[encoded data removed]"
          },
          "metadata": {
            "needs_background": "light"
          }
        },
        {
          "output_type": "display_data",
          "data": {
            "text/plain": [
              "<Figure size 100x100 with 1 Axes>"
            ],
            "image/png": "[encoded data removed]"
          },
          "metadata": {
            "needs_background": "light"
          }
        },
        {
          "output_type": "display_data",
          "data": {
            "text/plain": [
              "<Figure size 100x100 with 1 Axes>"
            ],
            "image/png": "[encoded data removed]"
          },
          "metadata": {
            "needs_background": "light"
          }
        },
        {
          "output_type": "display_data",
          "data": {
            "text/plain": [
              "<Figure size 100x100 with 1 Axes>"
            ],
            "image/png": "[encoded data removed]"
          },
          "metadata": {
            "needs_background": "light"
          }
        },
        {
          "output_type": "display_data",
          "data": {
            "text/plain": [
              "<Figure size 100x100 with 1 Axes>"
            ],
            "image/png": "[encoded data removed]"
          },
          "metadata": {
            "needs_background": "light"
          }
        },
        {
          "output_type": "display_data",
          "data": {
            "text/plain": [
              "<Figure size 100x100 with 1 Axes>"
            ],
            "image/png": "[encoded data removed]"
          },
          "metadata": {
            "needs_background": "light"
          }
        },
        {
          "output_type": "display_data",
          "data": {
            "text/plain": [
              "<Figure size 100x100 with 1 Axes>"
            ],
            "image/png": "[encoded data removed]"
          },
          "metadata": {
            "needs_background": "light"
          }
        },
        {
          "output_type": "display_data",
          "data": {
            "text/plain": [
              "<Figure size 100x100 with 1 Axes>"
            ],
            "image/png": "[encoded data removed]"
          },
          "metadata": {
            "needs_background": "light"
          }
        },
        {
          "output_type": "display_data",
          "data": {
            "text/plain": [
              "<Figure size 100x100 with 1 Axes>"
            ],
            "image/png": "[encoded data removed]"
          },
          "metadata": {
            "needs_background": "light"
          }
        },
        {
          "output_type": "display_data",
          "data": {
            "text/plain": [
              "<Figure size 100x100 with 1 Axes>"
            ],
            "image/png": "[encoded data removed]"
          },
          "metadata": {
            "needs_background": "light"
          }
        },
        {
          "output_type": "display_data",
          "data": {
            "text/plain": [
              "<Figure size 100x100 with 1 Axes>"
            ],
            "image/png": "[encoded data removed]"
          },
          "metadata": {
            "needs_background": "light"
          }
        },
        {
          "output_type": "display_data",
          "data": {
            "text/plain": [
              "<Figure size 100x100 with 1 Axes>"
            ],
            "image/png": "[encoded data removed]"
          },
          "metadata": {
            "needs_background": "light"
          }
        },
        {
          "output_type": "display_data",
          "data": {
            "text/plain": [
              "<Figure size 100x100 with 1 Axes>"
            ],
            "image/png": "[encoded data removed]"
          },
          "metadata": {
            "needs_background": "light"
          }
        },
        {
          "output_type": "display_data",
          "data": {
            "text/plain": [
              "<Figure size 100x100 with 1 Axes>"
            ],
            "image/png": "[encoded data removed]"
          },
          "metadata": {
            "needs_background": "light"
          }
        },
        {
          "output_type": "display_data",
          "data": {
            "text/plain": [
              "<Figure size 100x100 with 1 Axes>"
            ],
            "image/png": "[encoded data removed]"
          },
          "metadata": {
            "needs_background": "light"
          }
        }
      ],
      "source": [
        "for i in range(iteration):\n",
        "\n",
        "    p = tqdm(range(total_data_len // batch_size + 1)) # This is a progress bar run on each epoch\n",
        "    \n",
        "    loader = iter(datasets)\n",
        "\n",
        "    for j in p:\n",
        "        \n",
        "    \n",
        "        batchNum = str(i)\n",
        "        \n",
        "        #Training the D\n",
        "        \n",
        "        #real data\n",
        "        real = next(loader).to(device)\n",
        "        #current_batch size (the last batch is different than others)\n",
        "        current_batch_size, c, h, w = real.shape\n",
        "        #labels\n",
        "        '''\n",
        "        Try wGAN loss!\n",
        "        '''\n",
        "        label_real = t.ones((current_batch_size, 1)).to(device)\n",
        "        label_fake = t.zeros((current_batch_size, 1)).to(device)\n",
        "\n",
        "        real_score = discriminator(real)\n",
        "        d_real_loss = bceLoss(real_score, label_real)\n",
        "        \n",
        "        input_noise = t.randn((current_batch_size, 1, 1, 5)).to(device)\n",
        "        fake = generator(input_noise, current_batch_size)\n",
        "        fake_score = discriminator(fake)\n",
        "\n",
        "        d_fake_loss = bceLoss(fake_score, label_fake)\n",
        "        \n",
        "        total_loss = d_real_loss + d_fake_loss\n",
        "\n",
        "        discriminator.zero_grad()\n",
        "        generator.zero_grad()\n",
        "        total_loss.backward()\n",
        "        D_optimizer.step()\n",
        "        \n",
        "\n",
        "        \n",
        "        #Training the G\n",
        "        \n",
        "        if j % critic == 0:\n",
        "          input_noise = t.randn((current_batch_size, 1, 1, 5)).to(device)\n",
        "          fake = generator(input_noise, current_batch_size)\n",
        "          fake_score = discriminator(fake)\n",
        "\n",
        "          g_fake_loss = bceLoss(fake_score, label_fake)\n",
        "\n",
        "          discriminator.zero_grad()\n",
        "          generator.zero_grad()\n",
        "          g_fake_loss.backward()\n",
        "          G_optimizer.step()\n",
        "        \n",
        "\n",
        "        \n",
        "        mse = \"Epoch: \" + batchNum\n",
        "        \n",
        "        p.set_description(mse)\n",
        "            \n",
        "        p.set_postfix(G_loss = g_fake_loss.item(), D_total_loss = total_loss.item(), real_score = real_score.mean().item(), fake_score = fake_score.mean().item())\n",
        "        \n",
        "        \n",
        "    \n",
        "    if i % 2 == 0:\n",
        "        input_noise = t.randn((batch_size, 1, 1, 5)).to(device)\n",
        "        images = generator(input_noise, batch_size)[0]\n",
        "        \n",
        "        showOneImge(images, i)\n",
        "        print(\"epoch = \", i + 1)  \n",
        "        print('Epoch [{}/{}], Step [{}/{}], d_loss: {:.4f}, g_loss: {:.4f}, D(x): {:.2f}, D(G(z)): {:.2f}'.format(i, iteration, j+1, total_data_len // batch_size + 1, total_loss.item(), g_fake_loss.item(), real_score.mean().item(), fake_score.mean().item()))      \n",
        "    \n",
        "\n",
        "    if i % 10 == 0:\n",
        "      t.save(generator.state_dict(), f'{log_folder}/checkpoint/{str(i + 1).zfill(6)}_g.model')\n",
        "      t.save(discriminator.state_dict(), f'{log_folder}/checkpoint/{str(i + 1).zfill(6)}_d.model')\n"
      ]
    },
    {
      "cell_type": "markdown",
      "source": [
        "### remove log file when necessarry"
      ],
      "metadata": {
        "id": "QFhYIcFKF76d"
      },
      "id": "QFhYIcFKF76d"
    },
    {
      "cell_type": "code",
      "source": [
        "# !rm -rf /content/log/checkpoint\n",
        "\n",
        "# !mkdir /content/log/checkpoint\n",
        "\n",
        "# !rm -rf /content/log/sample\n",
        "# !mkdir /content/log/\n",
        "\n",
        "# from google.colab import files\n",
        "# files.download('/content/log') "
      ],
      "metadata": {
        "colab": {
          "base_uri": "https://localhost:8080/",
          "height": 34
        },
        "id": "ERTMUfeIFrp3",
        "outputId": "6c01dce4-c2c2-4ccd-bb9f-0b4d96b0170b"
      },
      "id": "ERTMUfeIFrp3",
      "execution_count": 221,
      "outputs": [
        {
          "output_type": "display_data",
          "data": {
            "text/plain": [
              "<IPython.core.display.Javascript object>"
            ],
            "application/javascript": [
              "\n",
              "    async function download(id, filename, size) {\n",
              "      if (!google.colab.kernel.accessAllowed) {\n",
              "        return;\n",
              "      }\n",
              "      const div = document.createElement('div');\n",
              "      const label = document.createElement('label');\n",
              "      label.textContent = `Downloading \"${filename}\": `;\n",
              "      div.appendChild(label);\n",
              "      const progress = document.createElement('progress');\n",
              "      progress.max = size;\n",
              "      div.appendChild(progress);\n",
              "      document.body.appendChild(div);\n",
              "\n",
              "      const buffers = [];\n",
              "      let downloaded = 0;\n",
              "\n",
              "      const channel = await google.colab.kernel.comms.open(id);\n",
              "      // Send a message to notify the kernel that we're ready.\n",
              "      channel.send({})\n",
              "\n",
              "      for await (const message of channel.messages) {\n",
              "        // Send a message to notify the kernel that we're ready.\n",
              "        channel.send({})\n",
              "        if (message.buffers) {\n",
              "          for (const buffer of message.buffers) {\n",
              "            buffers.push(buffer);\n",
              "            downloaded += buffer.byteLength;\n",
              "            progress.value = downloaded;\n",
              "          }\n",
              "        }\n",
              "      }\n",
              "      const blob = new Blob(buffers, {type: 'application/binary'});\n",
              "      const a = document.createElement('a');\n",
              "      a.href = window.URL.createObjectURL(blob);\n",
              "      a.download = filename;\n",
              "      div.appendChild(a);\n",
              "      a.click();\n",
              "      div.remove();\n",
              "    }\n",
              "  "
            ]
          },
          "metadata": {}
        },
        {
          "output_type": "display_data",
          "data": {
            "text/plain": [
              "<IPython.core.display.Javascript object>"
            ],
            "application/javascript": [
              "download(\"download_4e0aa76c-7a04-4f82-9599-15224b848b7b\", \"log\", 4096)"
            ]
          },
          "metadata": {}
        }
      ]
    }
  ],
  "metadata": {
    "kernelspec": {
      "display_name": "Python 3 (ipykernel)",
      "language": "python",
      "name": "python3"
    },
    "language_info": {
      "codemirror_mode": {
        "name": "ipython",
        "version": 3
      },
      "file_extension": ".py",
      "mimetype": "text/x-python",
      "name": "python",
      "nbconvert_exporter": "python",
      "pygments_lexer": "ipython3",
      "version": "3.9.10"
    },
    "colab": {
      "name": "64_cele_small_try.ipynb",
      "provenance": [],
      "collapsed_sections": [],
      "include_colab_link": true
    },
    "accelerator": "GPU"
  },
  "nbformat": 4,
  "nbformat_minor": 5
}