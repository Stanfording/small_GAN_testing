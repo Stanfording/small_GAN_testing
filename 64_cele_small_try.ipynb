{
  "cells": [
    {
      "cell_type": "markdown",
      "metadata": {
        "id": "view-in-github",
        "colab_type": "text"
      },
      "source": [
        "<a href=\"https://colab.research.google.com/github/Stanfording/small_GAN_testing/blob/main/64_cele_small_try.ipynb\" target=\"_parent\"><img src=\"https://colab.research.google.com/assets/colab-badge.svg\" alt=\"Open In Colab\"/></a>"
      ]
    },
    {
      "cell_type": "code",
      "source": [
        "# Get the preprocessed celebHD data from google drive\n",
        "\n",
        "#!mv \"/content/drive/MyDrive/Proressive GAN/proCeleba.zip\" \"content\"\n",
        "\n",
        "!unzip \"/content/drive/MyDrive/Proressive GAN/proCeleba.zip\" \"/content\""
      ],
      "metadata": {
        "colab": {
          "base_uri": "https://localhost:8080/"
        },
        "id": "_ENY7QR3Y2ja",
        "outputId": "55c285a4-d5ab-4575-c4a6-438e7734cdc8"
      },
      "id": "_ENY7QR3Y2ja",
      "execution_count": null,
      "outputs": [
        {
          "output_type": "stream",
          "name": "stdout",
          "text": [
            "Archive:  /content/drive/MyDrive/Proressive GAN/proCeleba.zip\n",
            "caution: filename not matched:  /content\n"
          ]
        }
      ]
    },
    {
      "cell_type": "code",
      "source": [
        "#!zip \"/content/proCeleba\" \"/content/drive/MyDrive/Proressive GAN/\""
      ],
      "metadata": {
        "colab": {
          "base_uri": "https://localhost:8080/"
        },
        "id": "SVugV5f-bNt8",
        "outputId": "a3a23522-615d-47c8-c043-aa141f6658de"
      },
      "id": "SVugV5f-bNt8",
      "execution_count": null,
      "outputs": [
        {
          "output_type": "stream",
          "name": "stdout",
          "text": [
            "updating: content/drive/MyDrive/Proressive GAN/ (stored 0%)\n"
          ]
        }
      ]
    },
    {
      "cell_type": "code",
      "source": [
        "#!mv \"/content/proCeleba.zip\" \"/content/drive/MyDrive/Proressive GAN/\""
      ],
      "metadata": {
        "id": "L7qPXRQmbufI"
      },
      "id": "L7qPXRQmbufI",
      "execution_count": null,
      "outputs": []
    },
    {
      "cell_type": "code",
      "source": [
        ""
      ],
      "metadata": {
        "id": "ak7S_rbBawpy"
      },
      "id": "ak7S_rbBawpy",
      "execution_count": null,
      "outputs": []
    },
    {
      "cell_type": "code",
      "execution_count": null,
      "id": "19c068f5",
      "metadata": {
        "id": "19c068f5"
      },
      "outputs": [],
      "source": [
        "# #!/usr/bin/env python3\n",
        "# # -*- coding: utf-8 -*-\n",
        "# \"\"\"\n",
        "# Created on Fri May  6 10:34:58 2022\n",
        "\n",
        "# @author: Stanford\n",
        "# \"\"\"\n",
        "\n",
        "\n",
        "'''Change the folder into tfrecord folder using tensorflow2'''\n",
        "\n",
        "\n",
        "\n",
        "import matplotlib.pyplot as plt\n",
        "import matplotlib.image as mpimg\n",
        "import numpy as np\n",
        "import tensorflow as tf\n",
        "import os\n",
        "import torch as t\n",
        "from torchvision import datasets, transforms, utils\n",
        "from torch.utils.data import Dataset, DataLoader\n",
        "from skimage import io\n",
        "\n",
        "\n",
        "class Get_No_Classes_Img_Dataset(Dataset):\n",
        "    \n",
        "    def __init__(self, folder_dir, transform = None):\n",
        "        self.folder_dir = os.path.join(folder_dir)\n",
        "        self.transform = transform\n",
        "        self.image_list = os.listdir(self.folder_dir)\n",
        "        \n",
        "    def __len__(self):\n",
        "        return len(os.listdir(self.folder_dir))\n",
        "    \n",
        "    def __getitem__(self, index):\n",
        "        \n",
        "        image_name = self.image_list[index]\n",
        "        \n",
        "        image_dir = os.path.join(self.folder_dir, image_name)\n",
        "        \n",
        "        image = io.imread(image_dir)\n",
        "        \n",
        "        return image\n",
        "        \n",
        "        \n",
        "        \n",
        "\n",
        "def conver_pic_dif_reso(path_of_1024_folder):\n",
        "    \n",
        "    '''\n",
        "    path_of_1024_folder: \n",
        "        string or os.path\n",
        "        folder to transfer to tfrecord\n",
        "    \n",
        "    \n",
        "    \n",
        "    1. Get a photo\n",
        "    2. create reso dir\n",
        "    3. get all 1024 photos\n",
        "    4. transfer them to lower reso and feed them to according files\n",
        "    '''\n",
        "    \n",
        "    \n",
        "    ''' Get a list of directories for all photos '''\n",
        "    folder = os.path.join(path_of_1024_folder)\n",
        "    photo_name_list = os.listdir(folder)\n",
        "    photo_dir = []\n",
        "    \n",
        "    for name in photo_name_list:\n",
        "        aphoto_dir = os.path.join(folder, name)\n",
        "        photo_dir.append(aphoto_dir)\n",
        "        \n",
        "    dir_to_name = {}\n",
        "    name_to_dir = {}\n",
        "    for i in range(len(photo_name_list)):\n",
        "        dir_to_name[photo_dir[i]] = photo_name_list[i]\n",
        "        name_to_dir[photo_name_list[i]] = photo_dir[i]\n",
        "    \n",
        "    ''' 1. Get a photo'''  \n",
        "    \n",
        "    a_photo = mpimg.imread(photo_dir[0])\n",
        "    w, h, c = a_photo.shape\n",
        "    \n",
        "    ''' 2. create reso dir'''\n",
        "    \n",
        "    num_of_file = int(np.log2(w))\n",
        "    \n",
        "    upper_folder = \"\"\n",
        "    if str(folder)[-1] != \"/\":\n",
        "        upper_folder = os.path.dirname(folder)\n",
        "    else:\n",
        "        upper_folder = os.path.dirname(os.path.dirname(folder))\n",
        "    \n",
        "    reso_dir = []\n",
        "    \n",
        "    for i in range(num_of_file - 1, 2, -1):\n",
        "        new_folder_dir = os.path.join(upper_folder, f\"{2 ** i}\")\n",
        "        #os.mkdir(new_folder_dir)\n",
        "        reso_dir.append(new_folder_dir)\n",
        "    \n",
        "    ''' 3. define a loop function that take a 1024 photo, then reshape and put it into according reso folder '''\n",
        "    \n",
        "    for one_photo_dir in photo_dir:\n",
        "        ''' 1. get a photo'''\n",
        "        try:\n",
        "            a_photo = io.imread(one_photo_dir)\n",
        "        except:\n",
        "            print(one_photo_dir)\n",
        "            continue\n",
        "        a_photo_name = dir_to_name[one_photo_dir]\n",
        "        \n",
        "        for i in range(num_of_file-1, 2, -1):\n",
        "            reso = 2 ** i\n",
        "            resizeFunc = transforms.Compose([\n",
        "                transforms.ToPILImage(),\n",
        "                transforms.Resize((reso, reso))\n",
        "                ])\n",
        "            lowerReso = resizeFunc(a_photo)\n",
        "            according_dir = reso_dir[9-i]\n",
        "            according_dir_img_name = os.path.join(according_dir, a_photo_name)\n",
        "            lowerReso.save(according_dir_img_name)\n",
        "            \n",
        "            \n",
        "    \n",
        "    \n",
        "    ''' define a transform function'''\n",
        "    \n",
        "\n",
        "    \n",
        "    \n",
        "    \n",
        "\n",
        "    return\n",
        "\n",
        "\n",
        "folder = \"/Users/Stanford/Desktop/Let's Go！/AI/GAN/proGAN/Self_modified ProGAN/proCeleba/1024/\"\n",
        "\n",
        "conver_pic_dif_reso(folder)\n",
        "\n",
        "\n",
        "\n",
        "\n",
        "\n",
        "\n",
        "\n",
        "\n",
        "\n",
        "\n",
        "\n",
        "\n",
        "\n",
        "\n",
        "\n",
        "\n",
        "\n",
        "\n",
        "\n",
        "\n",
        "\n",
        "\n",
        "\n",
        "\n",
        "\n"
      ]
    },
    {
      "cell_type": "code",
      "source": [
        "from google.colab import drive\n",
        "drive.mount('/content/drive')"
      ],
      "metadata": {
        "colab": {
          "base_uri": "https://localhost:8080/"
        },
        "id": "UmmxfFpwUAmT",
        "outputId": "2312868f-558d-4269-cb77-edd0da2265d3"
      },
      "id": "UmmxfFpwUAmT",
      "execution_count": null,
      "outputs": [
        {
          "output_type": "stream",
          "name": "stdout",
          "text": [
            "Drive already mounted at /content/drive; to attempt to forcibly remount, call drive.mount(\"/content/drive\", force_remount=True).\n"
          ]
        }
      ]
    }
  ],
  "metadata": {
    "kernelspec": {
      "display_name": "Python 3 (ipykernel)",
      "language": "python",
      "name": "python3"
    },
    "language_info": {
      "codemirror_mode": {
        "name": "ipython",
        "version": 3
      },
      "file_extension": ".py",
      "mimetype": "text/x-python",
      "name": "python",
      "nbconvert_exporter": "python",
      "pygments_lexer": "ipython3",
      "version": "3.9.10"
    },
    "colab": {
      "name": "64_cele_small_try.ipynb",
      "provenance": [],
      "collapsed_sections": [],
      "include_colab_link": true
    }
  },
  "nbformat": 4,
  "nbformat_minor": 5
}