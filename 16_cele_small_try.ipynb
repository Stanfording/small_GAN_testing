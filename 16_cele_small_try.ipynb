{
  "cells": [
    {
      "cell_type": "markdown",
      "metadata": {
        "id": "view-in-github",
        "colab_type": "text"
      },
      "source": [
        "<a href=\"https://colab.research.google.com/github/Stanfording/small_GAN_testing/blob/main/16_cele_small_try.ipynb\" target=\"_parent\"><img src=\"https://colab.research.google.com/assets/colab-badge.svg\" alt=\"Open In Colab\"/></a>"
      ]
    },
    {
      "cell_type": "markdown",
      "source": [
        "\n",
        "\n",
        "# Goal:   Just get a small GAN running\n",
        "\n"
      ],
      "metadata": {
        "id": "7gaYl2YwkRiu"
      },
      "id": "7gaYl2YwkRiu"
    },
    {
      "cell_type": "markdown",
      "source": [
        "Get the preprocessed celebHD data from google drive"
      ],
      "metadata": {
        "id": "wwbluY6JOvnI"
      },
      "id": "wwbluY6JOvnI"
    },
    {
      "cell_type": "code",
      "source": [
        "# #Download the dataset\n",
        "# !wget --load-cookies /tmp/cookies.txt \"https://docs.google.com/uc?export=download&confirm=$(wget --quiet --save-cookies /tmp/cookies.txt --keep-session-cookies --no-check-certificate 'https://docs.google.com/uc?export=download&id=1KqBRLsB0CJuQGycvaPINwaPgcGDUsAxN' -O- | sed -rn 's/.*confirm=([0-9A-Za-z_]+).*/\\1\\n/p')&id=1KqBRLsB0CJuQGycvaPINwaPgcGDUsAxN\" -O \"proCeleba.zip\" && rm -rf /tmp/cookies.txt\n",
        "\n",
        "# #unzip the dataset\n",
        "# !unzip \"/content/proCeleba.zip\"\n",
        "\n",
        "# #remove unnecessary files\n",
        "# !rm -rf /content/__MACOSX"
      ],
      "metadata": {
        "id": "_ENY7QR3Y2ja"
      },
      "id": "_ENY7QR3Y2ja",
      "execution_count": 177,
      "outputs": []
    },
    {
      "cell_type": "markdown",
      "source": [
        "## Import libraries"
      ],
      "metadata": {
        "id": "K9N_s9aEj9Z6"
      },
      "id": "K9N_s9aEj9Z6"
    },
    {
      "cell_type": "markdown",
      "source": [
        "### Install oneflow framework"
      ],
      "metadata": {
        "id": "yPo56lU-pF49"
      },
      "id": "yPo56lU-pF49"
    },
    {
      "cell_type": "code",
      "source": [
        "#!python3 -m pip install -f https://release.oneflow.info oneflow==0.7.0+cu102"
      ],
      "metadata": {
        "id": "d3nJqSVSpI-W"
      },
      "id": "d3nJqSVSpI-W",
      "execution_count": 178,
      "outputs": []
    },
    {
      "cell_type": "code",
      "source": [
        "#import oneflow as t"
      ],
      "metadata": {
        "id": "sgDILgD5puGs"
      },
      "id": "sgDILgD5puGs",
      "execution_count": 179,
      "outputs": []
    },
    {
      "cell_type": "code",
      "source": [
        "from tqdm import tqdm\n",
        "\n",
        "from torch.autograd import Variable, grad\n",
        "import matplotlib.pyplot as plt\n",
        "import matplotlib.image as mpimg\n",
        "import numpy as np\n",
        "from PIL import Image\n",
        "import os\n",
        "import torch as t\n",
        "import torch.nn as nn\n",
        "from torchvision import datasets, transforms, utils\n",
        "from torch.utils.data import Dataset, DataLoader\n",
        "from skimage import io\n",
        "import copy"
      ],
      "metadata": {
        "id": "bqG8XadZj6x9"
      },
      "id": "bqG8XadZj6x9",
      "execution_count": 180,
      "outputs": []
    },
    {
      "cell_type": "markdown",
      "source": [
        "### Set initial hyperparameters"
      ],
      "metadata": {
        "id": "KXdK6tiOkGSK"
      },
      "id": "KXdK6tiOkGSK"
    },
    {
      "cell_type": "code",
      "source": [
        "\n",
        "batch_size = 64\n",
        "\n",
        "resolution = 16\n",
        "\n",
        "img_fold_dir_64_reso = f\"/content/proCeleba/{resolution}\"\n",
        "\n",
        "iteration = 200\n",
        "\n",
        "critic = 20          #Train generator 5 times per epoch\n",
        "\n",
        "eval_size = 25\n",
        "\n",
        "laten_space = 100\n",
        "\n",
        "updatD_step = 5\n",
        "\n",
        "device = t.device('cuda' if t.cuda.is_available() else 'cpu')\n",
        "\n",
        "log_folder = \"log\"\n",
        "!mkdir \"log\"\n",
        "!mkdir \"log/checkpoint\"\n",
        "!mkdir \"log/sample\""
      ],
      "metadata": {
        "colab": {
          "base_uri": "https://localhost:8080/"
        },
        "id": "dAnYprRokGzv",
        "outputId": "5f53fe8e-96bb-4008-c6ff-6efdd24e62ad"
      },
      "id": "dAnYprRokGzv",
      "execution_count": 181,
      "outputs": [
        {
          "output_type": "stream",
          "name": "stdout",
          "text": [
            "mkdir: cannot create directory ‘log’: File exists\n",
            "mkdir: cannot create directory ‘log/checkpoint’: File exists\n",
            "mkdir: cannot create directory ‘log/sample’: File exists\n"
          ]
        }
      ]
    },
    {
      "cell_type": "markdown",
      "source": [
        "### Show me which gpu I am using."
      ],
      "metadata": {
        "id": "D1ief47pweis"
      },
      "id": "D1ief47pweis"
    },
    {
      "cell_type": "code",
      "source": [
        "!nvidia-smi -L"
      ],
      "metadata": {
        "colab": {
          "base_uri": "https://localhost:8080/"
        },
        "id": "Ix7mhx4twcAN",
        "outputId": "e8a9711c-9567-4eb7-8066-14fe3ea4c74f"
      },
      "id": "Ix7mhx4twcAN",
      "execution_count": 182,
      "outputs": [
        {
          "output_type": "stream",
          "name": "stdout",
          "text": [
            "GPU 0: Tesla P100-PCIE-16GB (UUID: GPU-fbc9b77a-d009-7001-6a9e-b01b0c01b631)\n"
          ]
        }
      ]
    },
    {
      "cell_type": "markdown",
      "source": [
        "### Pre loading the data"
      ],
      "metadata": {
        "id": "EyOdcipBkmFl"
      },
      "id": "EyOdcipBkmFl"
    },
    {
      "cell_type": "code",
      "source": [
        "# Define a data class for load unclassfied data.\n",
        "class Get_No_Classes_Img_Dataset(Dataset):\n",
        "    \n",
        "    def __init__(self, folder_dir, transform = None):\n",
        "        self.folder_dir = os.path.join(folder_dir)\n",
        "        self.transform = transform\n",
        "        self.image_list = os.listdir(self.folder_dir)\n",
        "        \n",
        "    def __len__(self):\n",
        "        return len(os.listdir(self.folder_dir))\n",
        "    \n",
        "    def __getitem__(self, index):\n",
        "        \n",
        "        image_name = self.image_list[index]\n",
        "        \n",
        "        image_dir = os.path.join(self.folder_dir, image_name)\n",
        "        \n",
        "        image = io.imread(image_dir)\n",
        "        \n",
        "        if (self.transform != None):\n",
        "            image = self.transform(image)\n",
        "        \n",
        "        return image\n",
        "    \n",
        "\n",
        "transform = transforms.ToTensor() #From Batch * Highth * Width * Channel to Batch * Channel * Highth * Width\n",
        "                                  #Which is what pytorch CNN can work with.\n",
        "\n",
        "dataset = Get_No_Classes_Img_Dataset(img_fold_dir_64_reso, transform = transform) \n",
        "                                                            # datasets[0].shape = (16,16,3)\n",
        "                                                            # len(datasets) = 28000\n",
        "total_data_len = len(dataset)\n",
        "                                                                                            \n",
        "#datasets_batched = DataLoader(datasets, batch_size = batch_size) #loader is renewed every epoch\n"
      ],
      "metadata": {
        "id": "_z16ZYcck-RJ"
      },
      "id": "_z16ZYcck-RJ",
      "execution_count": 183,
      "outputs": []
    },
    {
      "cell_type": "markdown",
      "source": [
        "\n",
        "\n",
        "```\n",
        "loader = iter(loader)\n",
        "print(next(loader).shape) \n",
        "```\n",
        "will output\n",
        "\n",
        "\n",
        "```\n",
        "torch.Size([batch_size, 3, resolution, resolution])\n",
        "```\n",
        "\n",
        "So data loading is ready.\n",
        "\n",
        "What's left is keep using \n",
        "\n",
        "```\n",
        "next(loader)\n",
        "```\n",
        "to access each batch of data\n"
      ],
      "metadata": {
        "id": "J8EFVPstlDHD"
      },
      "id": "J8EFVPstlDHD"
    },
    {
      "cell_type": "markdown",
      "source": [
        "### Visualize a picture"
      ],
      "metadata": {
        "id": "wHfRekRs3-iJ"
      },
      "id": "wHfRekRs3-iJ"
    },
    {
      "cell_type": "code",
      "source": [
        "from IPython.display import Image, display\n",
        "\n",
        "\n",
        "\n",
        "\n",
        "# Viewing one data sample function:\n",
        "def showOneImge(img, i, shouldSave):\n",
        "    \n",
        "    img = img.squeeze()\n",
        "    \n",
        "    img = transforms.ToPILImage()(img)\n",
        "    \n",
        "    plt.figure(figsize = (10,10), dpi = 10)\n",
        "    plt.axis('off')\n",
        "    \n",
        "    if shouldSave:\n",
        "      saveDir = f'{log_folder}/sample/{str(i).zfill(6)}.png'\n",
        "      plt.imshow(img)\n",
        "      plt.savefig(saveDir, bbox_inches='tight', pad_inches = 0)\n",
        "      img = Image(saveDir)\n",
        "      display(img)\n",
        "    else:\n",
        "      deleteDir = f\"{log_folder}/sample/Delete.png\"\n",
        "      plt.imshow(img)\n",
        "      plt.savefig(deleteDir, bbox_inches='tight', pad_inches = 0)\n",
        "      img = Image(deleteDir)\n",
        "      display(img)\n",
        "      !rm \"/content/log/sample/Delete.png\"\n",
        "    return \n",
        "\n",
        "''' Testing showOneImage'''\n",
        "# loader = DataLoader(datasets, batch_size = batch_size)\n",
        "\n",
        "# data = iter(loader)\n",
        "\n",
        "# oneSample = next(data)[0]\n",
        "\n",
        "# showOneImge(oneSample, 9999, True)\n",
        "\n",
        "\n",
        "def showMoreImages(img, num):\n",
        "\n",
        "  subplot_x = int(num ** (1/2))\n",
        "  subplot_y = num // subplot_x\n",
        "  plt.figure(figsize = (2,2))\n",
        "  for i in range(len(img)):\n",
        "      aimg = transforms.ToPILImage()(img[i])\n",
        "      plt.subplot(subplot_x, subplot_y, i+1)\n",
        "      plt.imshow(aimg)\n",
        "      plt.axis('off')\n"
      ],
      "metadata": {
        "id": "Mob2aJ6CSLGr"
      },
      "id": "Mob2aJ6CSLGr",
      "execution_count": 184,
      "outputs": []
    },
    {
      "cell_type": "markdown",
      "source": [
        "-------------------------------------------------\n",
        "\n",
        "### Now Designing the simple GAN network"
      ],
      "metadata": {
        "id": "xf_Ocw2onofc"
      },
      "id": "xf_Ocw2onofc"
    },
    {
      "cell_type": "code",
      "source": [
        "\"\"\"\n",
        "Define the generator\n",
        "\"\"\"\n",
        "\n",
        "class G(nn.Module):\n",
        "    \n",
        "    def __init__(self):\n",
        "        super().__init__()\n",
        "\n",
        "        self.laten = nn.Sequential(\n",
        "            nn.Linear(laten_space, 100),\n",
        "            nn.Linear(100, 500),\n",
        "            nn.Linear(500, 128 * resolution * resolution))\n",
        "\n",
        "        self.model = nn.Sequential(\n",
        "            nn.Conv2d(128, 64, (3, 3), padding = \"same\"),\n",
        "            nn.LeakyReLU(0.2),\n",
        "            nn.BatchNorm2d(64),\n",
        "            nn.Conv2d(64, 32, (3, 3), padding = \"same\"),\n",
        "            nn.LeakyReLU(0.2),\n",
        "            nn.Dropout2d(),\n",
        "            nn.BatchNorm2d(32),\n",
        "            nn.Conv2d(32, 3, (3, 3), padding = \"same\"),\n",
        "            nn.Sigmoid()\n",
        "        )\n",
        "        \n",
        "        \n",
        "        \n",
        "    def forward(self, theInput, batch_size):\n",
        "        \n",
        "        x = self.laten(theInput)\n",
        "        \n",
        "        x = t.reshape(x, (batch_size, 128, resolution, resolution))\n",
        "         \n",
        "        x = self.model(x)\n",
        "            \n",
        "            \n",
        "        return x\n",
        "    \n",
        "class D(nn.Module):\n",
        "    \n",
        "    def __init__(self):\n",
        "        super().__init__()\n",
        "        self.netWork = nn.Sequential(\n",
        "            nn.Conv2d(3, 64, (3, 3), padding = \"same\"),\n",
        "            nn.LeakyReLU(),\n",
        "            nn.Dropout2d(0.3),\n",
        "            nn.Conv2d(64, 128, (3, 3), stride = (3, 3)),\n",
        "            nn.BatchNorm2d(128),\n",
        "            nn.LeakyReLU(),\n",
        "            nn.Conv2d(128, 1, (3, 3), stride = (3, 3)),\n",
        "            nn.Flatten())\n",
        "        \n",
        "    def forward(self, theInput):\n",
        "        \n",
        "        return self.netWork(theInput)"
      ],
      "metadata": {
        "id": "e7L9uvqjnt8C"
      },
      "id": "e7L9uvqjnt8C",
      "execution_count": 185,
      "outputs": []
    },
    {
      "cell_type": "markdown",
      "source": [
        "### Testing the network"
      ],
      "metadata": {
        "id": "rtBpnwV7n7dA"
      },
      "id": "rtBpnwV7n7dA"
    },
    {
      "cell_type": "code",
      "source": [
        "\"\"\"\n",
        "\n",
        "Testing the net work:\n",
        "\n",
        "\"\"\"\n",
        "\n",
        "# oneImg = next(iter(datasets))[0]\n",
        "\n",
        "# showOneImge(oneImg, 0)\n",
        "\n",
        "# oneImg = oneImg.expand(1,3,64,64)\n",
        "\n",
        "# print(oneImg.shape)\n",
        "\n",
        "# print(oneImg)\n",
        "\n",
        "# #img into G to test shape\n",
        "\n",
        "# input_noise_example = t.randn((batch_size, 1, 1, 5))\n",
        "\n",
        "# a = G()(input_noise_example, batch_size)\n",
        "# print(a[0])\n",
        "# showOneImge(a[0], 0)\n",
        "\n",
        "# b = D()(next(loader))\n",
        "\n",
        "# print(b.shape)"
      ],
      "metadata": {
        "colab": {
          "base_uri": "https://localhost:8080/",
          "height": 35
        },
        "id": "KcozfIv-n-Bu",
        "outputId": "59bef48f-b0da-4d96-b0af-b40a3eaef457"
      },
      "id": "KcozfIv-n-Bu",
      "execution_count": 186,
      "outputs": [
        {
          "output_type": "execute_result",
          "data": {
            "text/plain": [
              "'\\n\\nTesting the net work:\\n\\n'"
            ],
            "application/vnd.google.colaboratory.intrinsic+json": {
              "type": "string"
            }
          },
          "metadata": {},
          "execution_count": 186
        }
      ]
    },
    {
      "cell_type": "markdown",
      "source": [
        "### Gradient Penalty from wGAN, will test later."
      ],
      "metadata": {
        "id": "YsQ952nloLHH"
      },
      "id": "YsQ952nloLHH"
    },
    {
      "cell_type": "code",
      "source": [
        "def compute_gradient_penalty(D, real_samples, fake_samples, current_batch_size):\n",
        "    \"\"\"Calculates the gradient penalty loss for WGAN GP\"\"\"\n",
        "    # Random weight term for interpolation between real and fake samples\n",
        "    alpha = t.randn((current_batch_size, 1, 1, 1)).to(device)\n",
        "    # Get random interpolation between real and fake samples\n",
        "    interpolates = (alpha * real_samples + ((1 - alpha) * fake_samples)).requires_grad_(True)\n",
        "    \n",
        "    \n",
        "    d_interpolates = D(interpolates)\n",
        "    \n",
        "    \n",
        "    grad_x_hat = grad(\n",
        "            outputs=d_interpolates.sum(), inputs=interpolates, create_graph=True)[0]\n",
        "    grad_penalty = ((grad_x_hat.view(grad_x_hat.size(0), -1)\n",
        "                      .norm(2, dim=1) - 1)**2).mean()\n",
        "    grad_penalty = 10 * grad_penalty\n",
        "    \n",
        "    return grad_penalty"
      ],
      "metadata": {
        "id": "C4L3KtQpoV7N"
      },
      "id": "C4L3KtQpoV7N",
      "execution_count": 187,
      "outputs": []
    },
    {
      "cell_type": "markdown",
      "source": [
        "### Try FID LOSS"
      ],
      "metadata": {
        "id": "yAPv12swY7xc"
      },
      "id": "yAPv12swY7xc"
    },
    {
      "cell_type": "code",
      "source": [
        "#This is from https://machinelearningmastery.com/how-to-implement-the-frechet-inception-distance-fid-from-scratch/\n",
        "\n",
        "# example of calculating the frechet inception distance\n",
        "import numpy\n",
        "from numpy import cov\n",
        "from numpy import trace\n",
        "from numpy import iscomplexobj\n",
        "from numpy.random import random\n",
        "from scipy.linalg import sqrtm\n",
        " \n",
        "# calculate frechet inception distance\n",
        "def calculate_fid(act1, act2):\n",
        "\t# calculate mean and covariance statistics\n",
        "\tmu1, sigma1 = act1.mean(axis=0), cov(act1, rowvar=False)\n",
        "\tmu2, sigma2 = act2.mean(axis=0), cov(act2, rowvar=False)\n",
        "\t# calculate sum squared difference between means\n",
        "\tssdiff = numpy.sum((mu1 - mu2)**2.0)\n",
        "\t# calculate sqrt of product between cov\n",
        "\tcovmean = sqrtm(sigma1.dot(sigma2))\n",
        "\t# check and correct imaginary numbers from sqrt\n",
        "\tif iscomplexobj(covmean):\n",
        "\t\tcovmean = covmean.real\n",
        "\t# calculate score\n",
        "\tfid = ssdiff + trace(sigma1 + sigma2 - 2.0 * covmean)\n",
        "\treturn fid\n",
        "\n",
        "\n",
        "\n"
      ],
      "metadata": {
        "id": "iyBsM1OJY-y5"
      },
      "id": "iyBsM1OJY-y5",
      "execution_count": 188,
      "outputs": []
    },
    {
      "cell_type": "markdown",
      "source": [
        "### Initializing the generator, discriminator, optimizer, labels, and loss."
      ],
      "metadata": {
        "id": "uau2WOFLtdHE"
      },
      "id": "uau2WOFLtdHE"
    },
    {
      "cell_type": "code",
      "source": [
        "generator = G().to(device)\n",
        "discriminator = D().to(device)\n",
        "discriminatorReal = D().to(device)\n",
        "\n",
        "G_optimizer = t.optim.Adam(generator.parameters(), lr = 0.00001)\n",
        "D_optimizer = t.optim.Adam(discriminator.parameters(), lr = 0.00001)\n",
        "\n",
        "label_real = t.ones((batch_size, 1)).to(device)\n",
        "label_fake = t.zeros((batch_size, 1)).to(device)\n",
        "\n",
        "bceLoss = nn.BCEWithLogitsLoss()\n",
        "\n",
        "should_train_G = True #True = train d, False = train g"
      ],
      "metadata": {
        "id": "tYHwz-Jmtp0D"
      },
      "id": "tYHwz-Jmtp0D",
      "execution_count": 189,
      "outputs": []
    },
    {
      "cell_type": "markdown",
      "source": [
        "### Train decider"
      ],
      "metadata": {
        "id": "YwZyQHRGrjEd"
      },
      "id": "YwZyQHRGrjEd"
    },
    {
      "cell_type": "code",
      "source": [
        "def what_to_train(fake_score, real_score, should_train_G):\n",
        "  last_should_train_G = should_train_G\n",
        "\n",
        "\n",
        "  if (fake_score < real_score * score_dif):\n",
        "    return True\n",
        "\n",
        "  if last_should_train_G:\n",
        "    if (fake_score > real_score * (1 - score_dif)):\n",
        "      return False\n",
        "    else:\n",
        "      return True\n",
        "\n",
        "  return False\n",
        "\n",
        "\n",
        "  \n",
        "  \n",
        "\n"
      ],
      "metadata": {
        "id": "kmvyM-njrmG_"
      },
      "id": "kmvyM-njrmG_",
      "execution_count": 190,
      "outputs": []
    },
    {
      "cell_type": "markdown",
      "source": [
        "### Start training"
      ],
      "metadata": {
        "id": "iwMi3phCuk79"
      },
      "id": "iwMi3phCuk79"
    },
    {
      "cell_type": "code",
      "execution_count": null,
      "id": "19c068f5",
      "metadata": {
        "id": "19c068f5",
        "colab": {
          "base_uri": "https://localhost:8080/",
          "height": 1000
        },
        "outputId": "a47f5fa1-c0a1-4ccc-d039-4669e0a89f2b"
      },
      "outputs": [
        {
          "metadata": {
            "tags": null
          },
          "name": "stderr",
          "output_type": "stream",
          "text": [
            "Epoch: 1: 100%|██████████| 438/438 [00:18<00:00, 23.49it/s, D_total_loss=-.245, G_loss=-.0371, fake_score=0.0758, real_score=0.454]\n"
          ]
        },
        {
          "data": {
            "image/png": "[encoded data removed]",
            "text/plain": [
              "<IPython.core.display.Image object>"
            ]
          },
          "metadata": {},
          "output_type": "display_data"
        },
        {
          "data": {
            "image/png": "[encoded data removed]",
            "text/plain": [
              "<IPython.core.display.Image object>"
            ]
          },
          "metadata": {},
          "output_type": "display_data"
        },
        {
          "data": {
            "image/png": "[encoded data removed]",
            "text/plain": [
              "<IPython.core.display.Image object>"
            ]
          },
          "metadata": {},
          "output_type": "display_data"
        },
        {
          "metadata": {
            "tags": null
          },
          "name": "stdout",
          "output_type": "stream",
          "text": [
            "epoch =  1\n",
            "Epoch [0/200], Step [438/438], d_loss: -0.2455, g_loss: -0.0371, D(x): 0.45, D(G(z)): 0.08\n"
          ]
        },
        {
          "metadata": {
            "tags": null
          },
          "name": "stderr",
          "output_type": "stream",
          "text": [
            "Epoch: 2: 100%|██████████| 438/438 [00:18<00:00, 23.19it/s, D_total_loss=-.728, G_loss=0.0237, fake_score=-.0301, real_score=0.802]\n",
            "Epoch: 3: 100%|██████████| 438/438 [00:18<00:00, 23.69it/s, D_total_loss=-.914, G_loss=0.0498, fake_score=-.106, real_score=0.937]\n"
          ]
        },
        {
          "data": {
            "image/png": "[encoded data removed]",
            "text/plain": [
              "<IPython.core.display.Image object>"
            ]
          },
          "metadata": {},
          "output_type": "display_data"
        },
        {
          "data": {
            "image/png": "[encoded data removed]",
            "text/plain": [
              "<IPython.core.display.Image object>"
            ]
          },
          "metadata": {},
          "output_type": "display_data"
        },
        {
          "metadata": {
            "tags": null
          },
          "name": "stdout",
          "output_type": "stream",
          "text": [
            "epoch =  3\n",
            "Epoch [2/200], Step [438/438], d_loss: -0.9142, g_loss: 0.0498, D(x): 0.94, D(G(z)): -0.11\n"
          ]
        },
        {
          "metadata": {
            "tags": null
          },
          "name": "stderr",
          "output_type": "stream",
          "text": [
            "Epoch: 4: 100%|██████████| 438/438 [00:19<00:00, 22.98it/s, D_total_loss=-.842, G_loss=0.158, fake_score=-.0744, real_score=1.09]\n",
            "Epoch: 5: 100%|██████████| 438/438 [00:19<00:00, 22.97it/s, D_total_loss=-1.21, G_loss=0.19, fake_score=-.197, real_score=1.07]\n"
          ]
        },
        {
          "data": {
            "image/png": "[encoded data removed]",
            "text/plain": [
              "<IPython.core.display.Image object>"
            ]
          },
          "metadata": {},
          "output_type": "display_data"
        },
        {
          "data": {
            "image/png": "[encoded data removed]",
            "text/plain": [
              "<IPython.core.display.Image object>"
            ]
          },
          "metadata": {},
          "output_type": "display_data"
        },
        {
          "metadata": {
            "tags": null
          },
          "name": "stdout",
          "output_type": "stream",
          "text": [
            "epoch =  5\n",
            "Epoch [4/200], Step [438/438], d_loss: -1.2072, g_loss: 0.1901, D(x): 1.07, D(G(z)): -0.20\n"
          ]
        },
        {
          "metadata": {
            "tags": null
          },
          "name": "stderr",
          "output_type": "stream",
          "text": [
            "Epoch: 6: 100%|██████████| 438/438 [00:18<00:00, 23.37it/s, D_total_loss=-1.28, G_loss=0.35, fake_score=-.343, real_score=1.02]\n",
            "Epoch: 7: 100%|██████████| 438/438 [00:19<00:00, 23.03it/s, D_total_loss=-1.42, G_loss=0.59, fake_score=-.647, real_score=0.879]\n"
          ]
        },
        {
          "data": {
            "image/png": "[encoded data removed]",
            "text/plain": [
              "<IPython.core.display.Image object>"
            ]
          },
          "metadata": {},
          "output_type": "display_data"
        },
        {
          "data": {
            "image/png": "[encoded data removed]",
            "text/plain": [
              "<IPython.core.display.Image object>"
            ]
          },
          "metadata": {},
          "output_type": "display_data"
        },
        {
          "metadata": {
            "tags": null
          },
          "name": "stdout",
          "output_type": "stream",
          "text": [
            "epoch =  7\n",
            "Epoch [6/200], Step [438/438], d_loss: -1.4229, g_loss: 0.5901, D(x): 0.88, D(G(z)): -0.65\n"
          ]
        },
        {
          "metadata": {
            "tags": null
          },
          "name": "stderr",
          "output_type": "stream",
          "text": [
            "Epoch: 8: 100%|██████████| 438/438 [00:18<00:00, 23.23it/s, D_total_loss=-1.42, G_loss=0.819, fake_score=-.859, real_score=0.732]\n",
            "Epoch: 9: 100%|██████████| 438/438 [00:18<00:00, 23.49it/s, D_total_loss=-1.27, G_loss=1.01, fake_score=-1.03, real_score=0.352]\n"
          ]
        },
        {
          "data": {
            "image/png": "[encoded data removed]",
            "text/plain": [
              "<IPython.core.display.Image object>"
            ]
          },
          "metadata": {},
          "output_type": "display_data"
        },
        {
          "data": {
            "image/png": "[encoded data removed]",
            "text/plain": [
              "<IPython.core.display.Image object>"
            ]
          },
          "metadata": {},
          "output_type": "display_data"
        },
        {
          "metadata": {
            "tags": null
          },
          "name": "stdout",
          "output_type": "stream",
          "text": [
            "epoch =  9\n",
            "Epoch [8/200], Step [438/438], d_loss: -1.2745, g_loss: 1.0068, D(x): 0.35, D(G(z)): -1.03\n"
          ]
        },
        {
          "metadata": {
            "tags": null
          },
          "name": "stderr",
          "output_type": "stream",
          "text": [
            "Epoch: 10: 100%|██████████| 438/438 [00:19<00:00, 22.93it/s, D_total_loss=-1.47, G_loss=1.48, fake_score=-1.43, real_score=0.217]\n",
            "Epoch: 11: 100%|██████████| 438/438 [00:19<00:00, 22.67it/s, D_total_loss=-1.63, G_loss=1.71, fake_score=-1.7, real_score=-.00368]\n"
          ]
        },
        {
          "data": {
            "image/png": "[encoded data removed]",
            "text/plain": [
              "<IPython.core.display.Image object>"
            ]
          },
          "metadata": {},
          "output_type": "display_data"
        },
        {
          "data": {
            "image/png": "[encoded data removed]",
            "text/plain": [
              "<IPython.core.display.Image object>"
            ]
          },
          "metadata": {},
          "output_type": "display_data"
        },
        {
          "metadata": {
            "tags": null
          },
          "name": "stdout",
          "output_type": "stream",
          "text": [
            "epoch =  11\n",
            "Epoch [10/200], Step [438/438], d_loss: -1.6269, g_loss: 1.7104, D(x): -0.00, D(G(z)): -1.70\n"
          ]
        },
        {
          "metadata": {
            "tags": null
          },
          "name": "stderr",
          "output_type": "stream",
          "text": [
            "Epoch: 12: 100%|██████████| 438/438 [00:19<00:00, 22.49it/s, D_total_loss=-1.83, G_loss=2.01, fake_score=-2.12, real_score=-.213]\n",
            "Epoch: 13: 100%|██████████| 438/438 [00:19<00:00, 22.69it/s, D_total_loss=-2.03, G_loss=2.27, fake_score=-2.37, real_score=-.162]\n"
          ]
        },
        {
          "data": {
            "image/png": "[encoded data removed]",
            "text/plain": [
              "<IPython.core.display.Image object>"
            ]
          },
          "metadata": {},
          "output_type": "display_data"
        },
        {
          "data": {
            "image/png": "[encoded data removed]",
            "text/plain": [
              "<IPython.core.display.Image object>"
            ]
          },
          "metadata": {},
          "output_type": "display_data"
        },
        {
          "metadata": {
            "tags": null
          },
          "name": "stdout",
          "output_type": "stream",
          "text": [
            "epoch =  13\n",
            "Epoch [12/200], Step [438/438], d_loss: -2.0347, g_loss: 2.2687, D(x): -0.16, D(G(z)): -2.37\n"
          ]
        },
        {
          "metadata": {
            "tags": null
          },
          "name": "stderr",
          "output_type": "stream",
          "text": [
            "Epoch: 14: 100%|██████████| 438/438 [00:19<00:00, 22.51it/s, D_total_loss=-2.18, G_loss=2.71, fake_score=-2.71, real_score=-.407]\n",
            "Epoch: 15: 100%|██████████| 438/438 [00:19<00:00, 22.43it/s, D_total_loss=-2.19, G_loss=2.88, fake_score=-2.99, real_score=-.527]\n"
          ]
        },
        {
          "data": {
            "image/png": "[encoded data removed]",
            "text/plain": [
              "<IPython.core.display.Image object>"
            ]
          },
          "metadata": {},
          "output_type": "display_data"
        },
        {
          "data": {
            "image/png": "[encoded data removed]",
            "text/plain": [
              "<IPython.core.display.Image object>"
            ]
          },
          "metadata": {},
          "output_type": "display_data"
        },
        {
          "metadata": {
            "tags": null
          },
          "name": "stdout",
          "output_type": "stream",
          "text": [
            "epoch =  15\n",
            "Epoch [14/200], Step [438/438], d_loss: -2.1870, g_loss: 2.8804, D(x): -0.53, D(G(z)): -2.99\n"
          ]
        },
        {
          "metadata": {
            "tags": null
          },
          "name": "stderr",
          "output_type": "stream",
          "text": [
            "Epoch: 16: 100%|██████████| 438/438 [00:19<00:00, 22.49it/s, D_total_loss=-2.41, G_loss=3.06, fake_score=-3.16, real_score=-.516]\n",
            "Epoch: 17: 100%|██████████| 438/438 [00:19<00:00, 22.46it/s, D_total_loss=-2.31, G_loss=3.22, fake_score=-3.34, real_score=-.618]\n"
          ]
        },
        {
          "data": {
            "image/png": "[encoded data removed]",
            "text/plain": [
              "<IPython.core.display.Image object>"
            ]
          },
          "metadata": {},
          "output_type": "display_data"
        },
        {
          "data": {
            "image/png": "[encoded data removed]",
            "text/plain": [
              "<IPython.core.display.Image object>"
            ]
          },
          "metadata": {},
          "output_type": "display_data"
        },
        {
          "metadata": {
            "tags": null
          },
          "name": "stdout",
          "output_type": "stream",
          "text": [
            "epoch =  17\n",
            "Epoch [16/200], Step [438/438], d_loss: -2.3084, g_loss: 3.2243, D(x): -0.62, D(G(z)): -3.34\n"
          ]
        },
        {
          "metadata": {
            "tags": null
          },
          "name": "stderr",
          "output_type": "stream",
          "text": [
            "Epoch: 18: 100%|██████████| 438/438 [00:19<00:00, 22.56it/s, D_total_loss=-2.11, G_loss=3.22, fake_score=-3.02, real_score=-.609]\n",
            "Epoch: 19: 100%|██████████| 438/438 [00:19<00:00, 22.44it/s, D_total_loss=-2, G_loss=2.89, fake_score=-2.86, real_score=-.5]\n"
          ]
        },
        {
          "data": {
            "image/png": "[encoded data removed]",
            "text/plain": [
              "<IPython.core.display.Image object>"
            ]
          },
          "metadata": {},
          "output_type": "display_data"
        },
        {
          "metadata": {
            "tags": null
          },
          "name": "stderr",
          "output_type": "stream",
          "text": [
            "/usr/local/lib/python3.7/dist-packages/ipykernel_launcher.py:13: RuntimeWarning: More than 20 figures have been opened. Figures created through the pyplot interface (`matplotlib.pyplot.figure`) are retained until explicitly closed and may consume too much memory. (To control this warning, see the rcParam `figure.max_open_warning`).\n",
            "  del sys.path[0]\n"
          ]
        },
        {
          "data": {
            "image/png": "[encoded data removed]",
            "text/plain": [
              "<IPython.core.display.Image object>"
            ]
          },
          "metadata": {},
          "output_type": "display_data"
        },
        {
          "metadata": {
            "tags": null
          },
          "name": "stdout",
          "output_type": "stream",
          "text": [
            "epoch =  19\n",
            "Epoch [18/200], Step [438/438], d_loss: -1.9974, g_loss: 2.8892, D(x): -0.50, D(G(z)): -2.86\n"
          ]
        },
        {
          "metadata": {
            "tags": null
          },
          "name": "stderr",
          "output_type": "stream",
          "text": [
            "Epoch: 20: 100%|██████████| 438/438 [00:19<00:00, 22.47it/s, D_total_loss=-2.17, G_loss=2.49, fake_score=-2.53, real_score=-.216]\n",
            "Epoch: 21: 100%|██████████| 438/438 [00:19<00:00, 22.95it/s, D_total_loss=-2.03, G_loss=2.14, fake_score=-2.17, real_score=-.0293]\n"
          ]
        },
        {
          "data": {
            "image/png": "[encoded data removed]",
            "text/plain": [
              "<IPython.core.display.Image object>"
            ]
          },
          "metadata": {},
          "output_type": "display_data"
        },
        {
          "data": {
            "image/png": "[encoded data removed]",
            "text/plain": [
              "<IPython.core.display.Image object>"
            ]
          },
          "metadata": {},
          "output_type": "display_data"
        },
        {
          "metadata": {
            "tags": null
          },
          "name": "stdout",
          "output_type": "stream",
          "text": [
            "epoch =  21\n",
            "Epoch [20/200], Step [438/438], d_loss: -2.0304, g_loss: 2.1379, D(x): -0.03, D(G(z)): -2.17\n"
          ]
        },
        {
          "metadata": {
            "tags": null
          },
          "name": "stderr",
          "output_type": "stream",
          "text": [
            "Epoch: 22: 100%|██████████| 438/438 [00:19<00:00, 22.92it/s, D_total_loss=-1.68, G_loss=1.95, fake_score=-1.77, real_score=0.0828]\n",
            "Epoch: 23: 100%|██████████| 438/438 [00:19<00:00, 22.28it/s, D_total_loss=-1.76, G_loss=1.75, fake_score=-1.61, real_score=0.245]\n"
          ]
        },
        {
          "data": {
            "image/png": "[encoded data removed]",
            "text/plain": [
              "<IPython.core.display.Image object>"
            ]
          },
          "metadata": {},
          "output_type": "display_data"
        },
        {
          "data": {
            "image/png": "[encoded data removed]",
            "text/plain": [
              "<IPython.core.display.Image object>"
            ]
          },
          "metadata": {},
          "output_type": "display_data"
        },
        {
          "metadata": {
            "tags": null
          },
          "name": "stdout",
          "output_type": "stream",
          "text": [
            "epoch =  23\n",
            "Epoch [22/200], Step [438/438], d_loss: -1.7555, g_loss: 1.7493, D(x): 0.25, D(G(z)): -1.61\n"
          ]
        },
        {
          "metadata": {
            "tags": null
          },
          "name": "stderr",
          "output_type": "stream",
          "text": [
            "Epoch: 24: 100%|██████████| 438/438 [00:19<00:00, 22.13it/s, D_total_loss=-1.9, G_loss=1.51, fake_score=-1.75, real_score=0.22]\n",
            "Epoch: 25: 100%|██████████| 438/438 [00:19<00:00, 22.14it/s, D_total_loss=-1.61, G_loss=1.5, fake_score=-1.33, real_score=0.384]\n"
          ]
        },
        {
          "data": {
            "image/png": "[encoded data removed]",
            "text/plain": [
              "<IPython.core.display.Image object>"
            ]
          },
          "metadata": {},
          "output_type": "display_data"
        },
        {
          "data": {
            "image/png": "[encoded data removed]",
            "text/plain": [
              "<IPython.core.display.Image object>"
            ]
          },
          "metadata": {},
          "output_type": "display_data"
        },
        {
          "metadata": {
            "tags": null
          },
          "name": "stdout",
          "output_type": "stream",
          "text": [
            "epoch =  25\n",
            "Epoch [24/200], Step [438/438], d_loss: -1.6106, g_loss: 1.4961, D(x): 0.38, D(G(z)): -1.33\n"
          ]
        },
        {
          "metadata": {
            "tags": null
          },
          "name": "stderr",
          "output_type": "stream",
          "text": [
            "Epoch: 26: 100%|██████████| 438/438 [00:20<00:00, 21.85it/s, D_total_loss=-1.42, G_loss=1.39, fake_score=-1.62, real_score=0.25]\n",
            "Epoch: 27: 100%|██████████| 438/438 [00:19<00:00, 21.98it/s, D_total_loss=-1.55, G_loss=1.49, fake_score=-1.39, real_score=0.329]\n"
          ]
        },
        {
          "data": {
            "image/png": "[encoded data removed]",
            "text/plain": [
              "<IPython.core.display.Image object>"
            ]
          },
          "metadata": {},
          "output_type": "display_data"
        },
        {
          "data": {
            "image/png": "[encoded data removed]",
            "text/plain": [
              "<IPython.core.display.Image object>"
            ]
          },
          "metadata": {},
          "output_type": "display_data"
        },
        {
          "metadata": {
            "tags": null
          },
          "name": "stdout",
          "output_type": "stream",
          "text": [
            "epoch =  27\n",
            "Epoch [26/200], Step [438/438], d_loss: -1.5535, g_loss: 1.4893, D(x): 0.33, D(G(z)): -1.39\n"
          ]
        },
        {
          "metadata": {
            "tags": null
          },
          "name": "stderr",
          "output_type": "stream",
          "text": [
            "Epoch: 28: 100%|██████████| 438/438 [00:20<00:00, 21.82it/s, D_total_loss=-1.64, G_loss=1.6, fake_score=-1.62, real_score=0.123]\n",
            "Epoch: 29: 100%|██████████| 438/438 [00:19<00:00, 22.26it/s, D_total_loss=-1.12, G_loss=1.57, fake_score=-1.45, real_score=-.0495]\n"
          ]
        },
        {
          "data": {
            "image/png": "[encoded data removed]",
            "text/plain": [
              "<IPython.core.display.Image object>"
            ]
          },
          "metadata": {},
          "output_type": "display_data"
        },
        {
          "data": {
            "image/png": "[encoded data removed]",
            "text/plain": [
              "<IPython.core.display.Image object>"
            ]
          },
          "metadata": {},
          "output_type": "display_data"
        },
        {
          "metadata": {
            "tags": null
          },
          "name": "stdout",
          "output_type": "stream",
          "text": [
            "epoch =  29\n",
            "Epoch [28/200], Step [438/438], d_loss: -1.1185, g_loss: 1.5731, D(x): -0.05, D(G(z)): -1.45\n"
          ]
        },
        {
          "metadata": {
            "tags": null
          },
          "name": "stderr",
          "output_type": "stream",
          "text": [
            "Epoch: 30: 100%|██████████| 438/438 [00:19<00:00, 22.11it/s, D_total_loss=-1.45, G_loss=1.6, fake_score=-1.52, real_score=0.00372]\n",
            "Epoch: 31: 100%|██████████| 438/438 [00:19<00:00, 22.27it/s, D_total_loss=-1.45, G_loss=1.81, fake_score=-1.61, real_score=0.0268]\n"
          ]
        },
        {
          "data": {
            "image/png": "[encoded data removed]",
            "text/plain": [
              "<IPython.core.display.Image object>"
            ]
          },
          "metadata": {},
          "output_type": "display_data"
        },
        {
          "data": {
            "image/png": "[encoded data removed]",
            "text/plain": [
              "<IPython.core.display.Image object>"
            ]
          },
          "metadata": {},
          "output_type": "display_data"
        },
        {
          "metadata": {
            "tags": null
          },
          "name": "stdout",
          "output_type": "stream",
          "text": [
            "epoch =  31\n",
            "Epoch [30/200], Step [438/438], d_loss: -1.4494, g_loss: 1.8121, D(x): 0.03, D(G(z)): -1.61\n"
          ]
        },
        {
          "metadata": {
            "tags": null
          },
          "name": "stderr",
          "output_type": "stream",
          "text": [
            "Epoch: 32: 100%|██████████| 438/438 [00:19<00:00, 22.03it/s, D_total_loss=-1.54, G_loss=1.72, fake_score=-1.76, real_score=-.11]\n",
            "Epoch: 33: 100%|██████████| 438/438 [00:19<00:00, 22.05it/s, D_total_loss=-1.6, G_loss=1.51, fake_score=-1.65, real_score=0.0427]\n"
          ]
        },
        {
          "data": {
            "image/png": "[encoded data removed]",
            "text/plain": [
              "<IPython.core.display.Image object>"
            ]
          },
          "metadata": {},
          "output_type": "display_data"
        },
        {
          "data": {
            "image/png": "[encoded data removed]",
            "text/plain": [
              "<IPython.core.display.Image object>"
            ]
          },
          "metadata": {},
          "output_type": "display_data"
        },
        {
          "metadata": {
            "tags": null
          },
          "name": "stdout",
          "output_type": "stream",
          "text": [
            "epoch =  33\n",
            "Epoch [32/200], Step [438/438], d_loss: -1.6044, g_loss: 1.5059, D(x): 0.04, D(G(z)): -1.65\n"
          ]
        },
        {
          "metadata": {
            "tags": null
          },
          "name": "stderr",
          "output_type": "stream",
          "text": [
            "Epoch: 34: 100%|██████████| 438/438 [00:19<00:00, 22.14it/s, D_total_loss=-.965, G_loss=1.4, fake_score=-1.36, real_score=0.0163]\n",
            "Epoch: 35: 100%|██████████| 438/438 [00:19<00:00, 22.09it/s, D_total_loss=-1.38, G_loss=1.27, fake_score=-1.44, real_score=0.112]\n"
          ]
        },
        {
          "data": {
            "image/png": "[encoded data removed]",
            "text/plain": [
              "<IPython.core.display.Image object>"
            ]
          },
          "metadata": {},
          "output_type": "display_data"
        },
        {
          "data": {
            "image/png": "[encoded data removed]",
            "text/plain": [
              "<IPython.core.display.Image object>"
            ]
          },
          "metadata": {},
          "output_type": "display_data"
        },
        {
          "metadata": {
            "tags": null
          },
          "name": "stdout",
          "output_type": "stream",
          "text": [
            "epoch =  35\n",
            "Epoch [34/200], Step [438/438], d_loss: -1.3846, g_loss: 1.2701, D(x): 0.11, D(G(z)): -1.44\n"
          ]
        },
        {
          "metadata": {
            "tags": null
          },
          "name": "stderr",
          "output_type": "stream",
          "text": [
            "Epoch: 36: 100%|██████████| 438/438 [00:19<00:00, 22.02it/s, D_total_loss=-.862, G_loss=1.36, fake_score=-1.29, real_score=0.152]\n",
            "Epoch: 37: 100%|██████████| 438/438 [00:19<00:00, 22.03it/s, D_total_loss=-1.24, G_loss=1.24, fake_score=-1.33, real_score=0.298]\n"
          ]
        },
        {
          "data": {
            "image/png": "[encoded data removed]",
            "text/plain": [
              "<IPython.core.display.Image object>"
            ]
          },
          "metadata": {},
          "output_type": "display_data"
        },
        {
          "data": {
            "image/png": "[encoded data removed]",
            "text/plain": [
              "<IPython.core.display.Image object>"
            ]
          },
          "metadata": {},
          "output_type": "display_data"
        },
        {
          "metadata": {
            "tags": null
          },
          "name": "stdout",
          "output_type": "stream",
          "text": [
            "epoch =  37\n",
            "Epoch [36/200], Step [438/438], d_loss: -1.2450, g_loss: 1.2397, D(x): 0.30, D(G(z)): -1.33\n"
          ]
        },
        {
          "metadata": {
            "tags": null
          },
          "name": "stderr",
          "output_type": "stream",
          "text": [
            "Epoch: 38: 100%|██████████| 438/438 [00:19<00:00, 22.08it/s, D_total_loss=-.777, G_loss=1.22, fake_score=-1.37, real_score=0.125]\n",
            "Epoch: 39: 100%|██████████| 438/438 [00:19<00:00, 22.04it/s, D_total_loss=-1.52, G_loss=1.12, fake_score=-1.3, real_score=0.337]\n"
          ]
        },
        {
          "data": {
            "image/png": "[encoded data removed]",
            "text/plain": [
              "<IPython.core.display.Image object>"
            ]
          },
          "metadata": {},
          "output_type": "display_data"
        },
        {
          "data": {
            "image/png": "[encoded data removed]",
            "text/plain": [
              "<IPython.core.display.Image object>"
            ]
          },
          "metadata": {},
          "output_type": "display_data"
        },
        {
          "metadata": {
            "tags": null
          },
          "name": "stdout",
          "output_type": "stream",
          "text": [
            "epoch =  39\n",
            "Epoch [38/200], Step [438/438], d_loss: -1.5163, g_loss: 1.1196, D(x): 0.34, D(G(z)): -1.30\n"
          ]
        },
        {
          "metadata": {
            "tags": null
          },
          "name": "stderr",
          "output_type": "stream",
          "text": [
            "Epoch: 40: 100%|██████████| 438/438 [00:19<00:00, 22.07it/s, D_total_loss=-1.38, G_loss=1.3, fake_score=-1.25, real_score=0.341]\n",
            "Epoch: 41: 100%|██████████| 438/438 [00:19<00:00, 21.94it/s, D_total_loss=-1.53, G_loss=1, fake_score=-1.3, real_score=0.322]\n"
          ]
        },
        {
          "data": {
            "image/png": "[encoded data removed]",
            "text/plain": [
              "<IPython.core.display.Image object>"
            ]
          },
          "metadata": {},
          "output_type": "display_data"
        },
        {
          "data": {
            "image/png": "[encoded data removed]",
            "text/plain": [
              "<IPython.core.display.Image object>"
            ]
          },
          "metadata": {},
          "output_type": "display_data"
        },
        {
          "metadata": {
            "tags": null
          },
          "name": "stdout",
          "output_type": "stream",
          "text": [
            "epoch =  41\n",
            "Epoch [40/200], Step [438/438], d_loss: -1.5310, g_loss: 1.0003, D(x): 0.32, D(G(z)): -1.30\n"
          ]
        },
        {
          "metadata": {
            "tags": null
          },
          "name": "stderr",
          "output_type": "stream",
          "text": [
            "Epoch: 42: 100%|██████████| 438/438 [00:19<00:00, 21.91it/s, D_total_loss=-1.32, G_loss=1.09, fake_score=-1.2, real_score=0.199]\n",
            "Epoch: 43: 100%|██████████| 438/438 [00:19<00:00, 22.03it/s, D_total_loss=-.861, G_loss=0.744, fake_score=-.945, real_score=0.199]\n"
          ]
        },
        {
          "data": {
            "image/png": "[encoded data removed]",
            "text/plain": [
              "<IPython.core.display.Image object>"
            ]
          },
          "metadata": {},
          "output_type": "display_data"
        },
        {
          "data": {
            "image/png": "[encoded data removed]",
            "text/plain": [
              "<IPython.core.display.Image object>"
            ]
          },
          "metadata": {},
          "output_type": "display_data"
        },
        {
          "metadata": {
            "tags": null
          },
          "name": "stdout",
          "output_type": "stream",
          "text": [
            "epoch =  43\n",
            "Epoch [42/200], Step [438/438], d_loss: -0.8611, g_loss: 0.7436, D(x): 0.20, D(G(z)): -0.95\n"
          ]
        },
        {
          "metadata": {
            "tags": null
          },
          "name": "stderr",
          "output_type": "stream",
          "text": [
            "Epoch: 44: 100%|██████████| 438/438 [00:19<00:00, 21.95it/s, D_total_loss=-1.08, G_loss=0.871, fake_score=-.943, real_score=0.293]\n",
            "Epoch: 45: 100%|██████████| 438/438 [00:19<00:00, 21.97it/s, D_total_loss=-.853, G_loss=0.883, fake_score=-.76, real_score=0.405]\n"
          ]
        },
        {
          "data": {
            "image/png": "[encoded data removed]",
            "text/plain": [
              "<IPython.core.display.Image object>"
            ]
          },
          "metadata": {},
          "output_type": "display_data"
        },
        {
          "data": {
            "image/png": "[encoded data removed]",
            "text/plain": [
              "<IPython.core.display.Image object>"
            ]
          },
          "metadata": {},
          "output_type": "display_data"
        },
        {
          "metadata": {
            "tags": null
          },
          "name": "stdout",
          "output_type": "stream",
          "text": [
            "epoch =  45\n",
            "Epoch [44/200], Step [438/438], d_loss: -0.8526, g_loss: 0.8828, D(x): 0.41, D(G(z)): -0.76\n"
          ]
        },
        {
          "metadata": {
            "tags": null
          },
          "name": "stderr",
          "output_type": "stream",
          "text": [
            "Epoch: 46: 100%|██████████| 438/438 [00:20<00:00, 21.89it/s, D_total_loss=-1.01, G_loss=0.52, fake_score=-.612, real_score=0.443]\n",
            "Epoch: 47: 100%|██████████| 438/438 [00:20<00:00, 21.88it/s, D_total_loss=-.214, G_loss=0.836, fake_score=-.49, real_score=0.562]\n"
          ]
        },
        {
          "data": {
            "image/png": "[encoded data removed]",
            "text/plain": [
              "<IPython.core.display.Image object>"
            ]
          },
          "metadata": {},
          "output_type": "display_data"
        },
        {
          "data": {
            "image/png": "[encoded data removed]",
            "text/plain": [
              "<IPython.core.display.Image object>"
            ]
          },
          "metadata": {},
          "output_type": "display_data"
        },
        {
          "metadata": {
            "tags": null
          },
          "name": "stdout",
          "output_type": "stream",
          "text": [
            "epoch =  47\n",
            "Epoch [46/200], Step [438/438], d_loss: -0.2140, g_loss: 0.8361, D(x): 0.56, D(G(z)): -0.49\n"
          ]
        },
        {
          "metadata": {
            "tags": null
          },
          "name": "stderr",
          "output_type": "stream",
          "text": [
            "Epoch: 48: 100%|██████████| 438/438 [00:20<00:00, 21.77it/s, D_total_loss=-.892, G_loss=0.652, fake_score=-.553, real_score=0.455]\n",
            "Epoch: 49: 100%|██████████| 438/438 [00:20<00:00, 21.85it/s, D_total_loss=-.754, G_loss=0.838, fake_score=-.491, real_score=0.444]\n"
          ]
        },
        {
          "data": {
            "image/png": "[encoded data removed]",
            "text/plain": [
              "<IPython.core.display.Image object>"
            ]
          },
          "metadata": {},
          "output_type": "display_data"
        },
        {
          "data": {
            "image/png": "[encoded data removed]",
            "text/plain": [
              "<IPython.core.display.Image object>"
            ]
          },
          "metadata": {},
          "output_type": "display_data"
        },
        {
          "metadata": {
            "tags": null
          },
          "name": "stdout",
          "output_type": "stream",
          "text": [
            "epoch =  49\n",
            "Epoch [48/200], Step [438/438], d_loss: -0.7543, g_loss: 0.8377, D(x): 0.44, D(G(z)): -0.49\n"
          ]
        },
        {
          "metadata": {
            "tags": null
          },
          "name": "stderr",
          "output_type": "stream",
          "text": [
            "Epoch: 50: 100%|██████████| 438/438 [00:20<00:00, 21.86it/s, D_total_loss=-.94, G_loss=0.584, fake_score=-.554, real_score=0.63]\n",
            "Epoch: 51: 100%|██████████| 438/438 [00:19<00:00, 22.03it/s, D_total_loss=-1.08, G_loss=0.475, fake_score=-.684, real_score=0.463]\n"
          ]
        },
        {
          "data": {
            "image/png": "[encoded data removed]",
            "text/plain": [
              "<IPython.core.display.Image object>"
            ]
          },
          "metadata": {},
          "output_type": "display_data"
        },
        {
          "data": {
            "image/png": "[encoded data removed]",
            "text/plain": [
              "<IPython.core.display.Image object>"
            ]
          },
          "metadata": {},
          "output_type": "display_data"
        },
        {
          "metadata": {
            "tags": null
          },
          "name": "stdout",
          "output_type": "stream",
          "text": [
            "epoch =  51\n",
            "Epoch [50/200], Step [438/438], d_loss: -1.0759, g_loss: 0.4749, D(x): 0.46, D(G(z)): -0.68\n"
          ]
        },
        {
          "metadata": {
            "tags": null
          },
          "name": "stderr",
          "output_type": "stream",
          "text": [
            "Epoch: 52: 100%|██████████| 438/438 [00:20<00:00, 21.71it/s, D_total_loss=-1.22, G_loss=0.467, fake_score=-.565, real_score=0.87]\n",
            "Epoch: 53: 100%|██████████| 438/438 [00:20<00:00, 21.85it/s, D_total_loss=-.733, G_loss=0.311, fake_score=-.501, real_score=0.66]\n"
          ]
        },
        {
          "data": {
            "image/png": "[encoded data removed]",
            "text/plain": [
              "<IPython.core.display.Image object>"
            ]
          },
          "metadata": {},
          "output_type": "display_data"
        },
        {
          "data": {
            "image/png": "[encoded data removed]",
            "text/plain": [
              "<IPython.core.display.Image object>"
            ]
          },
          "metadata": {},
          "output_type": "display_data"
        },
        {
          "metadata": {
            "tags": null
          },
          "name": "stdout",
          "output_type": "stream",
          "text": [
            "epoch =  53\n",
            "Epoch [52/200], Step [438/438], d_loss: -0.7329, g_loss: 0.3107, D(x): 0.66, D(G(z)): -0.50\n"
          ]
        },
        {
          "metadata": {
            "tags": null
          },
          "name": "stderr",
          "output_type": "stream",
          "text": [
            "Epoch: 54: 100%|██████████| 438/438 [00:20<00:00, 21.62it/s, D_total_loss=-.846, G_loss=0.352, fake_score=-.391, real_score=0.619]\n",
            "Epoch: 55: 100%|██████████| 438/438 [00:20<00:00, 21.85it/s, D_total_loss=-.775, G_loss=0.479, fake_score=-.332, real_score=0.528]\n"
          ]
        },
        {
          "data": {
            "image/png": "[encoded data removed]",
            "text/plain": [
              "<IPython.core.display.Image object>"
            ]
          },
          "metadata": {},
          "output_type": "display_data"
        },
        {
          "data": {
            "image/png": "[encoded data removed]",
            "text/plain": [
              "<IPython.core.display.Image object>"
            ]
          },
          "metadata": {},
          "output_type": "display_data"
        },
        {
          "metadata": {
            "tags": null
          },
          "name": "stdout",
          "output_type": "stream",
          "text": [
            "epoch =  55\n",
            "Epoch [54/200], Step [438/438], d_loss: -0.7749, g_loss: 0.4795, D(x): 0.53, D(G(z)): -0.33\n"
          ]
        },
        {
          "metadata": {
            "tags": null
          },
          "name": "stderr",
          "output_type": "stream",
          "text": [
            "Epoch: 56: 100%|██████████| 438/438 [00:20<00:00, 21.81it/s, D_total_loss=-.203, G_loss=0.44, fake_score=-.316, real_score=0.737]\n",
            "Epoch: 57: 100%|██████████| 438/438 [00:20<00:00, 21.77it/s, D_total_loss=-1.21, G_loss=0.205, fake_score=-.39, real_score=0.917]\n"
          ]
        },
        {
          "data": {
            "image/png": "[encoded data removed]",
            "text/plain": [
              "<IPython.core.display.Image object>"
            ]
          },
          "metadata": {},
          "output_type": "display_data"
        },
        {
          "data": {
            "image/png": "[encoded data removed]",
            "text/plain": [
              "<IPython.core.display.Image object>"
            ]
          },
          "metadata": {},
          "output_type": "display_data"
        },
        {
          "metadata": {
            "tags": null
          },
          "name": "stdout",
          "output_type": "stream",
          "text": [
            "epoch =  57\n",
            "Epoch [56/200], Step [438/438], d_loss: -1.2055, g_loss: 0.2053, D(x): 0.92, D(G(z)): -0.39\n"
          ]
        },
        {
          "metadata": {
            "tags": null
          },
          "name": "stderr",
          "output_type": "stream",
          "text": [
            "Epoch: 58: 100%|██████████| 438/438 [00:20<00:00, 21.66it/s, D_total_loss=-.751, G_loss=0.256, fake_score=-.275, real_score=0.6]\n",
            "Epoch: 59: 100%|██████████| 438/438 [00:19<00:00, 22.03it/s, D_total_loss=1.01, G_loss=0.483, fake_score=-.279, real_score=0.721]\n"
          ]
        },
        {
          "data": {
            "image/png": "[encoded data removed]",
            "text/plain": [
              "<IPython.core.display.Image object>"
            ]
          },
          "metadata": {},
          "output_type": "display_data"
        },
        {
          "data": {
            "image/png": "[encoded data removed]",
            "text/plain": [
              "<IPython.core.display.Image object>"
            ]
          },
          "metadata": {},
          "output_type": "display_data"
        },
        {
          "metadata": {
            "tags": null
          },
          "name": "stdout",
          "output_type": "stream",
          "text": [
            "epoch =  59\n",
            "Epoch [58/200], Step [438/438], d_loss: 1.0057, g_loss: 0.4825, D(x): 0.72, D(G(z)): -0.28\n"
          ]
        },
        {
          "metadata": {
            "tags": null
          },
          "name": "stderr",
          "output_type": "stream",
          "text": [
            "Epoch: 60: 100%|██████████| 438/438 [00:20<00:00, 21.78it/s, D_total_loss=-.832, G_loss=0.0787, fake_score=-.125, real_score=0.867]\n",
            "Epoch: 61: 100%|██████████| 438/438 [00:20<00:00, 21.73it/s, D_total_loss=-.982, G_loss=-.0344, fake_score=-.337, real_score=0.982]\n"
          ]
        },
        {
          "data": {
            "image/png": "[encoded data removed]",
            "text/plain": [
              "<IPython.core.display.Image object>"
            ]
          },
          "metadata": {},
          "output_type": "display_data"
        },
        {
          "data": {
            "image/png": "[encoded data removed]",
            "text/plain": [
              "<IPython.core.display.Image object>"
            ]
          },
          "metadata": {},
          "output_type": "display_data"
        },
        {
          "metadata": {
            "tags": null
          },
          "name": "stdout",
          "output_type": "stream",
          "text": [
            "epoch =  61\n",
            "Epoch [60/200], Step [438/438], d_loss: -0.9818, g_loss: -0.0344, D(x): 0.98, D(G(z)): -0.34\n"
          ]
        },
        {
          "metadata": {
            "tags": null
          },
          "name": "stderr",
          "output_type": "stream",
          "text": [
            "Epoch: 62: 100%|██████████| 438/438 [00:20<00:00, 21.22it/s, D_total_loss=-.591, G_loss=0.0149, fake_score=0.0975, real_score=1.13]\n",
            "Epoch: 63: 100%|██████████| 438/438 [00:20<00:00, 21.76it/s, D_total_loss=-.662, G_loss=0.172, fake_score=-.196, real_score=0.755]\n"
          ]
        },
        {
          "data": {
            "image/png": "[encoded data removed]",
            "text/plain": [
              "<IPython.core.display.Image object>"
            ]
          },
          "metadata": {},
          "output_type": "display_data"
        },
        {
          "data": {
            "image/png": "[encoded data removed]",
            "text/plain": [
              "<IPython.core.display.Image object>"
            ]
          },
          "metadata": {},
          "output_type": "display_data"
        },
        {
          "metadata": {
            "tags": null
          },
          "name": "stdout",
          "output_type": "stream",
          "text": [
            "epoch =  63\n",
            "Epoch [62/200], Step [438/438], d_loss: -0.6616, g_loss: 0.1720, D(x): 0.75, D(G(z)): -0.20\n"
          ]
        },
        {
          "metadata": {
            "tags": null
          },
          "name": "stderr",
          "output_type": "stream",
          "text": [
            "Epoch: 64: 100%|██████████| 438/438 [00:20<00:00, 21.71it/s, D_total_loss=-.413, G_loss=0.154, fake_score=0.103, real_score=0.744]\n",
            "Epoch: 65: 100%|██████████| 438/438 [00:20<00:00, 21.56it/s, D_total_loss=-.48, G_loss=-.0488, fake_score=0.246, real_score=0.78]\n"
          ]
        },
        {
          "data": {
            "image/png": "[encoded data removed]",
            "text/plain": [
              "<IPython.core.display.Image object>"
            ]
          },
          "metadata": {},
          "output_type": "display_data"
        },
        {
          "data": {
            "image/png": "[encoded data removed]",
            "text/plain": [
              "<IPython.core.display.Image object>"
            ]
          },
          "metadata": {},
          "output_type": "display_data"
        },
        {
          "metadata": {
            "tags": null
          },
          "name": "stdout",
          "output_type": "stream",
          "text": [
            "epoch =  65\n",
            "Epoch [64/200], Step [438/438], d_loss: -0.4796, g_loss: -0.0488, D(x): 0.78, D(G(z)): 0.25\n"
          ]
        },
        {
          "metadata": {
            "tags": null
          },
          "name": "stderr",
          "output_type": "stream",
          "text": [
            "Epoch: 66: 100%|██████████| 438/438 [00:20<00:00, 21.53it/s, D_total_loss=0.319, G_loss=-.204, fake_score=0.0984, real_score=0.931]\n",
            "Epoch: 67: 100%|██████████| 438/438 [00:20<00:00, 21.65it/s, D_total_loss=-.307, G_loss=-.196, fake_score=0.186, real_score=0.745]\n"
          ]
        },
        {
          "data": {
            "image/png": "[encoded data removed]",
            "text/plain": [
              "<IPython.core.display.Image object>"
            ]
          },
          "metadata": {},
          "output_type": "display_data"
        },
        {
          "data": {
            "image/png": "[encoded data removed]",
            "text/plain": [
              "<IPython.core.display.Image object>"
            ]
          },
          "metadata": {},
          "output_type": "display_data"
        },
        {
          "metadata": {
            "tags": null
          },
          "name": "stdout",
          "output_type": "stream",
          "text": [
            "epoch =  67\n",
            "Epoch [66/200], Step [438/438], d_loss: -0.3068, g_loss: -0.1965, D(x): 0.74, D(G(z)): 0.19\n"
          ]
        },
        {
          "metadata": {
            "tags": null
          },
          "name": "stderr",
          "output_type": "stream",
          "text": [
            "Epoch: 68: 100%|██████████| 438/438 [00:20<00:00, 21.46it/s, D_total_loss=-.426, G_loss=-.156, fake_score=0.151, real_score=0.835]\n",
            "Epoch: 69: 100%|██████████| 438/438 [00:19<00:00, 22.32it/s, D_total_loss=0.816, G_loss=-.366, fake_score=0.28, real_score=1.06]\n"
          ]
        },
        {
          "data": {
            "image/png": "[encoded data removed]",
            "text/plain": [
              "<IPython.core.display.Image object>"
            ]
          },
          "metadata": {},
          "output_type": "display_data"
        },
        {
          "data": {
            "image/png": "[encoded data removed]",
            "text/plain": [
              "<IPython.core.display.Image object>"
            ]
          },
          "metadata": {},
          "output_type": "display_data"
        },
        {
          "metadata": {
            "tags": null
          },
          "name": "stdout",
          "output_type": "stream",
          "text": [
            "epoch =  69\n",
            "Epoch [68/200], Step [438/438], d_loss: 0.8158, g_loss: -0.3659, D(x): 1.06, D(G(z)): 0.28\n"
          ]
        },
        {
          "metadata": {
            "tags": null
          },
          "name": "stderr",
          "output_type": "stream",
          "text": [
            "Epoch: 70: 100%|██████████| 438/438 [00:20<00:00, 21.76it/s, D_total_loss=-.651, G_loss=-.221, fake_score=0.13, real_score=0.888]\n",
            "Epoch: 71: 100%|██████████| 438/438 [00:21<00:00, 20.75it/s, D_total_loss=-.741, G_loss=-.174, fake_score=0.202, real_score=1.12]\n"
          ]
        },
        {
          "data": {
            "image/png": "[encoded data removed]",
            "text/plain": [
              "<IPython.core.display.Image object>"
            ]
          },
          "metadata": {},
          "output_type": "display_data"
        },
        {
          "data": {
            "image/png": "[encoded data removed]",
            "text/plain": [
              "<IPython.core.display.Image object>"
            ]
          },
          "metadata": {},
          "output_type": "display_data"
        },
        {
          "metadata": {
            "tags": null
          },
          "name": "stdout",
          "output_type": "stream",
          "text": [
            "epoch =  71\n",
            "Epoch [70/200], Step [438/438], d_loss: -0.7407, g_loss: -0.1737, D(x): 1.12, D(G(z)): 0.20\n"
          ]
        },
        {
          "metadata": {
            "tags": null
          },
          "name": "stderr",
          "output_type": "stream",
          "text": [
            "Epoch: 72: 100%|██████████| 438/438 [00:21<00:00, 20.81it/s, D_total_loss=-.71, G_loss=-.357, fake_score=0.321, real_score=1.11]\n",
            "Epoch: 73: 100%|██████████| 438/438 [00:20<00:00, 21.04it/s, D_total_loss=-.635, G_loss=-.374, fake_score=0.309, real_score=1.02]\n"
          ]
        },
        {
          "data": {
            "image/png": "[encoded data removed]",
            "text/plain": [
              "<IPython.core.display.Image object>"
            ]
          },
          "metadata": {},
          "output_type": "display_data"
        },
        {
          "data": {
            "image/png": "[encoded data removed]",
            "text/plain": [
              "<IPython.core.display.Image object>"
            ]
          },
          "metadata": {},
          "output_type": "display_data"
        },
        {
          "metadata": {
            "tags": null
          },
          "name": "stdout",
          "output_type": "stream",
          "text": [
            "epoch =  73\n",
            "Epoch [72/200], Step [438/438], d_loss: -0.6346, g_loss: -0.3740, D(x): 1.02, D(G(z)): 0.31\n"
          ]
        },
        {
          "metadata": {
            "tags": null
          },
          "name": "stderr",
          "output_type": "stream",
          "text": [
            "Epoch: 74: 100%|██████████| 438/438 [00:20<00:00, 20.98it/s, D_total_loss=-.414, G_loss=-.253, fake_score=0.205, real_score=0.732]\n",
            "Epoch: 75: 100%|██████████| 438/438 [00:20<00:00, 20.98it/s, D_total_loss=-.532, G_loss=-.161, fake_score=0.186, real_score=0.85]\n"
          ]
        },
        {
          "data": {
            "image/png": "[encoded data removed]",
            "text/plain": [
              "<IPython.core.display.Image object>"
            ]
          },
          "metadata": {},
          "output_type": "display_data"
        },
        {
          "data": {
            "image/png": "[encoded data removed]",
            "text/plain": [
              "<IPython.core.display.Image object>"
            ]
          },
          "metadata": {},
          "output_type": "display_data"
        },
        {
          "metadata": {
            "tags": null
          },
          "name": "stdout",
          "output_type": "stream",
          "text": [
            "epoch =  75\n",
            "Epoch [74/200], Step [438/438], d_loss: -0.5321, g_loss: -0.1614, D(x): 0.85, D(G(z)): 0.19\n"
          ]
        },
        {
          "metadata": {
            "tags": null
          },
          "name": "stderr",
          "output_type": "stream",
          "text": [
            "Epoch: 76: 100%|██████████| 438/438 [00:20<00:00, 21.21it/s, D_total_loss=-.0453, G_loss=-.32, fake_score=0.133, real_score=0.901]\n",
            "Epoch: 77: 100%|██████████| 438/438 [00:20<00:00, 21.00it/s, D_total_loss=-.0541, G_loss=-.42, fake_score=0.573, real_score=0.925]\n"
          ]
        },
        {
          "data": {
            "image/png": "[encoded data removed]",
            "text/plain": [
              "<IPython.core.display.Image object>"
            ]
          },
          "metadata": {},
          "output_type": "display_data"
        },
        {
          "data": {
            "image/png": "[encoded data removed]",
            "text/plain": [
              "<IPython.core.display.Image object>"
            ]
          },
          "metadata": {},
          "output_type": "display_data"
        },
        {
          "metadata": {
            "tags": null
          },
          "name": "stdout",
          "output_type": "stream",
          "text": [
            "epoch =  77\n",
            "Epoch [76/200], Step [438/438], d_loss: -0.0541, g_loss: -0.4196, D(x): 0.92, D(G(z)): 0.57\n"
          ]
        },
        {
          "metadata": {
            "tags": null
          },
          "name": "stderr",
          "output_type": "stream",
          "text": [
            "Epoch: 78: 100%|██████████| 438/438 [00:21<00:00, 20.83it/s, D_total_loss=-.288, G_loss=-.446, fake_score=0.173, real_score=0.967]\n",
            "Epoch: 79: 100%|██████████| 438/438 [00:20<00:00, 21.00it/s, D_total_loss=-.716, G_loss=-.425, fake_score=0.267, real_score=1.05]\n"
          ]
        },
        {
          "data": {
            "image/png": "[encoded data removed]",
            "text/plain": [
              "<IPython.core.display.Image object>"
            ]
          },
          "metadata": {},
          "output_type": "display_data"
        },
        {
          "data": {
            "image/png": "[encoded data removed]",
            "text/plain": [
              "<IPython.core.display.Image object>"
            ]
          },
          "metadata": {},
          "output_type": "display_data"
        },
        {
          "metadata": {
            "tags": null
          },
          "name": "stdout",
          "output_type": "stream",
          "text": [
            "epoch =  79\n",
            "Epoch [78/200], Step [438/438], d_loss: -0.7163, g_loss: -0.4251, D(x): 1.05, D(G(z)): 0.27\n"
          ]
        },
        {
          "metadata": {
            "tags": null
          },
          "name": "stderr",
          "output_type": "stream",
          "text": [
            "Epoch: 80: 100%|██████████| 438/438 [00:20<00:00, 20.96it/s, D_total_loss=-.425, G_loss=-.594, fake_score=0.38, real_score=0.935]\n",
            "Epoch: 81: 100%|██████████| 438/438 [00:20<00:00, 21.09it/s, D_total_loss=-.469, G_loss=-.225, fake_score=0.269, real_score=0.883]\n"
          ]
        },
        {
          "data": {
            "image/png": "[encoded data removed]",
            "text/plain": [
              "<IPython.core.display.Image object>"
            ]
          },
          "metadata": {},
          "output_type": "display_data"
        },
        {
          "data": {
            "image/png": "[encoded data removed]",
            "text/plain": [
              "<IPython.core.display.Image object>"
            ]
          },
          "metadata": {},
          "output_type": "display_data"
        },
        {
          "metadata": {
            "tags": null
          },
          "name": "stdout",
          "output_type": "stream",
          "text": [
            "epoch =  81\n",
            "Epoch [80/200], Step [438/438], d_loss: -0.4687, g_loss: -0.2249, D(x): 0.88, D(G(z)): 0.27\n"
          ]
        },
        {
          "metadata": {
            "tags": null
          },
          "name": "stderr",
          "output_type": "stream",
          "text": [
            "Epoch: 82: 100%|██████████| 438/438 [00:20<00:00, 20.96it/s, D_total_loss=-.163, G_loss=-.416, fake_score=0.332, real_score=0.578]\n",
            "Epoch: 83: 100%|██████████| 438/438 [00:20<00:00, 20.97it/s, D_total_loss=-.227, G_loss=-.47, fake_score=0.377, real_score=0.798]\n"
          ]
        },
        {
          "data": {
            "image/png": "[encoded data removed]",
            "text/plain": [
              "<IPython.core.display.Image object>"
            ]
          },
          "metadata": {},
          "output_type": "display_data"
        },
        {
          "data": {
            "image/png": "[encoded data removed]",
            "text/plain": [
              "<IPython.core.display.Image object>"
            ]
          },
          "metadata": {},
          "output_type": "display_data"
        },
        {
          "metadata": {
            "tags": null
          },
          "name": "stdout",
          "output_type": "stream",
          "text": [
            "epoch =  83\n",
            "Epoch [82/200], Step [438/438], d_loss: -0.2272, g_loss: -0.4697, D(x): 0.80, D(G(z)): 0.38\n"
          ]
        },
        {
          "metadata": {
            "tags": null
          },
          "name": "stderr",
          "output_type": "stream",
          "text": [
            "Epoch: 84: 100%|██████████| 438/438 [00:21<00:00, 20.65it/s, D_total_loss=-.15, G_loss=-.191, fake_score=0.399, real_score=1.09]\n",
            "Epoch: 85: 100%|██████████| 438/438 [00:20<00:00, 20.92it/s, D_total_loss=-.291, G_loss=-.33, fake_score=0.499, real_score=0.902]\n"
          ]
        },
        {
          "data": {
            "image/png": "[encoded data removed]",
            "text/plain": [
              "<IPython.core.display.Image object>"
            ]
          },
          "metadata": {},
          "output_type": "display_data"
        },
        {
          "data": {
            "image/png": "[encoded data removed]",
            "text/plain": [
              "<IPython.core.display.Image object>"
            ]
          },
          "metadata": {},
          "output_type": "display_data"
        },
        {
          "metadata": {
            "tags": null
          },
          "name": "stdout",
          "output_type": "stream",
          "text": [
            "epoch =  85\n",
            "Epoch [84/200], Step [438/438], d_loss: -0.2914, g_loss: -0.3303, D(x): 0.90, D(G(z)): 0.50\n"
          ]
        },
        {
          "metadata": {
            "tags": null
          },
          "name": "stderr",
          "output_type": "stream",
          "text": [
            "Epoch: 86: 100%|██████████| 438/438 [00:21<00:00, 20.84it/s, D_total_loss=-.178, G_loss=-.377, fake_score=0.386, real_score=0.744]\n",
            "Epoch: 87: 100%|██████████| 438/438 [00:21<00:00, 20.77it/s, D_total_loss=-.176, G_loss=-.639, fake_score=0.387, real_score=0.627]\n"
          ]
        },
        {
          "data": {
            "image/png": "[encoded data removed]",
            "text/plain": [
              "<IPython.core.display.Image object>"
            ]
          },
          "metadata": {},
          "output_type": "display_data"
        },
        {
          "data": {
            "image/png": "[encoded data removed]",
            "text/plain": [
              "<IPython.core.display.Image object>"
            ]
          },
          "metadata": {},
          "output_type": "display_data"
        },
        {
          "metadata": {
            "tags": null
          },
          "name": "stdout",
          "output_type": "stream",
          "text": [
            "epoch =  87\n",
            "Epoch [86/200], Step [438/438], d_loss: -0.1755, g_loss: -0.6393, D(x): 0.63, D(G(z)): 0.39\n"
          ]
        },
        {
          "metadata": {
            "tags": null
          },
          "name": "stderr",
          "output_type": "stream",
          "text": [
            "Epoch: 88: 100%|██████████| 438/438 [00:21<00:00, 20.79it/s, D_total_loss=-.454, G_loss=-.422, fake_score=0.293, real_score=0.805]\n",
            "Epoch: 89: 100%|██████████| 438/438 [00:21<00:00, 20.77it/s, D_total_loss=-.0353, G_loss=-.448, fake_score=0.692, real_score=0.843]\n"
          ]
        },
        {
          "data": {
            "image/png": "[encoded data removed]",
            "text/plain": [
              "<IPython.core.display.Image object>"
            ]
          },
          "metadata": {},
          "output_type": "display_data"
        },
        {
          "data": {
            "image/png": "[encoded data removed]",
            "text/plain": [
              "<IPython.core.display.Image object>"
            ]
          },
          "metadata": {},
          "output_type": "display_data"
        },
        {
          "metadata": {
            "tags": null
          },
          "name": "stdout",
          "output_type": "stream",
          "text": [
            "epoch =  89\n",
            "Epoch [88/200], Step [438/438], d_loss: -0.0353, g_loss: -0.4485, D(x): 0.84, D(G(z)): 0.69\n"
          ]
        },
        {
          "output_type": "stream",
          "name": "stderr",
          "text": [
            "Epoch: 90: 100%|██████████| 438/438 [00:21<00:00, 20.74it/s, D_total_loss=-.538, G_loss=-.47, fake_score=0.411, real_score=1.09]\n",
            "Epoch: 91: 100%|██████████| 438/438 [00:20<00:00, 21.14it/s, D_total_loss=-.0228, G_loss=-.502, fake_score=0.363, real_score=0.714]\n"
          ]
        },
        {
          "output_type": "display_data",
          "data": {
            "text/plain": [
              "<IPython.core.display.Image object>"
            ],
            "image/png": "[encoded data removed]"
          },
          "metadata": {}
        },
        {
          "output_type": "display_data",
          "data": {
            "text/plain": [
              "<IPython.core.display.Image object>"
            ],
            "image/png": "[encoded data removed]"
          },
          "metadata": {}
        },
        {
          "output_type": "stream",
          "name": "stdout",
          "text": [
            "epoch =  91\n",
            "Epoch [90/200], Step [438/438], d_loss: -0.0228, g_loss: -0.5018, D(x): 0.71, D(G(z)): 0.36\n"
          ]
        },
        {
          "output_type": "stream",
          "name": "stderr",
          "text": [
            "Epoch: 92: 100%|██████████| 438/438 [00:20<00:00, 20.87it/s, D_total_loss=-.482, G_loss=-.479, fake_score=0.245, real_score=0.837]\n",
            "Epoch: 93: 100%|██████████| 438/438 [00:21<00:00, 20.68it/s, D_total_loss=1.36, G_loss=-.579, fake_score=0.521, real_score=0.881]\n"
          ]
        },
        {
          "output_type": "display_data",
          "data": {
            "text/plain": [
              "<IPython.core.display.Image object>"
            ],
            "image/png": "[encoded data removed]"
          },
          "metadata": {}
        },
        {
          "output_type": "display_data",
          "data": {
            "text/plain": [
              "<IPython.core.display.Image object>"
            ],
            "image/png": "[encoded data removed]"
          },
          "metadata": {}
        },
        {
          "output_type": "stream",
          "name": "stdout",
          "text": [
            "epoch =  93\n",
            "Epoch [92/200], Step [438/438], d_loss: 1.3562, g_loss: -0.5791, D(x): 0.88, D(G(z)): 0.52\n"
          ]
        },
        {
          "output_type": "stream",
          "name": "stderr",
          "text": [
            "Epoch: 94: 100%|██████████| 438/438 [00:21<00:00, 20.51it/s, D_total_loss=-.309, G_loss=-.571, fake_score=0.67, real_score=1.08]\n",
            "Epoch: 95: 100%|██████████| 438/438 [00:21<00:00, 20.75it/s, D_total_loss=-.0049, G_loss=-.499, fake_score=0.435, real_score=0.899]\n"
          ]
        },
        {
          "output_type": "display_data",
          "data": {
            "text/plain": [
              "<IPython.core.display.Image object>"
            ],
            "image/png": "[encoded data removed]"
          },
          "metadata": {}
        },
        {
          "output_type": "display_data",
          "data": {
            "text/plain": [
              "<IPython.core.display.Image object>"
            ],
            "image/png": "[encoded data removed]"
          },
          "metadata": {}
        },
        {
          "output_type": "stream",
          "name": "stdout",
          "text": [
            "epoch =  95\n",
            "Epoch [94/200], Step [438/438], d_loss: -0.0049, g_loss: -0.4986, D(x): 0.90, D(G(z)): 0.44\n"
          ]
        },
        {
          "output_type": "stream",
          "name": "stderr",
          "text": [
            "Epoch: 96: 100%|██████████| 438/438 [00:21<00:00, 20.57it/s, D_total_loss=-.2, G_loss=-.635, fake_score=0.706, real_score=1.01]\n",
            "Epoch: 97: 100%|██████████| 438/438 [00:21<00:00, 20.82it/s, D_total_loss=-.407, G_loss=-.363, fake_score=0.31, real_score=0.945]\n"
          ]
        },
        {
          "output_type": "display_data",
          "data": {
            "text/plain": [
              "<IPython.core.display.Image object>"
            ],
            "image/png": "[encoded data removed]"
          },
          "metadata": {}
        },
        {
          "output_type": "display_data",
          "data": {
            "text/plain": [
              "<IPython.core.display.Image object>"
            ],
            "image/png": "[encoded data removed]"
          },
          "metadata": {}
        },
        {
          "output_type": "stream",
          "name": "stdout",
          "text": [
            "epoch =  97\n",
            "Epoch [96/200], Step [438/438], d_loss: -0.4066, g_loss: -0.3629, D(x): 0.95, D(G(z)): 0.31\n"
          ]
        },
        {
          "output_type": "stream",
          "name": "stderr",
          "text": [
            "Epoch: 98: 100%|██████████| 438/438 [00:21<00:00, 20.49it/s, D_total_loss=-.53, G_loss=-.516, fake_score=0.491, real_score=1.07]\n",
            "Epoch: 99: 100%|██████████| 438/438 [00:21<00:00, 20.45it/s, D_total_loss=-.249, G_loss=-.466, fake_score=0.61, real_score=1.04]\n"
          ]
        },
        {
          "output_type": "display_data",
          "data": {
            "text/plain": [
              "<IPython.core.display.Image object>"
            ],
            "image/png": "[encoded data removed]"
          },
          "metadata": {}
        },
        {
          "output_type": "display_data",
          "data": {
            "text/plain": [
              "<IPython.core.display.Image object>"
            ],
            "image/png": "[encoded data removed]"
          },
          "metadata": {}
        },
        {
          "output_type": "stream",
          "name": "stdout",
          "text": [
            "epoch =  99\n",
            "Epoch [98/200], Step [438/438], d_loss: -0.2492, g_loss: -0.4656, D(x): 1.04, D(G(z)): 0.61\n"
          ]
        },
        {
          "output_type": "stream",
          "name": "stderr",
          "text": [
            "Epoch: 100: 100%|██████████| 438/438 [00:21<00:00, 20.77it/s, D_total_loss=-.11, G_loss=-.499, fake_score=0.66, real_score=0.889]\n",
            "Epoch: 101: 100%|██████████| 438/438 [00:21<00:00, 20.52it/s, D_total_loss=-.424, G_loss=-.762, fake_score=0.741, real_score=1.22]\n"
          ]
        },
        {
          "output_type": "display_data",
          "data": {
            "text/plain": [
              "<IPython.core.display.Image object>"
            ],
            "image/png": "[encoded data removed]"
          },
          "metadata": {}
        },
        {
          "output_type": "display_data",
          "data": {
            "text/plain": [
              "<IPython.core.display.Image object>"
            ],
            "image/png": "[encoded data removed]"
          },
          "metadata": {}
        },
        {
          "output_type": "stream",
          "name": "stdout",
          "text": [
            "epoch =  101\n",
            "Epoch [100/200], Step [438/438], d_loss: -0.4243, g_loss: -0.7616, D(x): 1.22, D(G(z)): 0.74\n"
          ]
        },
        {
          "output_type": "stream",
          "name": "stderr",
          "text": [
            "Epoch: 102: 100%|██████████| 438/438 [00:21<00:00, 20.46it/s, D_total_loss=-.293, G_loss=-.635, fake_score=0.628, real_score=1.17]\n",
            "Epoch: 103: 100%|██████████| 438/438 [00:21<00:00, 20.58it/s, D_total_loss=-.243, G_loss=-.594, fake_score=0.732, real_score=1.09]\n"
          ]
        },
        {
          "output_type": "display_data",
          "data": {
            "text/plain": [
              "<IPython.core.display.Image object>"
            ],
            "image/png": "[encoded data removed]"
          },
          "metadata": {}
        },
        {
          "output_type": "display_data",
          "data": {
            "text/plain": [
              "<IPython.core.display.Image object>"
            ],
            "image/png": "[encoded data removed]"
          },
          "metadata": {}
        },
        {
          "output_type": "stream",
          "name": "stdout",
          "text": [
            "epoch =  103\n",
            "Epoch [102/200], Step [438/438], d_loss: -0.2431, g_loss: -0.5943, D(x): 1.09, D(G(z)): 0.73\n"
          ]
        },
        {
          "output_type": "stream",
          "name": "stderr",
          "text": [
            "Epoch: 104: 100%|██████████| 438/438 [00:21<00:00, 20.65it/s, D_total_loss=-.196, G_loss=-.64, fake_score=0.81, real_score=1.06]\n",
            "Epoch: 105: 100%|██████████| 438/438 [00:21<00:00, 20.66it/s, D_total_loss=-.16, G_loss=-.589, fake_score=0.539, real_score=0.867]\n"
          ]
        },
        {
          "output_type": "display_data",
          "data": {
            "text/plain": [
              "<IPython.core.display.Image object>"
            ],
            "image/png": "[encoded data removed]"
          },
          "metadata": {}
        },
        {
          "output_type": "display_data",
          "data": {
            "text/plain": [
              "<IPython.core.display.Image object>"
            ],
            "image/png": "[encoded data removed]"
          },
          "metadata": {}
        },
        {
          "output_type": "stream",
          "name": "stdout",
          "text": [
            "epoch =  105\n",
            "Epoch [104/200], Step [438/438], d_loss: -0.1598, g_loss: -0.5893, D(x): 0.87, D(G(z)): 0.54\n"
          ]
        },
        {
          "output_type": "stream",
          "name": "stderr",
          "text": [
            "Epoch: 106: 100%|██████████| 438/438 [00:21<00:00, 20.42it/s, D_total_loss=-.085, G_loss=-.759, fake_score=1.02, real_score=1.15]\n",
            "Epoch: 107: 100%|██████████| 438/438 [00:21<00:00, 20.66it/s, D_total_loss=-.221, G_loss=-.816, fake_score=0.831, real_score=1.12]\n"
          ]
        },
        {
          "output_type": "display_data",
          "data": {
            "text/plain": [
              "<IPython.core.display.Image object>"
            ],
            "image/png": "[encoded data removed]"
          },
          "metadata": {}
        },
        {
          "output_type": "display_data",
          "data": {
            "text/plain": [
              "<IPython.core.display.Image object>"
            ],
            "image/png": "[encoded data removed]"
          },
          "metadata": {}
        },
        {
          "output_type": "stream",
          "name": "stdout",
          "text": [
            "epoch =  107\n",
            "Epoch [106/200], Step [438/438], d_loss: -0.2210, g_loss: -0.8165, D(x): 1.12, D(G(z)): 0.83\n"
          ]
        },
        {
          "output_type": "stream",
          "name": "stderr",
          "text": [
            "Epoch: 108: 100%|██████████| 438/438 [00:21<00:00, 20.58it/s, D_total_loss=0.0637, G_loss=-.781, fake_score=0.836, real_score=1.07]\n",
            "Epoch: 109: 100%|██████████| 438/438 [00:21<00:00, 20.50it/s, D_total_loss=0.0104, G_loss=-.717, fake_score=0.679, real_score=1.01]\n"
          ]
        },
        {
          "output_type": "display_data",
          "data": {
            "text/plain": [
              "<IPython.core.display.Image object>"
            ],
            "image/png": "[encoded data removed]"
          },
          "metadata": {}
        },
        {
          "output_type": "display_data",
          "data": {
            "text/plain": [
              "<IPython.core.display.Image object>"
            ],
            "image/png": "[encoded data removed]"
          },
          "metadata": {}
        },
        {
          "output_type": "stream",
          "name": "stdout",
          "text": [
            "epoch =  109\n",
            "Epoch [108/200], Step [438/438], d_loss: 0.0104, g_loss: -0.7174, D(x): 1.01, D(G(z)): 0.68\n"
          ]
        },
        {
          "output_type": "stream",
          "name": "stderr",
          "text": [
            "Epoch: 110: 100%|██████████| 438/438 [00:21<00:00, 20.49it/s, D_total_loss=-.474, G_loss=-.684, fake_score=0.616, real_score=1.18]\n",
            "Epoch: 111: 100%|██████████| 438/438 [00:21<00:00, 20.53it/s, D_total_loss=-.151, G_loss=-.593, fake_score=0.68, real_score=0.952]\n"
          ]
        },
        {
          "output_type": "display_data",
          "data": {
            "text/plain": [
              "<IPython.core.display.Image object>"
            ],
            "image/png": "[encoded data removed]"
          },
          "metadata": {}
        },
        {
          "output_type": "display_data",
          "data": {
            "text/plain": [
              "<IPython.core.display.Image object>"
            ],
            "image/png": "[encoded data removed]"
          },
          "metadata": {}
        },
        {
          "output_type": "stream",
          "name": "stdout",
          "text": [
            "epoch =  111\n",
            "Epoch [110/200], Step [438/438], d_loss: -0.1513, g_loss: -0.5929, D(x): 0.95, D(G(z)): 0.68\n"
          ]
        },
        {
          "output_type": "stream",
          "name": "stderr",
          "text": [
            "Epoch: 112: 100%|██████████| 438/438 [00:21<00:00, 20.34it/s, D_total_loss=-.509, G_loss=-.686, fake_score=0.713, real_score=1.27]\n",
            "Epoch: 113: 100%|██████████| 438/438 [00:21<00:00, 20.01it/s, D_total_loss=0.0756, G_loss=-.821, fake_score=0.817, real_score=0.897]\n"
          ]
        },
        {
          "output_type": "display_data",
          "data": {
            "text/plain": [
              "<IPython.core.display.Image object>"
            ],
            "image/png": "[encoded data removed]"
          },
          "metadata": {}
        },
        {
          "output_type": "display_data",
          "data": {
            "text/plain": [
              "<IPython.core.display.Image object>"
            ],
            "image/png": "[encoded data removed]"
          },
          "metadata": {}
        },
        {
          "output_type": "stream",
          "name": "stdout",
          "text": [
            "epoch =  113\n",
            "Epoch [112/200], Step [438/438], d_loss: 0.0756, g_loss: -0.8211, D(x): 0.90, D(G(z)): 0.82\n"
          ]
        },
        {
          "output_type": "stream",
          "name": "stderr",
          "text": [
            "Epoch: 114: 100%|██████████| 438/438 [00:21<00:00, 20.06it/s, D_total_loss=-.1, G_loss=-.76, fake_score=0.758, real_score=1]\n",
            "Epoch: 115: 100%|██████████| 438/438 [00:21<00:00, 20.12it/s, D_total_loss=1.73, G_loss=-.796, fake_score=0.742, real_score=1.16]\n"
          ]
        },
        {
          "output_type": "display_data",
          "data": {
            "text/plain": [
              "<IPython.core.display.Image object>"
            ],
            "image/png": "[encoded data removed]"
          },
          "metadata": {}
        },
        {
          "output_type": "display_data",
          "data": {
            "text/plain": [
              "<IPython.core.display.Image object>"
            ],
            "image/png": "[encoded data removed]"
          },
          "metadata": {}
        },
        {
          "output_type": "stream",
          "name": "stdout",
          "text": [
            "epoch =  115\n",
            "Epoch [114/200], Step [438/438], d_loss: 1.7291, g_loss: -0.7959, D(x): 1.16, D(G(z)): 0.74\n"
          ]
        },
        {
          "output_type": "stream",
          "name": "stderr",
          "text": [
            "Epoch: 116: 100%|██████████| 438/438 [00:21<00:00, 20.28it/s, D_total_loss=0.405, G_loss=-.864, fake_score=0.951, real_score=1.29]\n",
            "Epoch: 117: 100%|██████████| 438/438 [00:21<00:00, 20.28it/s, D_total_loss=-.266, G_loss=-.728, fake_score=0.914, real_score=1.24]\n"
          ]
        },
        {
          "output_type": "display_data",
          "data": {
            "text/plain": [
              "<IPython.core.display.Image object>"
            ],
            "image/png": "[encoded data removed]"
          },
          "metadata": {}
        },
        {
          "output_type": "display_data",
          "data": {
            "text/plain": [
              "<IPython.core.display.Image object>"
            ],
            "image/png": "[encoded data removed]"
          },
          "metadata": {}
        },
        {
          "output_type": "stream",
          "name": "stdout",
          "text": [
            "epoch =  117\n",
            "Epoch [116/200], Step [438/438], d_loss: -0.2656, g_loss: -0.7281, D(x): 1.24, D(G(z)): 0.91\n"
          ]
        },
        {
          "output_type": "stream",
          "name": "stderr",
          "text": [
            "Epoch: 118: 100%|██████████| 438/438 [00:21<00:00, 20.20it/s, D_total_loss=0.377, G_loss=-.956, fake_score=0.954, real_score=1.26]\n",
            "Epoch: 119: 100%|██████████| 438/438 [00:21<00:00, 20.50it/s, D_total_loss=-.292, G_loss=-.841, fake_score=0.926, real_score=1.28]\n"
          ]
        },
        {
          "output_type": "display_data",
          "data": {
            "text/plain": [
              "<IPython.core.display.Image object>"
            ],
            "image/png": "[encoded data removed]"
          },
          "metadata": {}
        },
        {
          "output_type": "display_data",
          "data": {
            "text/plain": [
              "<IPython.core.display.Image object>"
            ],
            "image/png": "[encoded data removed]"
          },
          "metadata": {}
        },
        {
          "output_type": "stream",
          "name": "stdout",
          "text": [
            "epoch =  119\n",
            "Epoch [118/200], Step [438/438], d_loss: -0.2919, g_loss: -0.8409, D(x): 1.28, D(G(z)): 0.93\n"
          ]
        },
        {
          "output_type": "stream",
          "name": "stderr",
          "text": [
            "Epoch: 120: 100%|██████████| 438/438 [00:21<00:00, 20.31it/s, D_total_loss=-.267, G_loss=-.605, fake_score=0.843, real_score=1.19]\n",
            "Epoch: 121: 100%|██████████| 438/438 [00:21<00:00, 20.18it/s, D_total_loss=-.44, G_loss=-1.02, fake_score=0.765, real_score=1.29]\n"
          ]
        },
        {
          "output_type": "display_data",
          "data": {
            "text/plain": [
              "<IPython.core.display.Image object>"
            ],
            "image/png": "[encoded data removed]"
          },
          "metadata": {}
        },
        {
          "output_type": "display_data",
          "data": {
            "text/plain": [
              "<IPython.core.display.Image object>"
            ],
            "image/png": "[encoded data removed]"
          },
          "metadata": {}
        },
        {
          "output_type": "stream",
          "name": "stdout",
          "text": [
            "epoch =  121\n",
            "Epoch [120/200], Step [438/438], d_loss: -0.4397, g_loss: -1.0204, D(x): 1.29, D(G(z)): 0.77\n"
          ]
        },
        {
          "output_type": "stream",
          "name": "stderr",
          "text": [
            "Epoch: 122: 100%|██████████| 438/438 [00:21<00:00, 20.42it/s, D_total_loss=-.202, G_loss=-.857, fake_score=0.967, real_score=1.22]\n",
            "Epoch: 123: 100%|██████████| 438/438 [00:21<00:00, 20.65it/s, D_total_loss=0.00937, G_loss=-.95, fake_score=1.07, real_score=1.1]\n"
          ]
        },
        {
          "output_type": "display_data",
          "data": {
            "text/plain": [
              "<IPython.core.display.Image object>"
            ],
            "image/png": "[encoded data removed]"
          },
          "metadata": {}
        },
        {
          "output_type": "display_data",
          "data": {
            "text/plain": [
              "<IPython.core.display.Image object>"
            ],
            "image/png": "[encoded data removed]"
          },
          "metadata": {}
        },
        {
          "output_type": "stream",
          "name": "stdout",
          "text": [
            "epoch =  123\n",
            "Epoch [122/200], Step [438/438], d_loss: 0.0094, g_loss: -0.9503, D(x): 1.10, D(G(z)): 1.07\n"
          ]
        },
        {
          "output_type": "stream",
          "name": "stderr",
          "text": [
            "Epoch: 124: 100%|██████████| 438/438 [00:21<00:00, 20.25it/s, D_total_loss=-.219, G_loss=-.995, fake_score=0.987, real_score=1.25]\n",
            "Epoch: 125: 100%|██████████| 438/438 [00:21<00:00, 20.47it/s, D_total_loss=0.495, G_loss=-.991, fake_score=0.831, real_score=1.31]\n"
          ]
        },
        {
          "output_type": "display_data",
          "data": {
            "text/plain": [
              "<IPython.core.display.Image object>"
            ],
            "image/png": "[encoded data removed]"
          },
          "metadata": {}
        },
        {
          "output_type": "display_data",
          "data": {
            "text/plain": [
              "<IPython.core.display.Image object>"
            ],
            "image/png": "[encoded data removed]"
          },
          "metadata": {}
        },
        {
          "output_type": "stream",
          "name": "stdout",
          "text": [
            "epoch =  125\n",
            "Epoch [124/200], Step [438/438], d_loss: 0.4950, g_loss: -0.9910, D(x): 1.31, D(G(z)): 0.83\n"
          ]
        },
        {
          "output_type": "stream",
          "name": "stderr",
          "text": [
            "Epoch: 126: 100%|██████████| 438/438 [00:21<00:00, 20.48it/s, D_total_loss=-.321, G_loss=-.637, fake_score=0.766, real_score=1.15]\n",
            "Epoch: 127: 100%|██████████| 438/438 [00:21<00:00, 20.61it/s, D_total_loss=-.253, G_loss=-.915, fake_score=0.858, real_score=1.28]\n"
          ]
        },
        {
          "output_type": "display_data",
          "data": {
            "text/plain": [
              "<IPython.core.display.Image object>"
            ],
            "image/png": "[encoded data removed]"
          },
          "metadata": {}
        },
        {
          "output_type": "display_data",
          "data": {
            "text/plain": [
              "<IPython.core.display.Image object>"
            ],
            "image/png": "[encoded data removed]"
          },
          "metadata": {}
        },
        {
          "output_type": "stream",
          "name": "stdout",
          "text": [
            "epoch =  127\n",
            "Epoch [126/200], Step [438/438], d_loss: -0.2526, g_loss: -0.9152, D(x): 1.28, D(G(z)): 0.86\n"
          ]
        },
        {
          "output_type": "stream",
          "name": "stderr",
          "text": [
            "Epoch: 128: 100%|██████████| 438/438 [00:21<00:00, 20.34it/s, D_total_loss=-.0827, G_loss=-.955, fake_score=1.06, real_score=1.32]\n",
            "Epoch: 129: 100%|██████████| 438/438 [00:21<00:00, 20.13it/s, D_total_loss=0.38, G_loss=-.931, fake_score=0.992, real_score=1.24]\n"
          ]
        },
        {
          "output_type": "display_data",
          "data": {
            "text/plain": [
              "<IPython.core.display.Image object>"
            ],
            "image/png": "[encoded data removed]"
          },
          "metadata": {}
        },
        {
          "output_type": "display_data",
          "data": {
            "text/plain": [
              "<IPython.core.display.Image object>"
            ],
            "image/png": "[encoded data removed]"
          },
          "metadata": {}
        },
        {
          "output_type": "stream",
          "name": "stdout",
          "text": [
            "epoch =  129\n",
            "Epoch [128/200], Step [438/438], d_loss: 0.3796, g_loss: -0.9313, D(x): 1.24, D(G(z)): 0.99\n"
          ]
        },
        {
          "output_type": "stream",
          "name": "stderr",
          "text": [
            "Epoch: 130: 100%|██████████| 438/438 [00:21<00:00, 20.51it/s, D_total_loss=-.188, G_loss=-.883, fake_score=1.04, real_score=1.29]\n",
            "Epoch: 131: 100%|██████████| 438/438 [00:21<00:00, 20.58it/s, D_total_loss=-.371, G_loss=-.809, fake_score=0.771, real_score=1.46]\n"
          ]
        },
        {
          "output_type": "display_data",
          "data": {
            "text/plain": [
              "<IPython.core.display.Image object>"
            ],
            "image/png": "[encoded data removed]"
          },
          "metadata": {}
        },
        {
          "output_type": "display_data",
          "data": {
            "text/plain": [
              "<IPython.core.display.Image object>"
            ],
            "image/png": "[encoded data removed]"
          },
          "metadata": {}
        },
        {
          "output_type": "stream",
          "name": "stdout",
          "text": [
            "epoch =  131\n",
            "Epoch [130/200], Step [438/438], d_loss: -0.3714, g_loss: -0.8092, D(x): 1.46, D(G(z)): 0.77\n"
          ]
        },
        {
          "output_type": "stream",
          "name": "stderr",
          "text": [
            "Epoch: 132: 100%|██████████| 438/438 [00:21<00:00, 20.56it/s, D_total_loss=-.653, G_loss=-.746, fake_score=0.793, real_score=1.5]\n",
            "Epoch: 133: 100%|██████████| 438/438 [00:21<00:00, 20.38it/s, D_total_loss=-.558, G_loss=-.996, fake_score=0.941, real_score=1.54]\n"
          ]
        },
        {
          "output_type": "display_data",
          "data": {
            "text/plain": [
              "<IPython.core.display.Image object>"
            ],
            "image/png": "[encoded data removed]"
          },
          "metadata": {}
        },
        {
          "output_type": "display_data",
          "data": {
            "text/plain": [
              "<IPython.core.display.Image object>"
            ],
            "image/png": "[encoded data removed]"
          },
          "metadata": {}
        },
        {
          "output_type": "stream",
          "name": "stdout",
          "text": [
            "epoch =  133\n",
            "Epoch [132/200], Step [438/438], d_loss: -0.5582, g_loss: -0.9961, D(x): 1.54, D(G(z)): 0.94\n"
          ]
        },
        {
          "output_type": "stream",
          "name": "stderr",
          "text": [
            "Epoch: 134: 100%|██████████| 438/438 [00:21<00:00, 20.56it/s, D_total_loss=-.162, G_loss=-1.11, fake_score=1.14, real_score=1.42]\n",
            "Epoch: 135: 100%|██████████| 438/438 [00:21<00:00, 20.59it/s, D_total_loss=-.362, G_loss=-1.22, fake_score=1.21, real_score=1.61]\n"
          ]
        },
        {
          "output_type": "display_data",
          "data": {
            "text/plain": [
              "<IPython.core.display.Image object>"
            ],
            "image/png": "[encoded data removed]"
          },
          "metadata": {}
        },
        {
          "output_type": "display_data",
          "data": {
            "text/plain": [
              "<IPython.core.display.Image object>"
            ],
            "image/png": "[encoded data removed]"
          },
          "metadata": {}
        },
        {
          "output_type": "stream",
          "name": "stdout",
          "text": [
            "epoch =  135\n",
            "Epoch [134/200], Step [438/438], d_loss: -0.3618, g_loss: -1.2176, D(x): 1.61, D(G(z)): 1.21\n"
          ]
        },
        {
          "output_type": "stream",
          "name": "stderr",
          "text": [
            "Epoch: 136: 100%|██████████| 438/438 [00:21<00:00, 20.50it/s, D_total_loss=-.193, G_loss=-1.11, fake_score=1.16, real_score=1.47]\n",
            "Epoch: 137: 100%|██████████| 438/438 [00:21<00:00, 20.49it/s, D_total_loss=-.292, G_loss=-.854, fake_score=0.978, real_score=1.31]\n"
          ]
        },
        {
          "output_type": "display_data",
          "data": {
            "text/plain": [
              "<IPython.core.display.Image object>"
            ],
            "image/png": "[encoded data removed]"
          },
          "metadata": {}
        },
        {
          "output_type": "display_data",
          "data": {
            "text/plain": [
              "<IPython.core.display.Image object>"
            ],
            "image/png": "[encoded data removed]"
          },
          "metadata": {}
        },
        {
          "output_type": "stream",
          "name": "stdout",
          "text": [
            "epoch =  137\n",
            "Epoch [136/200], Step [438/438], d_loss: -0.2921, g_loss: -0.8539, D(x): 1.31, D(G(z)): 0.98\n"
          ]
        },
        {
          "output_type": "stream",
          "name": "stderr",
          "text": [
            "Epoch: 138: 100%|██████████| 438/438 [00:21<00:00, 20.41it/s, D_total_loss=1.41, G_loss=-.86, fake_score=0.947, real_score=1.17]\n",
            "Epoch: 139: 100%|██████████| 438/438 [00:21<00:00, 20.53it/s, D_total_loss=-.65, G_loss=-.948, fake_score=0.815, real_score=1.5]\n"
          ]
        },
        {
          "output_type": "display_data",
          "data": {
            "text/plain": [
              "<IPython.core.display.Image object>"
            ],
            "image/png": "[encoded data removed]"
          },
          "metadata": {}
        },
        {
          "output_type": "display_data",
          "data": {
            "text/plain": [
              "<IPython.core.display.Image object>"
            ],
            "image/png": "[encoded data removed]"
          },
          "metadata": {}
        },
        {
          "output_type": "stream",
          "name": "stdout",
          "text": [
            "epoch =  139\n",
            "Epoch [138/200], Step [438/438], d_loss: -0.6497, g_loss: -0.9479, D(x): 1.50, D(G(z)): 0.82\n"
          ]
        },
        {
          "output_type": "stream",
          "name": "stderr",
          "text": [
            "Epoch: 140: 100%|██████████| 438/438 [00:21<00:00, 20.19it/s, D_total_loss=-.211, G_loss=-1.22, fake_score=1.07, real_score=1.65]\n",
            "Epoch: 141: 100%|██████████| 438/438 [00:21<00:00, 20.50it/s, D_total_loss=-.234, G_loss=-1.06, fake_score=1.15, real_score=1.54]\n"
          ]
        },
        {
          "output_type": "display_data",
          "data": {
            "text/plain": [
              "<IPython.core.display.Image object>"
            ],
            "image/png": "[encoded data removed]"
          },
          "metadata": {}
        },
        {
          "output_type": "display_data",
          "data": {
            "text/plain": [
              "<IPython.core.display.Image object>"
            ],
            "image/png": "[encoded data removed]"
          },
          "metadata": {}
        },
        {
          "output_type": "stream",
          "name": "stdout",
          "text": [
            "epoch =  141\n",
            "Epoch [140/200], Step [438/438], d_loss: -0.2342, g_loss: -1.0574, D(x): 1.54, D(G(z)): 1.15\n"
          ]
        },
        {
          "output_type": "stream",
          "name": "stderr",
          "text": [
            "Epoch: 142: 100%|██████████| 438/438 [00:21<00:00, 20.25it/s, D_total_loss=-.52, G_loss=-1.07, fake_score=0.944, real_score=1.5]\n",
            "Epoch: 143: 100%|██████████| 438/438 [00:21<00:00, 20.41it/s, D_total_loss=-.346, G_loss=-.851, fake_score=0.756, real_score=1.18]\n"
          ]
        },
        {
          "output_type": "display_data",
          "data": {
            "text/plain": [
              "<IPython.core.display.Image object>"
            ],
            "image/png": "[encoded data removed]"
          },
          "metadata": {}
        },
        {
          "output_type": "display_data",
          "data": {
            "text/plain": [
              "<IPython.core.display.Image object>"
            ],
            "image/png": "[encoded data removed]"
          },
          "metadata": {}
        },
        {
          "output_type": "stream",
          "name": "stdout",
          "text": [
            "epoch =  143\n",
            "Epoch [142/200], Step [438/438], d_loss: -0.3459, g_loss: -0.8513, D(x): 1.18, D(G(z)): 0.76\n"
          ]
        },
        {
          "output_type": "stream",
          "name": "stderr",
          "text": [
            "Epoch: 144:  75%|███████▍  | 327/438 [00:16<00:05, 20.99it/s, D_total_loss=-.283, G_loss=-.801, fake_score=0.893, real_score=1.28]"
          ]
        }
      ],
      "source": [
        "for i in range(iteration):\n",
        "\n",
        "    p = tqdm(range(total_data_len // batch_size + 1)) # This is a progress bar run on each epoch\n",
        "    \n",
        "    datasets_batched = DataLoader(dataset, batch_size = batch_size)\n",
        "    \n",
        "    loader = iter(datasets_batched)\n",
        "\n",
        "    # real_score = t.Tensor(2)\n",
        "\n",
        "    # fake_score = t.Tensor(2)\n",
        "\n",
        "    # g_fake_loss = t.Tensor([2])\n",
        "\n",
        "    # g_total_loss = 0\n",
        "\n",
        "    d_step = 0\n",
        "\n",
        "    for j in p:\n",
        "        \n",
        "\n",
        "        batchNum = str(i+1)\n",
        "        \n",
        "        #Training the D\n",
        "        #real data\n",
        "        real = next(loader).to(device)\n",
        "\n",
        "        #current_batch size (the last batch is different than others)\n",
        "        current_batch_size, c, h, w = real.shape\n",
        "        #labels\n",
        "        label_real = 0.1 * t.randint(7,10,(current_batch_size,1)).type(t.half)\n",
        "        label_fake = 0.1 * t.randint(0,3,(current_batch_size,1)).type(t.half)\n",
        "\n",
        "        real_score = discriminator(real)\n",
        "        d_real_loss = -t.mean(real_score)\n",
        "        \n",
        "        input_noise = t.normal(0, 1, size = (current_batch_size, 1, 1, laten_space)).to(device)\n",
        "        fake = generator(input_noise, current_batch_size)\n",
        "        fake_score = discriminator(fake)\n",
        "\n",
        "        d_fake_loss = t.mean(fake_score)\n",
        "\n",
        "        gradient_penalty = compute_gradient_penalty(discriminator, real, fake, current_batch_size)\n",
        "        \n",
        "        total_loss = d_fake_loss + d_real_loss + gradient_penalty\n",
        "\n",
        "        generator.zero_grad()\n",
        "        discriminator.zero_grad()\n",
        "        total_loss.backward()\n",
        "        D_optimizer.step()\n",
        "\n",
        "        d_step += 1\n",
        "\n",
        "        if d_step == updatD_step:\n",
        "\n",
        "          discriminatorReal.load_state_dict(discriminator.state_dict().copy())\n",
        "\n",
        "\n",
        "\n",
        "\n",
        "        if j % critic == 0:\n",
        "          input_noise = t.normal(0, 1, size = (current_batch_size, 1, 1, laten_space)).to(device)\n",
        "          fake = generator(input_noise, current_batch_size)\n",
        "          fake_score = discriminator(fake)\n",
        "          g_fake_loss = -t.mean(fake_score)\n",
        "          discriminator.zero_grad()\n",
        "          generator.zero_grad()\n",
        "          g_fake_loss.backward()\n",
        "          G_optimizer.step()\n",
        "          discriminator.load_state_dict(discriminatorReal.state_dict().copy())\n",
        "          D_optimizer = t.optim.Adam(discriminator.parameters(), lr = 0.00001)\n",
        "          d_step = 0\n",
        "          \n",
        "\n",
        "        \n",
        "        mse = \"Epoch: \" + batchNum\n",
        "        \n",
        "        p.set_description(mse)\n",
        "            \n",
        "        p.set_postfix(G_loss = g_fake_loss.item(), D_total_loss = total_loss.item(), real_score = real_score.mean().item(), fake_score = fake_score.mean().item())\n",
        "        \n",
        "    if i == 0:\n",
        "        showOneImge(real[0], 99999, True)   \n",
        "    \n",
        "    if i % 2 == 0:\n",
        "      \n",
        "      showOneImge(real[0], 99999, False)\n",
        "      showOneImge(fake[0], i, False)\n",
        "      print(\"epoch = \", i + 1)  \n",
        "      print('Epoch [{}/{}], Step [{}/{}], d_loss: {:.4f}, g_loss: {:.4f}, D(x): {:.2f}, D(G(z)): {:.2f}'.format(i, iteration, j+1, total_data_len // batch_size + 1, total_loss.item(), g_fake_loss.item(), real_score.mean().item(), fake_score.mean().item()))      \n",
        "      \n",
        "\n",
        "    if i % 50 == 0:\n",
        "      t.save(generator.state_dict(), f'{log_folder}/checkpoint/{str(i + 1).zfill(6)}_g.model')\n",
        "      t.save(discriminator.state_dict(), f'{log_folder}/checkpoint/{str(i + 1).zfill(6)}_d.model')\n"
      ]
    },
    {
      "cell_type": "markdown",
      "source": [
        "### Show Result"
      ],
      "metadata": {
        "id": "G899nUbq5miN"
      },
      "id": "G899nUbq5miN"
    },
    {
      "cell_type": "code",
      "source": [
        "\n",
        "\n",
        "#Generated\n",
        "generator.eval()\n",
        "\n",
        "with t.no_grad():\n",
        "  input_noise = t.normal(0, 1, size = (eval_size, 1, 1, laten_space)).to(device)\n",
        "  generated = generator(input_noise, eval_size)\n",
        "  showMoreImages(generated, eval_size)\n",
        "\n",
        "#Real\n",
        "datasets_batched = DataLoader(dataset, batch_size = eval_size)\n",
        "loader = iter(datasets_batched)\n",
        "real = next(loader)\n",
        "showMoreImages(real, eval_size)"
      ],
      "metadata": {
        "id": "xaJSe0r55qSF"
      },
      "id": "xaJSe0r55qSF",
      "execution_count": null,
      "outputs": []
    },
    {
      "cell_type": "markdown",
      "source": [
        "### remove log file when necessarry"
      ],
      "metadata": {
        "id": "QFhYIcFKF76d"
      },
      "id": "QFhYIcFKF76d"
    },
    {
      "cell_type": "code",
      "source": [
        "# !rm -rf /content/log/checkpoint\n",
        "\n",
        "# !mkdir /content/log/checkpoint\n",
        "\n",
        "# !rm -rf /content/log/sample\n",
        "# !mkdir /content/log/sample\n",
        "\n",
        "# from google.colab import files\n",
        "# files.download('/content/log') "
      ],
      "metadata": {
        "id": "ERTMUfeIFrp3"
      },
      "id": "ERTMUfeIFrp3",
      "execution_count": null,
      "outputs": []
    },
    {
      "cell_type": "code",
      "source": [
        ""
      ],
      "metadata": {
        "id": "exU4K1fh3qBG"
      },
      "id": "exU4K1fh3qBG",
      "execution_count": null,
      "outputs": []
    }
  ],
  "metadata": {
    "kernelspec": {
      "display_name": "Python 3 (ipykernel)",
      "language": "python",
      "name": "python3"
    },
    "language_info": {
      "codemirror_mode": {
        "name": "ipython",
        "version": 3
      },
      "file_extension": ".py",
      "mimetype": "text/x-python",
      "name": "python",
      "nbconvert_exporter": "python",
      "pygments_lexer": "ipython3",
      "version": "3.9.10"
    },
    "colab": {
      "name": "64_cele_small_try.ipynb",
      "provenance": [],
      "collapsed_sections": [],
      "include_colab_link": true
    },
    "accelerator": "GPU"
  },
  "nbformat": 4,
  "nbformat_minor": 5
}